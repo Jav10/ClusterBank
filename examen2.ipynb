{
 "cells": [
  {
   "cell_type": "code",
   "execution_count": 1,
   "metadata": {
    "ExecuteTime": {
     "end_time": "2021-02-08T17:48:38.139013Z",
     "start_time": "2021-02-08T17:48:35.704969Z"
    }
   },
   "outputs": [
    {
     "name": "stderr",
     "output_type": "stream",
     "text": [
      "c:\\python37\\lib\\site-packages\\requests\\__init__.py:91: RequestsDependencyWarning:\n",
      "\n",
      "urllib3 (1.26.2) or chardet (3.0.4) doesn't match a supported version!\n",
      "\n"
     ]
    },
    {
     "data": {
      "text/html": [
       "        <script type=\"text/javascript\">\n",
       "        window.PlotlyConfig = {MathJaxConfig: 'local'};\n",
       "        if (window.MathJax) {MathJax.Hub.Config({SVG: {font: \"STIX-Web\"}});}\n",
       "        if (typeof require !== 'undefined') {\n",
       "        require.undef(\"plotly\");\n",
       "        requirejs.config({\n",
       "            paths: {\n",
       "                'plotly': ['https://cdn.plot.ly/plotly-latest.min']\n",
       "            }\n",
       "        });\n",
       "        require(['plotly'], function(Plotly) {\n",
       "            window._Plotly = Plotly;\n",
       "        });\n",
       "        }\n",
       "        </script>\n",
       "        "
      ]
     },
     "metadata": {},
     "output_type": "display_data"
    }
   ],
   "source": [
    "import re\n",
    "import numpy as np\n",
    "import pandas as pd\n",
    "import seaborn as sns\n",
    "import cufflinks as cf\n",
    "import missingno as msno\n",
    "import matplotlib.pyplot as plt\n",
    "from nltk.corpus import stopwords\n",
    "import scipy.cluster.hierarchy as sch\n",
    "from sklearn.decomposition import PCA\n",
    "from sklearn.manifold import TSNE, MDS\n",
    "from sklearn.metrics import confusion_matrix\n",
    "from sklearn.neighbors import DistanceMetric\n",
    "from sklearn.cluster import AgglomerativeClustering\n",
    "from sklearn.preprocessing import MinMaxScaler, StandardScaler, RobustScaler\n",
    "from sklearn.feature_extraction.text import CountVectorizer, TfidfVectorizer\n",
    "\n",
    "%matplotlib inline\n",
    "cf.go_offline()\n",
    "pd.set_option('display.max_rows', 60)\n",
    "# pd.set_option('precision', 5)\n",
    "pd.set_option('display.float_format', lambda x: \"{:,.4f}\".format(x))\n",
    "pd.set_option('display.max_columns', 100)"
   ]
  },
  {
   "cell_type": "markdown",
   "metadata": {},
   "source": [
    "# Obtener datos"
   ]
  },
  {
   "cell_type": "code",
   "execution_count": 2,
   "metadata": {
    "ExecuteTime": {
     "end_time": "2021-02-08T17:48:38.215363Z",
     "start_time": "2021-02-08T17:48:38.190329Z"
    }
   },
   "outputs": [],
   "source": [
    "client = pd.read_csv(\"datos/client.asc\", sep=\";\")"
   ]
  },
  {
   "cell_type": "code",
   "execution_count": 118,
   "metadata": {
    "ExecuteTime": {
     "end_time": "2021-02-08T23:25:33.263087Z",
     "start_time": "2021-02-08T23:25:33.242876Z"
    }
   },
   "outputs": [],
   "source": [
    "account = pd.read_csv(\"datos/account.asc\", sep=\";\")"
   ]
  },
  {
   "cell_type": "code",
   "execution_count": 4,
   "metadata": {
    "ExecuteTime": {
     "end_time": "2021-02-08T17:48:38.374784Z",
     "start_time": "2021-02-08T17:48:38.354021Z"
    }
   },
   "outputs": [],
   "source": [
    "district = pd.read_csv(\"datos/district.asc\", sep=\";\")"
   ]
  },
  {
   "cell_type": "code",
   "execution_count": 5,
   "metadata": {
    "ExecuteTime": {
     "end_time": "2021-02-08T17:48:38.490652Z",
     "start_time": "2021-02-08T17:48:38.475029Z"
    }
   },
   "outputs": [],
   "source": [
    "card = pd.read_csv(\"datos/card.asc\", sep=\";\")"
   ]
  },
  {
   "cell_type": "code",
   "execution_count": 6,
   "metadata": {
    "ExecuteTime": {
     "end_time": "2021-02-08T17:48:38.630192Z",
     "start_time": "2021-02-08T17:48:38.610053Z"
    }
   },
   "outputs": [],
   "source": [
    "disp = pd.read_csv(\"datos/disp.asc\", sep=\";\")"
   ]
  },
  {
   "cell_type": "code",
   "execution_count": 7,
   "metadata": {
    "ExecuteTime": {
     "end_time": "2021-02-08T17:48:38.771694Z",
     "start_time": "2021-02-08T17:48:38.756071Z"
    }
   },
   "outputs": [],
   "source": [
    "loan = pd.read_csv(\"datos/loan.asc\", sep=\";\")"
   ]
  },
  {
   "cell_type": "code",
   "execution_count": 51,
   "metadata": {
    "ExecuteTime": {
     "end_time": "2021-02-08T18:59:47.532657Z",
     "start_time": "2021-02-08T18:59:47.510412Z"
    }
   },
   "outputs": [],
   "source": [
    "order = pd.read_csv(\"datos/order.asc\", sep=\";\")"
   ]
  },
  {
   "cell_type": "code",
   "execution_count": 105,
   "metadata": {
    "ExecuteTime": {
     "end_time": "2021-02-08T23:23:39.723894Z",
     "start_time": "2021-02-08T23:23:38.605339Z"
    }
   },
   "outputs": [],
   "source": [
    "trans = pd.read_csv(\"datos/trans.asc\", sep=\";\",low_memory=False)"
   ]
  },
  {
   "cell_type": "code",
   "execution_count": null,
   "metadata": {},
   "outputs": [],
   "source": [
    "client - información\n",
    "account - información cuenta\n",
    "district - información distrito\n",
    "card - tarjetas\n",
    "disp - derechos de los clientes para usar cuenta - propietario/usuario\n",
    "loan - prestamos\n",
    "order - ordenes permanetes pagos fijos\n",
    "trans - transacciones"
   ]
  },
  {
   "cell_type": "markdown",
   "metadata": {},
   "source": [
    "# Funciones"
   ]
  },
  {
   "cell_type": "code",
   "execution_count": 10,
   "metadata": {
    "ExecuteTime": {
     "end_time": "2021-02-08T17:48:42.927623Z",
     "start_time": "2021-02-08T17:48:42.919560Z"
    }
   },
   "outputs": [],
   "source": [
    "def genero(x):\n",
    "    n = int(x[2:4])\n",
    "    if(n>12):\n",
    "        return 'M'\n",
    "    else:\n",
    "        return 'H'"
   ]
  },
  {
   "cell_type": "code",
   "execution_count": 11,
   "metadata": {
    "ExecuteTime": {
     "end_time": "2021-02-08T17:48:43.252317Z",
     "start_time": "2021-02-08T17:48:43.244290Z"
    }
   },
   "outputs": [],
   "source": [
    "def date_genre(x):\n",
    "    x = list(x)\n",
    "    n = int(''.join(x[2:4]))\n",
    "    if(n>12):\n",
    "        n = n-50\n",
    "        if(n<=9):\n",
    "            x[2]='0'\n",
    "            x[3]=str(n)\n",
    "        else:\n",
    "            n = str(n)\n",
    "            x[2:4] = n[:]\n",
    "        return ''.join(x)\n",
    "    else:\n",
    "        return ''.join(x)"
   ]
  },
  {
   "cell_type": "code",
   "execution_count": null,
   "metadata": {
    "ExecuteTime": {
     "end_time": "2021-02-07T17:06:26.250695Z",
     "start_time": "2021-02-07T17:06:26.245373Z"
    }
   },
   "outputs": [],
   "source": [
    "x = \"706213\""
   ]
  },
  {
   "cell_type": "code",
   "execution_count": null,
   "metadata": {
    "ExecuteTime": {
     "end_time": "2021-02-07T17:10:44.827318Z",
     "start_time": "2021-02-07T17:10:44.822643Z"
    }
   },
   "outputs": [],
   "source": [
    "x[2:4]"
   ]
  },
  {
   "cell_type": "code",
   "execution_count": null,
   "metadata": {
    "ExecuteTime": {
     "end_time": "2021-02-07T17:06:26.773184Z",
     "start_time": "2021-02-07T17:06:26.768192Z"
    }
   },
   "outputs": [],
   "source": [
    "date_genre(x)"
   ]
  },
  {
   "cell_type": "code",
   "execution_count": null,
   "metadata": {
    "ExecuteTime": {
     "end_time": "2021-02-07T16:52:27.657731Z",
     "start_time": "2021-02-07T16:52:27.648836Z"
    }
   },
   "outputs": [],
   "source": [
    "genero(x)"
   ]
  },
  {
   "cell_type": "markdown",
   "metadata": {},
   "source": [
    "# Información de las tablas"
   ]
  },
  {
   "cell_type": "markdown",
   "metadata": {
    "ExecuteTime": {
     "end_time": "2021-02-07T17:43:42.360453Z",
     "start_time": "2021-02-07T17:43:42.355167Z"
    }
   },
   "source": [
    "## Client"
   ]
  },
  {
   "cell_type": "code",
   "execution_count": 12,
   "metadata": {
    "ExecuteTime": {
     "end_time": "2021-02-08T17:48:55.925945Z",
     "start_time": "2021-02-08T17:48:55.895332Z"
    }
   },
   "outputs": [
    {
     "data": {
      "text/html": [
       "<div>\n",
       "<style scoped>\n",
       "    .dataframe tbody tr th:only-of-type {\n",
       "        vertical-align: middle;\n",
       "    }\n",
       "\n",
       "    .dataframe tbody tr th {\n",
       "        vertical-align: top;\n",
       "    }\n",
       "\n",
       "    .dataframe thead th {\n",
       "        text-align: right;\n",
       "    }\n",
       "</style>\n",
       "<table border=\"1\" class=\"dataframe\">\n",
       "  <thead>\n",
       "    <tr style=\"text-align: right;\">\n",
       "      <th></th>\n",
       "      <th>client_id</th>\n",
       "      <th>birth_number</th>\n",
       "      <th>district_id</th>\n",
       "    </tr>\n",
       "  </thead>\n",
       "  <tbody>\n",
       "    <tr>\n",
       "      <th>0</th>\n",
       "      <td>1</td>\n",
       "      <td>706213</td>\n",
       "      <td>18</td>\n",
       "    </tr>\n",
       "    <tr>\n",
       "      <th>1</th>\n",
       "      <td>2</td>\n",
       "      <td>450204</td>\n",
       "      <td>1</td>\n",
       "    </tr>\n",
       "  </tbody>\n",
       "</table>\n",
       "</div>"
      ],
      "text/plain": [
       "   client_id  birth_number  district_id\n",
       "0          1        706213           18\n",
       "1          2        450204            1"
      ]
     },
     "execution_count": 12,
     "metadata": {},
     "output_type": "execute_result"
    }
   ],
   "source": [
    "client.head(2)"
   ]
  },
  {
   "cell_type": "code",
   "execution_count": null,
   "metadata": {
    "ExecuteTime": {
     "end_time": "2021-02-07T17:23:56.059167Z",
     "start_time": "2021-02-07T17:23:56.049269Z"
    }
   },
   "outputs": [],
   "source": [
    "client.info()"
   ]
  },
  {
   "cell_type": "code",
   "execution_count": 13,
   "metadata": {
    "ExecuteTime": {
     "end_time": "2021-02-08T17:48:59.359018Z",
     "start_time": "2021-02-08T17:48:59.344226Z"
    }
   },
   "outputs": [],
   "source": [
    "client['birth_number'] = client['birth_number'].astype(str)"
   ]
  },
  {
   "cell_type": "code",
   "execution_count": 14,
   "metadata": {
    "ExecuteTime": {
     "end_time": "2021-02-08T17:48:59.697491Z",
     "start_time": "2021-02-08T17:48:59.669061Z"
    }
   },
   "outputs": [],
   "source": [
    "client['genre'] = client['birth_number'].map(genero)"
   ]
  },
  {
   "cell_type": "code",
   "execution_count": 15,
   "metadata": {
    "ExecuteTime": {
     "end_time": "2021-02-08T17:48:59.937328Z",
     "start_time": "2021-02-08T17:48:59.919783Z"
    }
   },
   "outputs": [],
   "source": [
    "client['birth'] = client['birth_number'].map(date_genre)"
   ]
  },
  {
   "cell_type": "code",
   "execution_count": 16,
   "metadata": {
    "ExecuteTime": {
     "end_time": "2021-02-08T17:49:00.263356Z",
     "start_time": "2021-02-08T17:49:00.234999Z"
    }
   },
   "outputs": [],
   "source": [
    "client['birth'] = '19'+client['birth']"
   ]
  },
  {
   "cell_type": "code",
   "execution_count": 17,
   "metadata": {
    "ExecuteTime": {
     "end_time": "2021-02-08T17:49:00.586778Z",
     "start_time": "2021-02-08T17:49:00.577082Z"
    }
   },
   "outputs": [],
   "source": [
    "client['birth']=pd.to_datetime(client['birth'], format=\"%Y%m%d\")"
   ]
  },
  {
   "cell_type": "code",
   "execution_count": 18,
   "metadata": {
    "ExecuteTime": {
     "end_time": "2021-02-08T17:49:03.085997Z",
     "start_time": "2021-02-08T17:49:03.057806Z"
    }
   },
   "outputs": [],
   "source": [
    "client['diff'] = '19990101'\n",
    "client['diff']=pd.to_datetime(client['diff'], format=\"%Y%m%d\")"
   ]
  },
  {
   "cell_type": "code",
   "execution_count": 19,
   "metadata": {
    "ExecuteTime": {
     "end_time": "2021-02-08T17:49:03.369713Z",
     "start_time": "2021-02-08T17:49:03.341437Z"
    }
   },
   "outputs": [],
   "source": [
    "client['age'] = (client['diff'] - client['birth']).dt.days/365.2425"
   ]
  },
  {
   "cell_type": "code",
   "execution_count": 20,
   "metadata": {
    "ExecuteTime": {
     "end_time": "2021-02-08T17:49:03.714731Z",
     "start_time": "2021-02-08T17:49:03.686397Z"
    }
   },
   "outputs": [],
   "source": [
    "client['age'] = client['age'].astype(int)"
   ]
  },
  {
   "cell_type": "code",
   "execution_count": 21,
   "metadata": {
    "ExecuteTime": {
     "end_time": "2021-02-08T17:49:08.540031Z",
     "start_time": "2021-02-08T17:49:08.511795Z"
    }
   },
   "outputs": [
    {
     "data": {
      "text/html": [
       "<div>\n",
       "<style scoped>\n",
       "    .dataframe tbody tr th:only-of-type {\n",
       "        vertical-align: middle;\n",
       "    }\n",
       "\n",
       "    .dataframe tbody tr th {\n",
       "        vertical-align: top;\n",
       "    }\n",
       "\n",
       "    .dataframe thead th {\n",
       "        text-align: right;\n",
       "    }\n",
       "</style>\n",
       "<table border=\"1\" class=\"dataframe\">\n",
       "  <thead>\n",
       "    <tr style=\"text-align: right;\">\n",
       "      <th></th>\n",
       "      <th>client_id</th>\n",
       "      <th>birth_number</th>\n",
       "      <th>district_id</th>\n",
       "      <th>genre</th>\n",
       "      <th>birth</th>\n",
       "      <th>diff</th>\n",
       "      <th>age</th>\n",
       "    </tr>\n",
       "  </thead>\n",
       "  <tbody>\n",
       "    <tr>\n",
       "      <th>0</th>\n",
       "      <td>1</td>\n",
       "      <td>706213</td>\n",
       "      <td>18</td>\n",
       "      <td>M</td>\n",
       "      <td>1970-12-13</td>\n",
       "      <td>1999-01-01</td>\n",
       "      <td>28</td>\n",
       "    </tr>\n",
       "    <tr>\n",
       "      <th>1</th>\n",
       "      <td>2</td>\n",
       "      <td>450204</td>\n",
       "      <td>1</td>\n",
       "      <td>H</td>\n",
       "      <td>1945-02-04</td>\n",
       "      <td>1999-01-01</td>\n",
       "      <td>53</td>\n",
       "    </tr>\n",
       "    <tr>\n",
       "      <th>2</th>\n",
       "      <td>3</td>\n",
       "      <td>406009</td>\n",
       "      <td>1</td>\n",
       "      <td>M</td>\n",
       "      <td>1940-10-09</td>\n",
       "      <td>1999-01-01</td>\n",
       "      <td>58</td>\n",
       "    </tr>\n",
       "  </tbody>\n",
       "</table>\n",
       "</div>"
      ],
      "text/plain": [
       "   client_id birth_number  district_id genre      birth       diff  age\n",
       "0          1       706213           18     M 1970-12-13 1999-01-01   28\n",
       "1          2       450204            1     H 1945-02-04 1999-01-01   53\n",
       "2          3       406009            1     M 1940-10-09 1999-01-01   58"
      ]
     },
     "execution_count": 21,
     "metadata": {},
     "output_type": "execute_result"
    }
   ],
   "source": [
    "client.head(3)"
   ]
  },
  {
   "cell_type": "markdown",
   "metadata": {},
   "source": [
    "## District "
   ]
  },
  {
   "cell_type": "code",
   "execution_count": 22,
   "metadata": {
    "ExecuteTime": {
     "end_time": "2021-02-08T18:17:58.534603Z",
     "start_time": "2021-02-08T18:17:58.514468Z"
    }
   },
   "outputs": [
    {
     "name": "stdout",
     "output_type": "stream",
     "text": [
      "<class 'pandas.core.frame.DataFrame'>\n",
      "RangeIndex: 77 entries, 0 to 76\n",
      "Data columns (total 16 columns):\n",
      " #   Column  Non-Null Count  Dtype  \n",
      "---  ------  --------------  -----  \n",
      " 0   A1      77 non-null     int64  \n",
      " 1   A2      77 non-null     object \n",
      " 2   A3      77 non-null     object \n",
      " 3   A4      77 non-null     int64  \n",
      " 4   A5      77 non-null     int64  \n",
      " 5   A6      77 non-null     int64  \n",
      " 6   A7      77 non-null     int64  \n",
      " 7   A8      77 non-null     int64  \n",
      " 8   A9      77 non-null     int64  \n",
      " 9   A10     77 non-null     float64\n",
      " 10  A11     77 non-null     int64  \n",
      " 11  A12     77 non-null     object \n",
      " 12  A13     77 non-null     float64\n",
      " 13  A14     77 non-null     int64  \n",
      " 14  A15     77 non-null     object \n",
      " 15  A16     77 non-null     int64  \n",
      "dtypes: float64(2), int64(10), object(4)\n",
      "memory usage: 9.8+ KB\n"
     ]
    }
   ],
   "source": [
    "district.info()"
   ]
  },
  {
   "cell_type": "code",
   "execution_count": 143,
   "metadata": {
    "ExecuteTime": {
     "end_time": "2021-02-09T00:30:38.629791Z",
     "start_time": "2021-02-09T00:30:38.609542Z"
    }
   },
   "outputs": [
    {
     "data": {
      "text/html": [
       "<div>\n",
       "<style scoped>\n",
       "    .dataframe tbody tr th:only-of-type {\n",
       "        vertical-align: middle;\n",
       "    }\n",
       "\n",
       "    .dataframe tbody tr th {\n",
       "        vertical-align: top;\n",
       "    }\n",
       "\n",
       "    .dataframe thead th {\n",
       "        text-align: right;\n",
       "    }\n",
       "</style>\n",
       "<table border=\"1\" class=\"dataframe\">\n",
       "  <thead>\n",
       "    <tr style=\"text-align: right;\">\n",
       "      <th></th>\n",
       "      <th>district_id</th>\n",
       "      <th>nombre_distrito</th>\n",
       "      <th>region</th>\n",
       "      <th>no_habitantes</th>\n",
       "      <th>no_municipios_con_habitantes&lt;499</th>\n",
       "      <th>no_municipios_con_habitantes500-1999</th>\n",
       "      <th>no_municipios_con_habitantes_2000-9999</th>\n",
       "      <th>no_municipios_con_habitantes&gt;10000</th>\n",
       "      <th>no_ciudades</th>\n",
       "      <th>ratio_habitantes_urbanos</th>\n",
       "      <th>salario_promedio</th>\n",
       "      <th>tasa_desempleo_1995</th>\n",
       "      <th>tasa_desempleo_1996</th>\n",
       "      <th>no_emprendedores_por_1000_habitantes</th>\n",
       "      <th>numero_delitos_cometidos_1995</th>\n",
       "      <th>numero_delitos_cometidos_1996</th>\n",
       "    </tr>\n",
       "  </thead>\n",
       "  <tbody>\n",
       "    <tr>\n",
       "      <th>0</th>\n",
       "      <td>1</td>\n",
       "      <td>Hl.m. Praha</td>\n",
       "      <td>Prague</td>\n",
       "      <td>1204953</td>\n",
       "      <td>0</td>\n",
       "      <td>0</td>\n",
       "      <td>0</td>\n",
       "      <td>1</td>\n",
       "      <td>1</td>\n",
       "      <td>100.0000</td>\n",
       "      <td>12541</td>\n",
       "      <td>0.29</td>\n",
       "      <td>0.4300</td>\n",
       "      <td>167</td>\n",
       "      <td>85677</td>\n",
       "      <td>99107</td>\n",
       "    </tr>\n",
       "    <tr>\n",
       "      <th>1</th>\n",
       "      <td>2</td>\n",
       "      <td>Benesov</td>\n",
       "      <td>central Bohemia</td>\n",
       "      <td>88884</td>\n",
       "      <td>80</td>\n",
       "      <td>26</td>\n",
       "      <td>6</td>\n",
       "      <td>2</td>\n",
       "      <td>5</td>\n",
       "      <td>46.7000</td>\n",
       "      <td>8507</td>\n",
       "      <td>1.67</td>\n",
       "      <td>1.8500</td>\n",
       "      <td>132</td>\n",
       "      <td>2159</td>\n",
       "      <td>2674</td>\n",
       "    </tr>\n",
       "    <tr>\n",
       "      <th>2</th>\n",
       "      <td>3</td>\n",
       "      <td>Beroun</td>\n",
       "      <td>central Bohemia</td>\n",
       "      <td>75232</td>\n",
       "      <td>55</td>\n",
       "      <td>26</td>\n",
       "      <td>4</td>\n",
       "      <td>1</td>\n",
       "      <td>5</td>\n",
       "      <td>41.7000</td>\n",
       "      <td>8980</td>\n",
       "      <td>1.95</td>\n",
       "      <td>2.2100</td>\n",
       "      <td>111</td>\n",
       "      <td>2824</td>\n",
       "      <td>2813</td>\n",
       "    </tr>\n",
       "    <tr>\n",
       "      <th>3</th>\n",
       "      <td>4</td>\n",
       "      <td>Kladno</td>\n",
       "      <td>central Bohemia</td>\n",
       "      <td>149893</td>\n",
       "      <td>63</td>\n",
       "      <td>29</td>\n",
       "      <td>6</td>\n",
       "      <td>2</td>\n",
       "      <td>6</td>\n",
       "      <td>67.4000</td>\n",
       "      <td>9753</td>\n",
       "      <td>4.64</td>\n",
       "      <td>5.0500</td>\n",
       "      <td>109</td>\n",
       "      <td>5244</td>\n",
       "      <td>5892</td>\n",
       "    </tr>\n",
       "    <tr>\n",
       "      <th>4</th>\n",
       "      <td>5</td>\n",
       "      <td>Kolin</td>\n",
       "      <td>central Bohemia</td>\n",
       "      <td>95616</td>\n",
       "      <td>65</td>\n",
       "      <td>30</td>\n",
       "      <td>4</td>\n",
       "      <td>1</td>\n",
       "      <td>6</td>\n",
       "      <td>51.4000</td>\n",
       "      <td>9307</td>\n",
       "      <td>3.85</td>\n",
       "      <td>4.4300</td>\n",
       "      <td>118</td>\n",
       "      <td>2616</td>\n",
       "      <td>3040</td>\n",
       "    </tr>\n",
       "  </tbody>\n",
       "</table>\n",
       "</div>"
      ],
      "text/plain": [
       "   district_id nombre_distrito           region  no_habitantes  \\\n",
       "0            1     Hl.m. Praha           Prague        1204953   \n",
       "1            2         Benesov  central Bohemia          88884   \n",
       "2            3          Beroun  central Bohemia          75232   \n",
       "3            4          Kladno  central Bohemia         149893   \n",
       "4            5           Kolin  central Bohemia          95616   \n",
       "\n",
       "   no_municipios_con_habitantes<499  no_municipios_con_habitantes500-1999  \\\n",
       "0                                 0                                     0   \n",
       "1                                80                                    26   \n",
       "2                                55                                    26   \n",
       "3                                63                                    29   \n",
       "4                                65                                    30   \n",
       "\n",
       "   no_municipios_con_habitantes_2000-9999  no_municipios_con_habitantes>10000  \\\n",
       "0                                       0                                   1   \n",
       "1                                       6                                   2   \n",
       "2                                       4                                   1   \n",
       "3                                       6                                   2   \n",
       "4                                       4                                   1   \n",
       "\n",
       "   no_ciudades  ratio_habitantes_urbanos  salario_promedio  \\\n",
       "0            1                  100.0000             12541   \n",
       "1            5                   46.7000              8507   \n",
       "2            5                   41.7000              8980   \n",
       "3            6                   67.4000              9753   \n",
       "4            6                   51.4000              9307   \n",
       "\n",
       "  tasa_desempleo_1995  tasa_desempleo_1996  \\\n",
       "0                0.29               0.4300   \n",
       "1                1.67               1.8500   \n",
       "2                1.95               2.2100   \n",
       "3                4.64               5.0500   \n",
       "4                3.85               4.4300   \n",
       "\n",
       "   no_emprendedores_por_1000_habitantes numero_delitos_cometidos_1995  \\\n",
       "0                                   167                         85677   \n",
       "1                                   132                          2159   \n",
       "2                                   111                          2824   \n",
       "3                                   109                          5244   \n",
       "4                                   118                          2616   \n",
       "\n",
       "   numero_delitos_cometidos_1996  \n",
       "0                          99107  \n",
       "1                           2674  \n",
       "2                           2813  \n",
       "3                           5892  \n",
       "4                           3040  "
      ]
     },
     "execution_count": 143,
     "metadata": {},
     "output_type": "execute_result"
    }
   ],
   "source": [
    "district.head(5)"
   ]
  },
  {
   "cell_type": "code",
   "execution_count": 142,
   "metadata": {
    "ExecuteTime": {
     "end_time": "2021-02-09T00:30:35.635778Z",
     "start_time": "2021-02-09T00:30:35.627753Z"
    }
   },
   "outputs": [],
   "source": [
    "district.columns = [\"district_id\",\"nombre_distrito\",\"region\",\"no_habitantes\",\"no_municipios_con_habitantes<499\",\n",
    "                    \"no_municipios_con_habitantes500-1999\",\"no_municipios_con_habitantes_2000-9999\",\n",
    "                    \"no_municipios_con_habitantes>10000\",\"no_ciudades\",\"ratio_habitantes_urbanos\",\"salario_promedio\",\n",
    "                    \"tasa_desempleo_1995\",\"tasa_desempleo_1996\",\"no_emprendedores_por_1000_habitantes\",\n",
    "                    \"numero_delitos_cometidos_1995\",\"numero_delitos_cometidos_1996\"]"
   ]
  },
  {
   "cell_type": "markdown",
   "metadata": {},
   "source": [
    "## Card"
   ]
  },
  {
   "cell_type": "code",
   "execution_count": 144,
   "metadata": {
    "ExecuteTime": {
     "end_time": "2021-02-09T00:31:15.065808Z",
     "start_time": "2021-02-09T00:31:15.047742Z"
    }
   },
   "outputs": [
    {
     "name": "stdout",
     "output_type": "stream",
     "text": [
      "<class 'pandas.core.frame.DataFrame'>\n",
      "RangeIndex: 892 entries, 0 to 891\n",
      "Data columns (total 5 columns):\n",
      " #   Column   Non-Null Count  Dtype         \n",
      "---  ------   --------------  -----         \n",
      " 0   card_id  892 non-null    int64         \n",
      " 1   disp_id  892 non-null    int64         \n",
      " 2   type     892 non-null    object        \n",
      " 3   issued   892 non-null    object        \n",
      " 4   date     892 non-null    datetime64[ns]\n",
      "dtypes: datetime64[ns](1), int64(2), object(2)\n",
      "memory usage: 35.0+ KB\n"
     ]
    }
   ],
   "source": [
    "card.info()"
   ]
  },
  {
   "cell_type": "code",
   "execution_count": 145,
   "metadata": {
    "ExecuteTime": {
     "end_time": "2021-02-09T00:31:18.378204Z",
     "start_time": "2021-02-09T00:31:18.349650Z"
    }
   },
   "outputs": [
    {
     "data": {
      "text/html": [
       "<div>\n",
       "<style scoped>\n",
       "    .dataframe tbody tr th:only-of-type {\n",
       "        vertical-align: middle;\n",
       "    }\n",
       "\n",
       "    .dataframe tbody tr th {\n",
       "        vertical-align: top;\n",
       "    }\n",
       "\n",
       "    .dataframe thead th {\n",
       "        text-align: right;\n",
       "    }\n",
       "</style>\n",
       "<table border=\"1\" class=\"dataframe\">\n",
       "  <thead>\n",
       "    <tr style=\"text-align: right;\">\n",
       "      <th></th>\n",
       "      <th>card_id</th>\n",
       "      <th>disp_id</th>\n",
       "      <th>type</th>\n",
       "      <th>issued</th>\n",
       "      <th>date</th>\n",
       "    </tr>\n",
       "  </thead>\n",
       "  <tbody>\n",
       "    <tr>\n",
       "      <th>0</th>\n",
       "      <td>1005</td>\n",
       "      <td>9285</td>\n",
       "      <td>classic</td>\n",
       "      <td>931107 00:00:00</td>\n",
       "      <td>1993-11-07</td>\n",
       "    </tr>\n",
       "    <tr>\n",
       "      <th>1</th>\n",
       "      <td>104</td>\n",
       "      <td>588</td>\n",
       "      <td>classic</td>\n",
       "      <td>940119 00:00:00</td>\n",
       "      <td>1994-01-19</td>\n",
       "    </tr>\n",
       "  </tbody>\n",
       "</table>\n",
       "</div>"
      ],
      "text/plain": [
       "   card_id  disp_id     type           issued       date\n",
       "0     1005     9285  classic  931107 00:00:00 1993-11-07\n",
       "1      104      588  classic  940119 00:00:00 1994-01-19"
      ]
     },
     "execution_count": 145,
     "metadata": {},
     "output_type": "execute_result"
    }
   ],
   "source": [
    "card.head(2)"
   ]
  },
  {
   "cell_type": "code",
   "execution_count": 26,
   "metadata": {
    "ExecuteTime": {
     "end_time": "2021-02-08T18:18:10.314476Z",
     "start_time": "2021-02-08T18:18:10.296280Z"
    }
   },
   "outputs": [],
   "source": [
    "card['date'] = card['issued'].str.extract(r'([0-9]{6})')"
   ]
  },
  {
   "cell_type": "code",
   "execution_count": 27,
   "metadata": {
    "ExecuteTime": {
     "end_time": "2021-02-08T18:18:10.576132Z",
     "start_time": "2021-02-08T18:18:10.556201Z"
    }
   },
   "outputs": [],
   "source": [
    "card['date'] = '19'+card['date']\n",
    "card['date'] = pd.to_datetime(card['date'], format=\"%Y%m%d\")"
   ]
  },
  {
   "cell_type": "markdown",
   "metadata": {},
   "source": [
    "## Disposition"
   ]
  },
  {
   "cell_type": "code",
   "execution_count": 28,
   "metadata": {
    "ExecuteTime": {
     "end_time": "2021-02-08T18:18:16.933558Z",
     "start_time": "2021-02-08T18:18:16.919647Z"
    }
   },
   "outputs": [
    {
     "data": {
      "text/html": [
       "<div>\n",
       "<style scoped>\n",
       "    .dataframe tbody tr th:only-of-type {\n",
       "        vertical-align: middle;\n",
       "    }\n",
       "\n",
       "    .dataframe tbody tr th {\n",
       "        vertical-align: top;\n",
       "    }\n",
       "\n",
       "    .dataframe thead th {\n",
       "        text-align: right;\n",
       "    }\n",
       "</style>\n",
       "<table border=\"1\" class=\"dataframe\">\n",
       "  <thead>\n",
       "    <tr style=\"text-align: right;\">\n",
       "      <th></th>\n",
       "      <th>disp_id</th>\n",
       "      <th>client_id</th>\n",
       "      <th>account_id</th>\n",
       "      <th>type</th>\n",
       "    </tr>\n",
       "  </thead>\n",
       "  <tbody>\n",
       "    <tr>\n",
       "      <th>0</th>\n",
       "      <td>1</td>\n",
       "      <td>1</td>\n",
       "      <td>1</td>\n",
       "      <td>OWNER</td>\n",
       "    </tr>\n",
       "    <tr>\n",
       "      <th>1</th>\n",
       "      <td>2</td>\n",
       "      <td>2</td>\n",
       "      <td>2</td>\n",
       "      <td>OWNER</td>\n",
       "    </tr>\n",
       "    <tr>\n",
       "      <th>2</th>\n",
       "      <td>3</td>\n",
       "      <td>3</td>\n",
       "      <td>2</td>\n",
       "      <td>DISPONENT</td>\n",
       "    </tr>\n",
       "  </tbody>\n",
       "</table>\n",
       "</div>"
      ],
      "text/plain": [
       "   disp_id  client_id  account_id       type\n",
       "0        1          1           1      OWNER\n",
       "1        2          2           2      OWNER\n",
       "2        3          3           2  DISPONENT"
      ]
     },
     "execution_count": 28,
     "metadata": {},
     "output_type": "execute_result"
    }
   ],
   "source": [
    "disp.head(3)"
   ]
  },
  {
   "cell_type": "code",
   "execution_count": 36,
   "metadata": {
    "ExecuteTime": {
     "end_time": "2021-02-08T18:22:44.196801Z",
     "start_time": "2021-02-08T18:22:44.186398Z"
    }
   },
   "outputs": [],
   "source": [
    "disp_ = disp.groupby(['account_id'])['disp_id'].count().reset_index()#.sort_values(by='disp_id')"
   ]
  },
  {
   "cell_type": "code",
   "execution_count": 38,
   "metadata": {
    "ExecuteTime": {
     "end_time": "2021-02-08T18:23:23.123587Z",
     "start_time": "2021-02-08T18:23:23.095383Z"
    }
   },
   "outputs": [],
   "source": [
    "disp_.columns = ['account_id','disp_count']"
   ]
  },
  {
   "cell_type": "code",
   "execution_count": 39,
   "metadata": {
    "ExecuteTime": {
     "end_time": "2021-02-08T18:23:28.132467Z",
     "start_time": "2021-02-08T18:23:28.112352Z"
    }
   },
   "outputs": [
    {
     "data": {
      "text/html": [
       "<div>\n",
       "<style scoped>\n",
       "    .dataframe tbody tr th:only-of-type {\n",
       "        vertical-align: middle;\n",
       "    }\n",
       "\n",
       "    .dataframe tbody tr th {\n",
       "        vertical-align: top;\n",
       "    }\n",
       "\n",
       "    .dataframe thead th {\n",
       "        text-align: right;\n",
       "    }\n",
       "</style>\n",
       "<table border=\"1\" class=\"dataframe\">\n",
       "  <thead>\n",
       "    <tr style=\"text-align: right;\">\n",
       "      <th></th>\n",
       "      <th>account_id</th>\n",
       "      <th>disp_count</th>\n",
       "    </tr>\n",
       "  </thead>\n",
       "  <tbody>\n",
       "    <tr>\n",
       "      <th>0</th>\n",
       "      <td>1</td>\n",
       "      <td>1</td>\n",
       "    </tr>\n",
       "    <tr>\n",
       "      <th>1</th>\n",
       "      <td>2</td>\n",
       "      <td>2</td>\n",
       "    </tr>\n",
       "    <tr>\n",
       "      <th>2</th>\n",
       "      <td>3</td>\n",
       "      <td>2</td>\n",
       "    </tr>\n",
       "    <tr>\n",
       "      <th>3</th>\n",
       "      <td>4</td>\n",
       "      <td>1</td>\n",
       "    </tr>\n",
       "    <tr>\n",
       "      <th>4</th>\n",
       "      <td>5</td>\n",
       "      <td>1</td>\n",
       "    </tr>\n",
       "    <tr>\n",
       "      <th>...</th>\n",
       "      <td>...</td>\n",
       "      <td>...</td>\n",
       "    </tr>\n",
       "    <tr>\n",
       "      <th>4495</th>\n",
       "      <td>11333</td>\n",
       "      <td>1</td>\n",
       "    </tr>\n",
       "    <tr>\n",
       "      <th>4496</th>\n",
       "      <td>11349</td>\n",
       "      <td>2</td>\n",
       "    </tr>\n",
       "    <tr>\n",
       "      <th>4497</th>\n",
       "      <td>11359</td>\n",
       "      <td>1</td>\n",
       "    </tr>\n",
       "    <tr>\n",
       "      <th>4498</th>\n",
       "      <td>11362</td>\n",
       "      <td>1</td>\n",
       "    </tr>\n",
       "    <tr>\n",
       "      <th>4499</th>\n",
       "      <td>11382</td>\n",
       "      <td>1</td>\n",
       "    </tr>\n",
       "  </tbody>\n",
       "</table>\n",
       "<p>4500 rows × 2 columns</p>\n",
       "</div>"
      ],
      "text/plain": [
       "      account_id  disp_count\n",
       "0              1           1\n",
       "1              2           2\n",
       "2              3           2\n",
       "3              4           1\n",
       "4              5           1\n",
       "...          ...         ...\n",
       "4495       11333           1\n",
       "4496       11349           2\n",
       "4497       11359           1\n",
       "4498       11362           1\n",
       "4499       11382           1\n",
       "\n",
       "[4500 rows x 2 columns]"
      ]
     },
     "execution_count": 39,
     "metadata": {},
     "output_type": "execute_result"
    }
   ],
   "source": [
    "disp_"
   ]
  },
  {
   "cell_type": "markdown",
   "metadata": {},
   "source": [
    "## Loan"
   ]
  },
  {
   "cell_type": "code",
   "execution_count": 40,
   "metadata": {
    "ExecuteTime": {
     "end_time": "2021-02-08T18:28:06.672347Z",
     "start_time": "2021-02-08T18:28:06.644177Z"
    }
   },
   "outputs": [
    {
     "name": "stdout",
     "output_type": "stream",
     "text": [
      "<class 'pandas.core.frame.DataFrame'>\n",
      "RangeIndex: 682 entries, 0 to 681\n",
      "Data columns (total 7 columns):\n",
      " #   Column      Non-Null Count  Dtype  \n",
      "---  ------      --------------  -----  \n",
      " 0   loan_id     682 non-null    int64  \n",
      " 1   account_id  682 non-null    int64  \n",
      " 2   date        682 non-null    int64  \n",
      " 3   amount      682 non-null    int64  \n",
      " 4   duration    682 non-null    int64  \n",
      " 5   payments    682 non-null    float64\n",
      " 6   status      682 non-null    object \n",
      "dtypes: float64(1), int64(5), object(1)\n",
      "memory usage: 37.4+ KB\n"
     ]
    }
   ],
   "source": [
    "loan.info()"
   ]
  },
  {
   "cell_type": "code",
   "execution_count": 41,
   "metadata": {
    "ExecuteTime": {
     "end_time": "2021-02-08T18:28:06.972287Z",
     "start_time": "2021-02-08T18:28:06.957870Z"
    }
   },
   "outputs": [
    {
     "data": {
      "text/html": [
       "<div>\n",
       "<style scoped>\n",
       "    .dataframe tbody tr th:only-of-type {\n",
       "        vertical-align: middle;\n",
       "    }\n",
       "\n",
       "    .dataframe tbody tr th {\n",
       "        vertical-align: top;\n",
       "    }\n",
       "\n",
       "    .dataframe thead th {\n",
       "        text-align: right;\n",
       "    }\n",
       "</style>\n",
       "<table border=\"1\" class=\"dataframe\">\n",
       "  <thead>\n",
       "    <tr style=\"text-align: right;\">\n",
       "      <th></th>\n",
       "      <th>loan_id</th>\n",
       "      <th>account_id</th>\n",
       "      <th>date</th>\n",
       "      <th>amount</th>\n",
       "      <th>duration</th>\n",
       "      <th>payments</th>\n",
       "      <th>status</th>\n",
       "    </tr>\n",
       "  </thead>\n",
       "  <tbody>\n",
       "    <tr>\n",
       "      <th>0</th>\n",
       "      <td>5314</td>\n",
       "      <td>1787</td>\n",
       "      <td>930705</td>\n",
       "      <td>96396</td>\n",
       "      <td>12</td>\n",
       "      <td>8,033.0000</td>\n",
       "      <td>B</td>\n",
       "    </tr>\n",
       "    <tr>\n",
       "      <th>1</th>\n",
       "      <td>5316</td>\n",
       "      <td>1801</td>\n",
       "      <td>930711</td>\n",
       "      <td>165960</td>\n",
       "      <td>36</td>\n",
       "      <td>4,610.0000</td>\n",
       "      <td>A</td>\n",
       "    </tr>\n",
       "  </tbody>\n",
       "</table>\n",
       "</div>"
      ],
      "text/plain": [
       "   loan_id  account_id    date  amount  duration   payments status\n",
       "0     5314        1787  930705   96396        12 8,033.0000      B\n",
       "1     5316        1801  930711  165960        36 4,610.0000      A"
      ]
     },
     "execution_count": 41,
     "metadata": {},
     "output_type": "execute_result"
    }
   ],
   "source": [
    "loan.head(2)"
   ]
  },
  {
   "cell_type": "code",
   "execution_count": 42,
   "metadata": {
    "ExecuteTime": {
     "end_time": "2021-02-08T18:28:10.463662Z",
     "start_time": "2021-02-08T18:28:10.435438Z"
    }
   },
   "outputs": [],
   "source": [
    "loan.status = loan.status.replace({\"A\": 'c_terminado_sin_problema', \"B\": 'c_terminado_prestamo_no_pagado', \"C\": 'c_en_ejecucion_hasta_ahora', \"D\": 'c_en_ejecucion_client_endeudado'})\n",
    "loan['date'] = loan['date'].astype(str)\n",
    "loan['date'] = '19'+loan['date']\n",
    "loan['date']=pd.to_datetime(loan['date'], format=\"%Y%m%d\")"
   ]
  },
  {
   "cell_type": "markdown",
   "metadata": {},
   "source": [
    "## order"
   ]
  },
  {
   "cell_type": "code",
   "execution_count": 82,
   "metadata": {
    "ExecuteTime": {
     "end_time": "2021-02-08T23:08:29.394042Z",
     "start_time": "2021-02-08T23:08:29.365865Z"
    }
   },
   "outputs": [
    {
     "data": {
      "text/html": [
       "<div>\n",
       "<style scoped>\n",
       "    .dataframe tbody tr th:only-of-type {\n",
       "        vertical-align: middle;\n",
       "    }\n",
       "\n",
       "    .dataframe tbody tr th {\n",
       "        vertical-align: top;\n",
       "    }\n",
       "\n",
       "    .dataframe thead th {\n",
       "        text-align: right;\n",
       "    }\n",
       "</style>\n",
       "<table border=\"1\" class=\"dataframe\">\n",
       "  <thead>\n",
       "    <tr style=\"text-align: right;\">\n",
       "      <th></th>\n",
       "      <th>order_id</th>\n",
       "      <th>account_id</th>\n",
       "      <th>bank_to</th>\n",
       "      <th>account_to</th>\n",
       "      <th>amount</th>\n",
       "      <th>k_symbol</th>\n",
       "      <th>value</th>\n",
       "    </tr>\n",
       "  </thead>\n",
       "  <tbody>\n",
       "    <tr>\n",
       "      <th>0</th>\n",
       "      <td>29401</td>\n",
       "      <td>1</td>\n",
       "      <td>YZ</td>\n",
       "      <td>87144583</td>\n",
       "      <td>2,452.0000</td>\n",
       "      <td>pago_domestico</td>\n",
       "      <td>1</td>\n",
       "    </tr>\n",
       "    <tr>\n",
       "      <th>1</th>\n",
       "      <td>29402</td>\n",
       "      <td>2</td>\n",
       "      <td>ST</td>\n",
       "      <td>89597016</td>\n",
       "      <td>3,372.7000</td>\n",
       "      <td>pago_prestamo</td>\n",
       "      <td>1</td>\n",
       "    </tr>\n",
       "    <tr>\n",
       "      <th>2</th>\n",
       "      <td>29403</td>\n",
       "      <td>2</td>\n",
       "      <td>QR</td>\n",
       "      <td>13943797</td>\n",
       "      <td>7,266.0000</td>\n",
       "      <td>pago_domestico</td>\n",
       "      <td>1</td>\n",
       "    </tr>\n",
       "  </tbody>\n",
       "</table>\n",
       "</div>"
      ],
      "text/plain": [
       "   order_id  account_id bank_to  account_to     amount        k_symbol  value\n",
       "0     29401           1      YZ    87144583 2,452.0000  pago_domestico      1\n",
       "1     29402           2      ST    89597016 3,372.7000   pago_prestamo      1\n",
       "2     29403           2      QR    13943797 7,266.0000  pago_domestico      1"
      ]
     },
     "execution_count": 82,
     "metadata": {},
     "output_type": "execute_result"
    }
   ],
   "source": [
    "order.head(3)"
   ]
  },
  {
   "cell_type": "code",
   "execution_count": 53,
   "metadata": {
    "ExecuteTime": {
     "end_time": "2021-02-08T18:59:56.594355Z",
     "start_time": "2021-02-08T18:59:56.571750Z"
    }
   },
   "outputs": [],
   "source": [
    "order.k_symbol = order.k_symbol.replace({\"POJISTNE\": 'pago_seguro', \"SIPO\": 'pago_domestico',\n",
    "                                         \"LEASING\": 'pago_arrendamiento', \"UVER\": 'pago_prestamo',\" \": 'otros'})"
   ]
  },
  {
   "cell_type": "code",
   "execution_count": 54,
   "metadata": {
    "ExecuteTime": {
     "end_time": "2021-02-08T18:59:57.021413Z",
     "start_time": "2021-02-08T18:59:57.003012Z"
    }
   },
   "outputs": [],
   "source": [
    "order['value'] = 1"
   ]
  },
  {
   "cell_type": "code",
   "execution_count": 79,
   "metadata": {
    "ExecuteTime": {
     "end_time": "2021-02-08T23:07:48.126332Z",
     "start_time": "2021-02-08T23:07:48.106066Z"
    }
   },
   "outputs": [],
   "source": [
    "aux = order[['account_id','amount']].groupby(['account_id']).sum().reset_index()"
   ]
  },
  {
   "cell_type": "code",
   "execution_count": 74,
   "metadata": {
    "ExecuteTime": {
     "end_time": "2021-02-08T23:03:57.735345Z",
     "start_time": "2021-02-08T23:03:57.676713Z"
    }
   },
   "outputs": [],
   "source": [
    "order_k = pd.crosstab(order['account_id'],order['k_symbol']).reset_index()#.reset_index(drop=True)"
   ]
  },
  {
   "cell_type": "code",
   "execution_count": 75,
   "metadata": {
    "ExecuteTime": {
     "end_time": "2021-02-08T23:04:20.480442Z",
     "start_time": "2021-02-08T23:04:20.452035Z"
    }
   },
   "outputs": [],
   "source": [
    "for i in [x for x in order_k.columns if x!='account_id']:\n",
    "    order_k[i] = order_k[i].replace(2,1)"
   ]
  },
  {
   "cell_type": "code",
   "execution_count": 80,
   "metadata": {
    "ExecuteTime": {
     "end_time": "2021-02-08T23:08:14.842857Z",
     "start_time": "2021-02-08T23:08:14.824683Z"
    }
   },
   "outputs": [],
   "source": [
    "order_k = order_k.merge(aux, on='account_id')"
   ]
  },
  {
   "cell_type": "code",
   "execution_count": 81,
   "metadata": {
    "ExecuteTime": {
     "end_time": "2021-02-08T23:08:20.655743Z",
     "start_time": "2021-02-08T23:08:20.635742Z"
    }
   },
   "outputs": [
    {
     "data": {
      "text/html": [
       "<div>\n",
       "<style scoped>\n",
       "    .dataframe tbody tr th:only-of-type {\n",
       "        vertical-align: middle;\n",
       "    }\n",
       "\n",
       "    .dataframe tbody tr th {\n",
       "        vertical-align: top;\n",
       "    }\n",
       "\n",
       "    .dataframe thead th {\n",
       "        text-align: right;\n",
       "    }\n",
       "</style>\n",
       "<table border=\"1\" class=\"dataframe\">\n",
       "  <thead>\n",
       "    <tr style=\"text-align: right;\">\n",
       "      <th></th>\n",
       "      <th>account_id</th>\n",
       "      <th>otros</th>\n",
       "      <th>pago_arrendamiento</th>\n",
       "      <th>pago_domestico</th>\n",
       "      <th>pago_prestamo</th>\n",
       "      <th>pago_seguro</th>\n",
       "      <th>amount</th>\n",
       "    </tr>\n",
       "  </thead>\n",
       "  <tbody>\n",
       "    <tr>\n",
       "      <th>0</th>\n",
       "      <td>1</td>\n",
       "      <td>0</td>\n",
       "      <td>0</td>\n",
       "      <td>1</td>\n",
       "      <td>0</td>\n",
       "      <td>0</td>\n",
       "      <td>2,452.0000</td>\n",
       "    </tr>\n",
       "    <tr>\n",
       "      <th>1</th>\n",
       "      <td>2</td>\n",
       "      <td>0</td>\n",
       "      <td>0</td>\n",
       "      <td>1</td>\n",
       "      <td>1</td>\n",
       "      <td>0</td>\n",
       "      <td>10,638.7000</td>\n",
       "    </tr>\n",
       "    <tr>\n",
       "      <th>2</th>\n",
       "      <td>3</td>\n",
       "      <td>1</td>\n",
       "      <td>0</td>\n",
       "      <td>1</td>\n",
       "      <td>0</td>\n",
       "      <td>1</td>\n",
       "      <td>5,001.0000</td>\n",
       "    </tr>\n",
       "    <tr>\n",
       "      <th>3</th>\n",
       "      <td>4</td>\n",
       "      <td>0</td>\n",
       "      <td>0</td>\n",
       "      <td>1</td>\n",
       "      <td>0</td>\n",
       "      <td>0</td>\n",
       "      <td>3,363.0000</td>\n",
       "    </tr>\n",
       "    <tr>\n",
       "      <th>4</th>\n",
       "      <td>5</td>\n",
       "      <td>0</td>\n",
       "      <td>0</td>\n",
       "      <td>1</td>\n",
       "      <td>0</td>\n",
       "      <td>0</td>\n",
       "      <td>2,668.0000</td>\n",
       "    </tr>\n",
       "    <tr>\n",
       "      <th>...</th>\n",
       "      <td>...</td>\n",
       "      <td>...</td>\n",
       "      <td>...</td>\n",
       "      <td>...</td>\n",
       "      <td>...</td>\n",
       "      <td>...</td>\n",
       "      <td>...</td>\n",
       "    </tr>\n",
       "    <tr>\n",
       "      <th>3753</th>\n",
       "      <td>11328</td>\n",
       "      <td>0</td>\n",
       "      <td>0</td>\n",
       "      <td>0</td>\n",
       "      <td>1</td>\n",
       "      <td>0</td>\n",
       "      <td>4,674.0000</td>\n",
       "    </tr>\n",
       "    <tr>\n",
       "      <th>3754</th>\n",
       "      <td>11333</td>\n",
       "      <td>0</td>\n",
       "      <td>1</td>\n",
       "      <td>0</td>\n",
       "      <td>0</td>\n",
       "      <td>0</td>\n",
       "      <td>3,286.7000</td>\n",
       "    </tr>\n",
       "    <tr>\n",
       "      <th>3755</th>\n",
       "      <td>11349</td>\n",
       "      <td>0</td>\n",
       "      <td>0</td>\n",
       "      <td>1</td>\n",
       "      <td>1</td>\n",
       "      <td>0</td>\n",
       "      <td>17,884.0000</td>\n",
       "    </tr>\n",
       "    <tr>\n",
       "      <th>3756</th>\n",
       "      <td>11359</td>\n",
       "      <td>1</td>\n",
       "      <td>0</td>\n",
       "      <td>1</td>\n",
       "      <td>1</td>\n",
       "      <td>0</td>\n",
       "      <td>9,274.3000</td>\n",
       "    </tr>\n",
       "    <tr>\n",
       "      <th>3757</th>\n",
       "      <td>11362</td>\n",
       "      <td>1</td>\n",
       "      <td>0</td>\n",
       "      <td>1</td>\n",
       "      <td>1</td>\n",
       "      <td>1</td>\n",
       "      <td>10,687.0000</td>\n",
       "    </tr>\n",
       "  </tbody>\n",
       "</table>\n",
       "<p>3758 rows × 7 columns</p>\n",
       "</div>"
      ],
      "text/plain": [
       "      account_id  otros  pago_arrendamiento  pago_domestico  pago_prestamo  \\\n",
       "0              1      0                   0               1              0   \n",
       "1              2      0                   0               1              1   \n",
       "2              3      1                   0               1              0   \n",
       "3              4      0                   0               1              0   \n",
       "4              5      0                   0               1              0   \n",
       "...          ...    ...                 ...             ...            ...   \n",
       "3753       11328      0                   0               0              1   \n",
       "3754       11333      0                   1               0              0   \n",
       "3755       11349      0                   0               1              1   \n",
       "3756       11359      1                   0               1              1   \n",
       "3757       11362      1                   0               1              1   \n",
       "\n",
       "      pago_seguro      amount  \n",
       "0               0  2,452.0000  \n",
       "1               0 10,638.7000  \n",
       "2               1  5,001.0000  \n",
       "3               0  3,363.0000  \n",
       "4               0  2,668.0000  \n",
       "...           ...         ...  \n",
       "3753            0  4,674.0000  \n",
       "3754            0  3,286.7000  \n",
       "3755            0 17,884.0000  \n",
       "3756            0  9,274.3000  \n",
       "3757            1 10,687.0000  \n",
       "\n",
       "[3758 rows x 7 columns]"
      ]
     },
     "execution_count": 81,
     "metadata": {},
     "output_type": "execute_result"
    }
   ],
   "source": [
    "order_k"
   ]
  },
  {
   "cell_type": "markdown",
   "metadata": {},
   "source": [
    "## Transactions"
   ]
  },
  {
   "cell_type": "code",
   "execution_count": 102,
   "metadata": {
    "ExecuteTime": {
     "end_time": "2021-02-08T23:14:56.732870Z",
     "start_time": "2021-02-08T23:14:56.510721Z"
    }
   },
   "outputs": [
    {
     "name": "stdout",
     "output_type": "stream",
     "text": [
      "<class 'pandas.core.frame.DataFrame'>\n",
      "RangeIndex: 1056320 entries, 0 to 1056319\n",
      "Data columns (total 10 columns):\n",
      " #   Column      Non-Null Count    Dtype  \n",
      "---  ------      --------------    -----  \n",
      " 0   trans_id    1056320 non-null  int64  \n",
      " 1   account_id  1056320 non-null  int64  \n",
      " 2   date        1056320 non-null  int64  \n",
      " 3   type        1056320 non-null  object \n",
      " 4   operation   873206 non-null   object \n",
      " 5   amount      1056320 non-null  float64\n",
      " 6   balance     1056320 non-null  float64\n",
      " 7   k_symbol    574439 non-null   object \n",
      " 8   bank        273508 non-null   object \n",
      " 9   account     295389 non-null   float64\n",
      "dtypes: float64(3), int64(3), object(4)\n",
      "memory usage: 80.6+ MB\n"
     ]
    }
   ],
   "source": [
    "trans.info()"
   ]
  },
  {
   "cell_type": "code",
   "execution_count": 106,
   "metadata": {
    "ExecuteTime": {
     "end_time": "2021-02-08T23:24:40.041767Z",
     "start_time": "2021-02-08T23:24:39.537778Z"
    }
   },
   "outputs": [],
   "source": [
    "trans['account'] = trans['account'].astype(str)"
   ]
  },
  {
   "cell_type": "code",
   "execution_count": 107,
   "metadata": {
    "ExecuteTime": {
     "end_time": "2021-02-08T23:24:42.396582Z",
     "start_time": "2021-02-08T23:24:42.376159Z"
    }
   },
   "outputs": [
    {
     "data": {
      "text/html": [
       "<div>\n",
       "<style scoped>\n",
       "    .dataframe tbody tr th:only-of-type {\n",
       "        vertical-align: middle;\n",
       "    }\n",
       "\n",
       "    .dataframe tbody tr th {\n",
       "        vertical-align: top;\n",
       "    }\n",
       "\n",
       "    .dataframe thead th {\n",
       "        text-align: right;\n",
       "    }\n",
       "</style>\n",
       "<table border=\"1\" class=\"dataframe\">\n",
       "  <thead>\n",
       "    <tr style=\"text-align: right;\">\n",
       "      <th></th>\n",
       "      <th>trans_id</th>\n",
       "      <th>account_id</th>\n",
       "      <th>date</th>\n",
       "      <th>type</th>\n",
       "      <th>operation</th>\n",
       "      <th>amount</th>\n",
       "      <th>balance</th>\n",
       "      <th>k_symbol</th>\n",
       "      <th>bank</th>\n",
       "      <th>account</th>\n",
       "    </tr>\n",
       "  </thead>\n",
       "  <tbody>\n",
       "    <tr>\n",
       "      <th>0</th>\n",
       "      <td>695247</td>\n",
       "      <td>2378</td>\n",
       "      <td>930101</td>\n",
       "      <td>PRIJEM</td>\n",
       "      <td>VKLAD</td>\n",
       "      <td>700.0000</td>\n",
       "      <td>700.0000</td>\n",
       "      <td>NaN</td>\n",
       "      <td>NaN</td>\n",
       "      <td>nan</td>\n",
       "    </tr>\n",
       "    <tr>\n",
       "      <th>1</th>\n",
       "      <td>171812</td>\n",
       "      <td>576</td>\n",
       "      <td>930101</td>\n",
       "      <td>PRIJEM</td>\n",
       "      <td>VKLAD</td>\n",
       "      <td>900.0000</td>\n",
       "      <td>900.0000</td>\n",
       "      <td>NaN</td>\n",
       "      <td>NaN</td>\n",
       "      <td>nan</td>\n",
       "    </tr>\n",
       "    <tr>\n",
       "      <th>2</th>\n",
       "      <td>207264</td>\n",
       "      <td>704</td>\n",
       "      <td>930101</td>\n",
       "      <td>PRIJEM</td>\n",
       "      <td>VKLAD</td>\n",
       "      <td>1,000.0000</td>\n",
       "      <td>1,000.0000</td>\n",
       "      <td>NaN</td>\n",
       "      <td>NaN</td>\n",
       "      <td>nan</td>\n",
       "    </tr>\n",
       "    <tr>\n",
       "      <th>3</th>\n",
       "      <td>1117247</td>\n",
       "      <td>3818</td>\n",
       "      <td>930101</td>\n",
       "      <td>PRIJEM</td>\n",
       "      <td>VKLAD</td>\n",
       "      <td>600.0000</td>\n",
       "      <td>600.0000</td>\n",
       "      <td>NaN</td>\n",
       "      <td>NaN</td>\n",
       "      <td>nan</td>\n",
       "    </tr>\n",
       "    <tr>\n",
       "      <th>4</th>\n",
       "      <td>579373</td>\n",
       "      <td>1972</td>\n",
       "      <td>930102</td>\n",
       "      <td>PRIJEM</td>\n",
       "      <td>VKLAD</td>\n",
       "      <td>400.0000</td>\n",
       "      <td>400.0000</td>\n",
       "      <td>NaN</td>\n",
       "      <td>NaN</td>\n",
       "      <td>nan</td>\n",
       "    </tr>\n",
       "  </tbody>\n",
       "</table>\n",
       "</div>"
      ],
      "text/plain": [
       "   trans_id  account_id    date    type operation     amount    balance  \\\n",
       "0    695247        2378  930101  PRIJEM     VKLAD   700.0000   700.0000   \n",
       "1    171812         576  930101  PRIJEM     VKLAD   900.0000   900.0000   \n",
       "2    207264         704  930101  PRIJEM     VKLAD 1,000.0000 1,000.0000   \n",
       "3   1117247        3818  930101  PRIJEM     VKLAD   600.0000   600.0000   \n",
       "4    579373        1972  930102  PRIJEM     VKLAD   400.0000   400.0000   \n",
       "\n",
       "  k_symbol bank account  \n",
       "0      NaN  NaN     nan  \n",
       "1      NaN  NaN     nan  \n",
       "2      NaN  NaN     nan  \n",
       "3      NaN  NaN     nan  \n",
       "4      NaN  NaN     nan  "
      ]
     },
     "execution_count": 107,
     "metadata": {},
     "output_type": "execute_result"
    }
   ],
   "source": [
    "trans.head(5)"
   ]
  },
  {
   "cell_type": "code",
   "execution_count": 108,
   "metadata": {
    "ExecuteTime": {
     "end_time": "2021-02-08T23:24:49.139905Z",
     "start_time": "2021-02-08T23:24:48.919416Z"
    }
   },
   "outputs": [],
   "source": [
    "trans.type = trans.type.replace({\"PRIJEM\": 'credito', \"VYDAJ\": 'debito', \"VYBER\":'retiro_en_efectivo'})"
   ]
  },
  {
   "cell_type": "code",
   "execution_count": 109,
   "metadata": {
    "ExecuteTime": {
     "end_time": "2021-02-08T23:24:49.685027Z",
     "start_time": "2021-02-08T23:24:49.404179Z"
    }
   },
   "outputs": [],
   "source": [
    "trans.operation = trans.operation.replace({\"VYBER KARTOU\": 'retiro_tarjeta_cred', \"VKLAD\": 'credito_en_efectivo',\n",
    "                                           \"PREVOD Z UCTU\":'cobro_otro_banco',\"VYBER\":'retiro_en_efectivo',\n",
    "                                           \"PREVOD NA UCET\":'remesa_otro_banco',\n",
    "                                           np.nan: \"no_aplica\"})"
   ]
  },
  {
   "cell_type": "code",
   "execution_count": 110,
   "metadata": {
    "ExecuteTime": {
     "end_time": "2021-02-08T23:24:50.355097Z",
     "start_time": "2021-02-08T23:24:50.294272Z"
    }
   },
   "outputs": [
    {
     "data": {
      "text/plain": [
       "array([nan, 'DUCHOD', 'UROK', 'SIPO', 'SLUZBY', ' ', 'POJISTNE',\n",
       "       'SANKC. UROK', 'UVER'], dtype=object)"
      ]
     },
     "execution_count": 110,
     "metadata": {},
     "output_type": "execute_result"
    }
   ],
   "source": [
    "trans.k_symbol.unique()"
   ]
  },
  {
   "cell_type": "code",
   "execution_count": 111,
   "metadata": {
    "ExecuteTime": {
     "end_time": "2021-02-08T23:24:51.369618Z",
     "start_time": "2021-02-08T23:24:51.046537Z"
    }
   },
   "outputs": [],
   "source": [
    "trans.k_symbol = trans.k_symbol.replace({\"POJISTNE\": 'pago_seguro', \"SLUZBY\": 'pago_de_declaracion',\n",
    "                                         \"UROK\":'interes_acreditado',\n",
    "                                         \"SANKC. UROK\": 'interes_de_sancion_si_saldo_negativo',\n",
    "                                         \"SIPO\": 'pago_domestico',\"DUCHOD\": 'pago_de_pension',\n",
    "                                         \"UVER\": 'pago_de_prestamo',\n",
    "                                         np.nan: \"no_aplica\",\n",
    "                                         \" \": \"no_aplica\"})"
   ]
  },
  {
   "cell_type": "code",
   "execution_count": 112,
   "metadata": {
    "ExecuteTime": {
     "end_time": "2021-02-08T23:25:00.081975Z",
     "start_time": "2021-02-08T23:24:59.912026Z"
    }
   },
   "outputs": [],
   "source": [
    "trans['bank'] = trans['bank'].replace(np.nan, \"no_aplica\") \n",
    "trans['account'] = trans['account'].replace(np.nan, \"no_aplica\")"
   ]
  },
  {
   "cell_type": "code",
   "execution_count": 113,
   "metadata": {
    "ExecuteTime": {
     "end_time": "2021-02-08T23:25:01.844238Z",
     "start_time": "2021-02-08T23:25:00.683257Z"
    }
   },
   "outputs": [],
   "source": [
    "trans['date'] = trans['date'].astype(str)\n",
    "trans['date'] = \"19\"+trans['date']\n",
    "trans['date']=pd.to_datetime(trans['date'], format= '%Y%m%d')"
   ]
  },
  {
   "cell_type": "code",
   "execution_count": 114,
   "metadata": {
    "ExecuteTime": {
     "end_time": "2021-02-08T23:25:02.228180Z",
     "start_time": "2021-02-08T23:25:02.129106Z"
    }
   },
   "outputs": [
    {
     "data": {
      "text/plain": [
       "array(['credito_en_efectivo', 'cobro_otro_banco', 'retiro_en_efectivo',\n",
       "       'no_aplica', 'remesa_otro_banco', 'retiro_tarjeta_cred'],\n",
       "      dtype=object)"
      ]
     },
     "execution_count": 114,
     "metadata": {},
     "output_type": "execute_result"
    }
   ],
   "source": [
    "trans.operation.unique()"
   ]
  },
  {
   "cell_type": "markdown",
   "metadata": {},
   "source": [
    "## Account"
   ]
  },
  {
   "cell_type": "code",
   "execution_count": 119,
   "metadata": {
    "ExecuteTime": {
     "end_time": "2021-02-08T23:25:44.997208Z",
     "start_time": "2021-02-08T23:25:44.970380Z"
    }
   },
   "outputs": [
    {
     "data": {
      "text/html": [
       "<div>\n",
       "<style scoped>\n",
       "    .dataframe tbody tr th:only-of-type {\n",
       "        vertical-align: middle;\n",
       "    }\n",
       "\n",
       "    .dataframe tbody tr th {\n",
       "        vertical-align: top;\n",
       "    }\n",
       "\n",
       "    .dataframe thead th {\n",
       "        text-align: right;\n",
       "    }\n",
       "</style>\n",
       "<table border=\"1\" class=\"dataframe\">\n",
       "  <thead>\n",
       "    <tr style=\"text-align: right;\">\n",
       "      <th></th>\n",
       "      <th>account_id</th>\n",
       "      <th>district_id</th>\n",
       "      <th>frequency</th>\n",
       "      <th>date</th>\n",
       "    </tr>\n",
       "  </thead>\n",
       "  <tbody>\n",
       "    <tr>\n",
       "      <th>0</th>\n",
       "      <td>576</td>\n",
       "      <td>55</td>\n",
       "      <td>POPLATEK MESICNE</td>\n",
       "      <td>930101</td>\n",
       "    </tr>\n",
       "    <tr>\n",
       "      <th>1</th>\n",
       "      <td>3818</td>\n",
       "      <td>74</td>\n",
       "      <td>POPLATEK MESICNE</td>\n",
       "      <td>930101</td>\n",
       "    </tr>\n",
       "  </tbody>\n",
       "</table>\n",
       "</div>"
      ],
      "text/plain": [
       "   account_id  district_id         frequency    date\n",
       "0         576           55  POPLATEK MESICNE  930101\n",
       "1        3818           74  POPLATEK MESICNE  930101"
      ]
     },
     "execution_count": 119,
     "metadata": {},
     "output_type": "execute_result"
    }
   ],
   "source": [
    "account.head(2)"
   ]
  },
  {
   "cell_type": "code",
   "execution_count": 120,
   "metadata": {
    "ExecuteTime": {
     "end_time": "2021-02-08T23:25:45.492912Z",
     "start_time": "2021-02-08T23:25:45.463540Z"
    }
   },
   "outputs": [],
   "source": [
    "account.frequency = account.frequency.replace({\"POPLATEK MESICNE\": 'emision_mensual',\n",
    "                                               \"POPLATEK TYDNE\": 'emision_semanal',\n",
    "                                               \"POPLATEK PO OBRATU\": 'emision_desp_tans'})"
   ]
  },
  {
   "cell_type": "code",
   "execution_count": 121,
   "metadata": {
    "ExecuteTime": {
     "end_time": "2021-02-08T23:25:46.037275Z",
     "start_time": "2021-02-08T23:25:46.006030Z"
    }
   },
   "outputs": [],
   "source": [
    "account['date'] = account['date'].astype(str)\n",
    "account['date'] = '19'+account['date']\n",
    "account['date']=pd.to_datetime(account['date'], format=\"%Y%m%d\")"
   ]
  },
  {
   "cell_type": "markdown",
   "metadata": {},
   "source": [
    "# Tarjetas de Crédito y Préstamos"
   ]
  },
  {
   "cell_type": "code",
   "execution_count": 123,
   "metadata": {
    "ExecuteTime": {
     "end_time": "2021-02-08T23:42:58.365458Z",
     "start_time": "2021-02-08T23:42:58.104706Z"
    }
   },
   "outputs": [],
   "source": [
    "trans['quarter'] = trans.date.dt.quarter\n",
    "trans['year'] = trans.date.dt.year\n",
    "trans['month'] = trans.date.dt.month"
   ]
  },
  {
   "cell_type": "code",
   "execution_count": 124,
   "metadata": {
    "ExecuteTime": {
     "end_time": "2021-02-08T23:42:58.971692Z",
     "start_time": "2021-02-08T23:42:58.951447Z"
    }
   },
   "outputs": [
    {
     "data": {
      "text/html": [
       "<div>\n",
       "<style scoped>\n",
       "    .dataframe tbody tr th:only-of-type {\n",
       "        vertical-align: middle;\n",
       "    }\n",
       "\n",
       "    .dataframe tbody tr th {\n",
       "        vertical-align: top;\n",
       "    }\n",
       "\n",
       "    .dataframe thead th {\n",
       "        text-align: right;\n",
       "    }\n",
       "</style>\n",
       "<table border=\"1\" class=\"dataframe\">\n",
       "  <thead>\n",
       "    <tr style=\"text-align: right;\">\n",
       "      <th></th>\n",
       "      <th>trans_id</th>\n",
       "      <th>account_id</th>\n",
       "      <th>date</th>\n",
       "      <th>type</th>\n",
       "      <th>operation</th>\n",
       "      <th>amount</th>\n",
       "      <th>balance</th>\n",
       "      <th>k_symbol</th>\n",
       "      <th>bank</th>\n",
       "      <th>account</th>\n",
       "      <th>quarter</th>\n",
       "      <th>year</th>\n",
       "      <th>month</th>\n",
       "    </tr>\n",
       "  </thead>\n",
       "  <tbody>\n",
       "    <tr>\n",
       "      <th>0</th>\n",
       "      <td>695247</td>\n",
       "      <td>2378</td>\n",
       "      <td>1993-01-01</td>\n",
       "      <td>credito</td>\n",
       "      <td>credito_en_efectivo</td>\n",
       "      <td>700.0000</td>\n",
       "      <td>700.0000</td>\n",
       "      <td>no_aplica</td>\n",
       "      <td>no_aplica</td>\n",
       "      <td>nan</td>\n",
       "      <td>1</td>\n",
       "      <td>1993</td>\n",
       "      <td>1</td>\n",
       "    </tr>\n",
       "    <tr>\n",
       "      <th>1</th>\n",
       "      <td>171812</td>\n",
       "      <td>576</td>\n",
       "      <td>1993-01-01</td>\n",
       "      <td>credito</td>\n",
       "      <td>credito_en_efectivo</td>\n",
       "      <td>900.0000</td>\n",
       "      <td>900.0000</td>\n",
       "      <td>no_aplica</td>\n",
       "      <td>no_aplica</td>\n",
       "      <td>nan</td>\n",
       "      <td>1</td>\n",
       "      <td>1993</td>\n",
       "      <td>1</td>\n",
       "    </tr>\n",
       "    <tr>\n",
       "      <th>2</th>\n",
       "      <td>207264</td>\n",
       "      <td>704</td>\n",
       "      <td>1993-01-01</td>\n",
       "      <td>credito</td>\n",
       "      <td>credito_en_efectivo</td>\n",
       "      <td>1,000.0000</td>\n",
       "      <td>1,000.0000</td>\n",
       "      <td>no_aplica</td>\n",
       "      <td>no_aplica</td>\n",
       "      <td>nan</td>\n",
       "      <td>1</td>\n",
       "      <td>1993</td>\n",
       "      <td>1</td>\n",
       "    </tr>\n",
       "    <tr>\n",
       "      <th>3</th>\n",
       "      <td>1117247</td>\n",
       "      <td>3818</td>\n",
       "      <td>1993-01-01</td>\n",
       "      <td>credito</td>\n",
       "      <td>credito_en_efectivo</td>\n",
       "      <td>600.0000</td>\n",
       "      <td>600.0000</td>\n",
       "      <td>no_aplica</td>\n",
       "      <td>no_aplica</td>\n",
       "      <td>nan</td>\n",
       "      <td>1</td>\n",
       "      <td>1993</td>\n",
       "      <td>1</td>\n",
       "    </tr>\n",
       "    <tr>\n",
       "      <th>4</th>\n",
       "      <td>579373</td>\n",
       "      <td>1972</td>\n",
       "      <td>1993-01-02</td>\n",
       "      <td>credito</td>\n",
       "      <td>credito_en_efectivo</td>\n",
       "      <td>400.0000</td>\n",
       "      <td>400.0000</td>\n",
       "      <td>no_aplica</td>\n",
       "      <td>no_aplica</td>\n",
       "      <td>nan</td>\n",
       "      <td>1</td>\n",
       "      <td>1993</td>\n",
       "      <td>1</td>\n",
       "    </tr>\n",
       "  </tbody>\n",
       "</table>\n",
       "</div>"
      ],
      "text/plain": [
       "   trans_id  account_id       date     type            operation     amount  \\\n",
       "0    695247        2378 1993-01-01  credito  credito_en_efectivo   700.0000   \n",
       "1    171812         576 1993-01-01  credito  credito_en_efectivo   900.0000   \n",
       "2    207264         704 1993-01-01  credito  credito_en_efectivo 1,000.0000   \n",
       "3   1117247        3818 1993-01-01  credito  credito_en_efectivo   600.0000   \n",
       "4    579373        1972 1993-01-02  credito  credito_en_efectivo   400.0000   \n",
       "\n",
       "     balance   k_symbol       bank account  quarter  year  month  \n",
       "0   700.0000  no_aplica  no_aplica     nan        1  1993      1  \n",
       "1   900.0000  no_aplica  no_aplica     nan        1  1993      1  \n",
       "2 1,000.0000  no_aplica  no_aplica     nan        1  1993      1  \n",
       "3   600.0000  no_aplica  no_aplica     nan        1  1993      1  \n",
       "4   400.0000  no_aplica  no_aplica     nan        1  1993      1  "
      ]
     },
     "execution_count": 124,
     "metadata": {},
     "output_type": "execute_result"
    }
   ],
   "source": [
    "trans.head(5)"
   ]
  },
  {
   "cell_type": "code",
   "execution_count": 125,
   "metadata": {
    "ExecuteTime": {
     "end_time": "2021-02-08T23:43:06.485275Z",
     "start_time": "2021-02-08T23:43:05.705517Z"
    }
   },
   "outputs": [],
   "source": [
    "a = trans[['account_id',\n",
    "           'type','date',\n",
    "           'amount',\n",
    "           'balance']].groupby(['account_id',\n",
    "                                'type',pd.Grouper(key='date', freq='M')]).agg(['count',max,min,'mean'])"
   ]
  },
  {
   "cell_type": "code",
   "execution_count": 126,
   "metadata": {
    "ExecuteTime": {
     "end_time": "2021-02-08T23:43:07.627044Z",
     "start_time": "2021-02-08T23:43:07.548325Z"
    }
   },
   "outputs": [],
   "source": [
    "a.reset_index(inplace=True)\n",
    "a.columns=[x+'_'+y for x,y in a.columns]"
   ]
  },
  {
   "cell_type": "code",
   "execution_count": 128,
   "metadata": {
    "ExecuteTime": {
     "end_time": "2021-02-08T23:43:20.339406Z",
     "start_time": "2021-02-08T23:43:20.311232Z"
    }
   },
   "outputs": [],
   "source": [
    "cols = [x for x in a.columns if x not in ['index_','date_','account_id_','type_']]"
   ]
  },
  {
   "cell_type": "code",
   "execution_count": 130,
   "metadata": {
    "ExecuteTime": {
     "end_time": "2021-02-08T23:43:27.181232Z",
     "start_time": "2021-02-08T23:43:27.061703Z"
    }
   },
   "outputs": [],
   "source": [
    "aux_trans = a.groupby(['account_id_','type_'])[cols].agg('mean').reset_index()"
   ]
  },
  {
   "cell_type": "code",
   "execution_count": 139,
   "metadata": {
    "ExecuteTime": {
     "end_time": "2021-02-08T23:45:41.714502Z",
     "start_time": "2021-02-08T23:45:41.696457Z"
    }
   },
   "outputs": [],
   "source": [
    "trans_credito = aux_trans.loc[aux_trans.type_=='credito'].copy()\n",
    "trans_debito = aux_trans.loc[aux_trans.type_=='debito'].copy()\n",
    "trans_efectivo = aux_trans.loc[aux_trans.type_=='retiro_en_efectivo'].copy()"
   ]
  },
  {
   "cell_type": "code",
   "execution_count": 140,
   "metadata": {
    "ExecuteTime": {
     "end_time": "2021-02-08T23:45:42.057299Z",
     "start_time": "2021-02-08T23:45:42.030875Z"
    }
   },
   "outputs": [],
   "source": [
    "trans_credito.columns = [\"c_\"+x if x not in ['account_id_','type_'] else x[:-1] for x in trans_credito.columns]\n",
    "trans_debito.columns = [\"d_\"+x if x not in ['account_id_','type_'] else x[:-1] for x in trans_debito.columns]\n",
    "trans_efectivo.columns = [\"f_\"+x if x not in ['account_id_','type_'] else x[:-1] for x in trans_efectivo.columns]"
   ]
  },
  {
   "cell_type": "code",
   "execution_count": 141,
   "metadata": {
    "ExecuteTime": {
     "end_time": "2021-02-08T23:45:42.464757Z",
     "start_time": "2021-02-08T23:45:42.430887Z"
    }
   },
   "outputs": [
    {
     "data": {
      "text/html": [
       "<div>\n",
       "<style scoped>\n",
       "    .dataframe tbody tr th:only-of-type {\n",
       "        vertical-align: middle;\n",
       "    }\n",
       "\n",
       "    .dataframe tbody tr th {\n",
       "        vertical-align: top;\n",
       "    }\n",
       "\n",
       "    .dataframe thead th {\n",
       "        text-align: right;\n",
       "    }\n",
       "</style>\n",
       "<table border=\"1\" class=\"dataframe\">\n",
       "  <thead>\n",
       "    <tr style=\"text-align: right;\">\n",
       "      <th></th>\n",
       "      <th>account_id</th>\n",
       "      <th>type</th>\n",
       "      <th>c_amount_count</th>\n",
       "      <th>c_amount_max</th>\n",
       "      <th>c_amount_min</th>\n",
       "      <th>c_amount_mean</th>\n",
       "      <th>c_balance_count</th>\n",
       "      <th>c_balance_max</th>\n",
       "      <th>c_balance_min</th>\n",
       "      <th>c_balance_mean</th>\n",
       "    </tr>\n",
       "  </thead>\n",
       "  <tbody>\n",
       "    <tr>\n",
       "      <th>0</th>\n",
       "      <td>1</td>\n",
       "      <td>credito</td>\n",
       "      <td>2.2174</td>\n",
       "      <td>3,814.6957</td>\n",
       "      <td>88.3804</td>\n",
       "      <td>1,884.4957</td>\n",
       "      <td>2.2174</td>\n",
       "      <td>17,732.1609</td>\n",
       "      <td>15,862.4652</td>\n",
       "      <td>16,878.0645</td>\n",
       "    </tr>\n",
       "    <tr>\n",
       "      <th>2</th>\n",
       "      <td>2</td>\n",
       "      <td>credito</td>\n",
       "      <td>2.1408</td>\n",
       "      <td>21,676.5634</td>\n",
       "      <td>166.4437</td>\n",
       "      <td>10,593.9110</td>\n",
       "      <td>2.1408</td>\n",
       "      <td>47,497.1972</td>\n",
       "      <td>34,441.5944</td>\n",
       "      <td>41,089.7023</td>\n",
       "    </tr>\n",
       "    <tr>\n",
       "      <th>5</th>\n",
       "      <td>3</td>\n",
       "      <td>credito</td>\n",
       "      <td>2.5556</td>\n",
       "      <td>8,143.7222</td>\n",
       "      <td>115.0000</td>\n",
       "      <td>3,873.6787</td>\n",
       "      <td>2.5556</td>\n",
       "      <td>29,844.7889</td>\n",
       "      <td>27,182.9944</td>\n",
       "      <td>28,733.5259</td>\n",
       "    </tr>\n",
       "    <tr>\n",
       "      <th>7</th>\n",
       "      <td>4</td>\n",
       "      <td>credito</td>\n",
       "      <td>1.8571</td>\n",
       "      <td>5,417.2000</td>\n",
       "      <td>735.8857</td>\n",
       "      <td>3,076.5429</td>\n",
       "      <td>1.8571</td>\n",
       "      <td>23,078.0229</td>\n",
       "      <td>20,680.7114</td>\n",
       "      <td>21,879.3671</td>\n",
       "    </tr>\n",
       "    <tr>\n",
       "      <th>9</th>\n",
       "      <td>5</td>\n",
       "      <td>credito</td>\n",
       "      <td>1.7500</td>\n",
       "      <td>4,796.1500</td>\n",
       "      <td>1,111.5000</td>\n",
       "      <td>2,953.8250</td>\n",
       "      <td>1.7500</td>\n",
       "      <td>23,692.5850</td>\n",
       "      <td>22,414.8650</td>\n",
       "      <td>23,053.7250</td>\n",
       "    </tr>\n",
       "    <tr>\n",
       "      <th>...</th>\n",
       "      <td>...</td>\n",
       "      <td>...</td>\n",
       "      <td>...</td>\n",
       "      <td>...</td>\n",
       "      <td>...</td>\n",
       "      <td>...</td>\n",
       "      <td>...</td>\n",
       "      <td>...</td>\n",
       "      <td>...</td>\n",
       "      <td>...</td>\n",
       "    </tr>\n",
       "    <tr>\n",
       "      <th>10130</th>\n",
       "      <td>11333</td>\n",
       "      <td>credito</td>\n",
       "      <td>3.2679</td>\n",
       "      <td>20,276.3018</td>\n",
       "      <td>383.6161</td>\n",
       "      <td>7,956.4446</td>\n",
       "      <td>3.2679</td>\n",
       "      <td>58,605.5107</td>\n",
       "      <td>38,353.6839</td>\n",
       "      <td>47,773.7226</td>\n",
       "    </tr>\n",
       "    <tr>\n",
       "      <th>10133</th>\n",
       "      <td>11349</td>\n",
       "      <td>credito</td>\n",
       "      <td>2.0682</td>\n",
       "      <td>44,855.3636</td>\n",
       "      <td>173.6182</td>\n",
       "      <td>21,907.3076</td>\n",
       "      <td>2.0682</td>\n",
       "      <td>78,676.6955</td>\n",
       "      <td>36,625.5091</td>\n",
       "      <td>56,873.4727</td>\n",
       "    </tr>\n",
       "    <tr>\n",
       "      <th>10136</th>\n",
       "      <td>11359</td>\n",
       "      <td>credito</td>\n",
       "      <td>2.0392</td>\n",
       "      <td>29,397.5882</td>\n",
       "      <td>164.0039</td>\n",
       "      <td>14,629.7444</td>\n",
       "      <td>2.0392</td>\n",
       "      <td>54,830.8216</td>\n",
       "      <td>37,848.6804</td>\n",
       "      <td>46,515.6797</td>\n",
       "    </tr>\n",
       "    <tr>\n",
       "      <th>10139</th>\n",
       "      <td>11362</td>\n",
       "      <td>credito</td>\n",
       "      <td>2.0769</td>\n",
       "      <td>17,201.4103</td>\n",
       "      <td>133.7359</td>\n",
       "      <td>8,468.7115</td>\n",
       "      <td>2.0769</td>\n",
       "      <td>38,688.2744</td>\n",
       "      <td>23,065.0897</td>\n",
       "      <td>30,793.7329</td>\n",
       "    </tr>\n",
       "    <tr>\n",
       "      <th>10141</th>\n",
       "      <td>11382</td>\n",
       "      <td>credito</td>\n",
       "      <td>2.9512</td>\n",
       "      <td>32,716.8780</td>\n",
       "      <td>125.1634</td>\n",
       "      <td>10,998.5244</td>\n",
       "      <td>2.9512</td>\n",
       "      <td>56,054.8659</td>\n",
       "      <td>34,816.1683</td>\n",
       "      <td>41,941.6472</td>\n",
       "    </tr>\n",
       "  </tbody>\n",
       "</table>\n",
       "<p>4500 rows × 10 columns</p>\n",
       "</div>"
      ],
      "text/plain": [
       "       account_id     type  c_amount_count  c_amount_max  c_amount_min  \\\n",
       "0               1  credito          2.2174    3,814.6957       88.3804   \n",
       "2               2  credito          2.1408   21,676.5634      166.4437   \n",
       "5               3  credito          2.5556    8,143.7222      115.0000   \n",
       "7               4  credito          1.8571    5,417.2000      735.8857   \n",
       "9               5  credito          1.7500    4,796.1500    1,111.5000   \n",
       "...           ...      ...             ...           ...           ...   \n",
       "10130       11333  credito          3.2679   20,276.3018      383.6161   \n",
       "10133       11349  credito          2.0682   44,855.3636      173.6182   \n",
       "10136       11359  credito          2.0392   29,397.5882      164.0039   \n",
       "10139       11362  credito          2.0769   17,201.4103      133.7359   \n",
       "10141       11382  credito          2.9512   32,716.8780      125.1634   \n",
       "\n",
       "       c_amount_mean  c_balance_count  c_balance_max  c_balance_min  \\\n",
       "0         1,884.4957           2.2174    17,732.1609    15,862.4652   \n",
       "2        10,593.9110           2.1408    47,497.1972    34,441.5944   \n",
       "5         3,873.6787           2.5556    29,844.7889    27,182.9944   \n",
       "7         3,076.5429           1.8571    23,078.0229    20,680.7114   \n",
       "9         2,953.8250           1.7500    23,692.5850    22,414.8650   \n",
       "...              ...              ...            ...            ...   \n",
       "10130     7,956.4446           3.2679    58,605.5107    38,353.6839   \n",
       "10133    21,907.3076           2.0682    78,676.6955    36,625.5091   \n",
       "10136    14,629.7444           2.0392    54,830.8216    37,848.6804   \n",
       "10139     8,468.7115           2.0769    38,688.2744    23,065.0897   \n",
       "10141    10,998.5244           2.9512    56,054.8659    34,816.1683   \n",
       "\n",
       "       c_balance_mean  \n",
       "0         16,878.0645  \n",
       "2         41,089.7023  \n",
       "5         28,733.5259  \n",
       "7         21,879.3671  \n",
       "9         23,053.7250  \n",
       "...               ...  \n",
       "10130     47,773.7226  \n",
       "10133     56,873.4727  \n",
       "10136     46,515.6797  \n",
       "10139     30,793.7329  \n",
       "10141     41,941.6472  \n",
       "\n",
       "[4500 rows x 10 columns]"
      ]
     },
     "execution_count": 141,
     "metadata": {},
     "output_type": "execute_result"
    }
   ],
   "source": [
    "trans_credito"
   ]
  },
  {
   "cell_type": "code",
   "execution_count": null,
   "metadata": {
    "ExecuteTime": {
     "end_time": "2021-02-07T19:15:31.394887Z",
     "start_time": "2021-02-07T19:15:31.380102Z"
    }
   },
   "outputs": [],
   "source": [
    "loan"
   ]
  },
  {
   "cell_type": "code",
   "execution_count": null,
   "metadata": {
    "ExecuteTime": {
     "end_time": "2021-02-07T19:27:22.709091Z",
     "start_time": "2021-02-07T19:27:22.694494Z"
    }
   },
   "outputs": [],
   "source": [
    "loan.groupby(['status']).count()"
   ]
  },
  {
   "cell_type": "code",
   "execution_count": null,
   "metadata": {},
   "outputs": [],
   "source": []
  }
 ],
 "metadata": {
  "kernelspec": {
   "display_name": "Python 3",
   "language": "python",
   "name": "python3"
  },
  "language_info": {
   "codemirror_mode": {
    "name": "ipython",
    "version": 3
   },
   "file_extension": ".py",
   "mimetype": "text/x-python",
   "name": "python",
   "nbconvert_exporter": "python",
   "pygments_lexer": "ipython3",
   "version": "3.7.3rc1"
  },
  "notify_time": "5",
  "varInspector": {
   "cols": {
    "lenName": 16,
    "lenType": 16,
    "lenVar": 40
   },
   "kernels_config": {
    "python": {
     "delete_cmd_postfix": "",
     "delete_cmd_prefix": "del ",
     "library": "var_list.py",
     "varRefreshCmd": "print(var_dic_list())"
    },
    "r": {
     "delete_cmd_postfix": ") ",
     "delete_cmd_prefix": "rm(",
     "library": "var_list.r",
     "varRefreshCmd": "cat(var_dic_list()) "
    }
   },
   "types_to_exclude": [
    "module",
    "function",
    "builtin_function_or_method",
    "instance",
    "_Feature"
   ],
   "window_display": false
  }
 },
 "nbformat": 4,
 "nbformat_minor": 2
}
