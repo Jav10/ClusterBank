{
 "cells": [
  {
   "cell_type": "code",
   "execution_count": 1,
   "metadata": {
    "ExecuteTime": {
     "end_time": "2021-02-07T15:13:50.405504Z",
     "start_time": "2021-02-07T15:13:46.441430Z"
    }
   },
   "outputs": [
    {
     "name": "stderr",
     "output_type": "stream",
     "text": [
      "c:\\python37\\lib\\site-packages\\requests\\__init__.py:91: RequestsDependencyWarning:\n",
      "\n",
      "urllib3 (1.26.2) or chardet (3.0.4) doesn't match a supported version!\n",
      "\n"
     ]
    },
    {
     "data": {
      "text/html": [
       "        <script type=\"text/javascript\">\n",
       "        window.PlotlyConfig = {MathJaxConfig: 'local'};\n",
       "        if (window.MathJax) {MathJax.Hub.Config({SVG: {font: \"STIX-Web\"}});}\n",
       "        if (typeof require !== 'undefined') {\n",
       "        require.undef(\"plotly\");\n",
       "        requirejs.config({\n",
       "            paths: {\n",
       "                'plotly': ['https://cdn.plot.ly/plotly-latest.min']\n",
       "            }\n",
       "        });\n",
       "        require(['plotly'], function(Plotly) {\n",
       "            window._Plotly = Plotly;\n",
       "        });\n",
       "        }\n",
       "        </script>\n",
       "        "
      ]
     },
     "metadata": {},
     "output_type": "display_data"
    }
   ],
   "source": [
    "import re\n",
    "import numpy as np\n",
    "import pandas as pd\n",
    "import seaborn as sns\n",
    "import cufflinks as cf\n",
    "import missingno as msno\n",
    "import matplotlib.pyplot as plt\n",
    "from nltk.corpus import stopwords\n",
    "import scipy.cluster.hierarchy as sch\n",
    "from sklearn.decomposition import PCA\n",
    "from sklearn.manifold import TSNE, MDS\n",
    "from sklearn.metrics import confusion_matrix\n",
    "from sklearn.neighbors import DistanceMetric\n",
    "from sklearn.cluster import AgglomerativeClustering\n",
    "from sklearn.preprocessing import MinMaxScaler, StandardScaler, RobustScaler\n",
    "from sklearn.feature_extraction.text import CountVectorizer, TfidfVectorizer\n",
    "\n",
    "%matplotlib inline\n",
    "cf.go_offline()\n",
    "pd.set_option('display.max_rows', 60)\n",
    "# pd.set_option('precision', 5)\n",
    "pd.set_option('display.float_format', lambda x: \"{:,.4f}\".format(x))\n",
    "pd.set_option('display.max_columns', 100)"
   ]
  },
  {
   "cell_type": "markdown",
   "metadata": {},
   "source": [
    "# Obtener datos"
   ]
  },
  {
   "cell_type": "code",
   "execution_count": 120,
   "metadata": {
    "ExecuteTime": {
     "end_time": "2021-02-07T17:23:34.956279Z",
     "start_time": "2021-02-07T17:23:34.943720Z"
    }
   },
   "outputs": [],
   "source": [
    "client = pd.read_csv(\"datos/client.asc\", sep=\";\")"
   ]
  },
  {
   "cell_type": "code",
   "execution_count": 54,
   "metadata": {
    "ExecuteTime": {
     "end_time": "2021-02-07T16:28:48.200629Z",
     "start_time": "2021-02-07T16:28:48.190285Z"
    }
   },
   "outputs": [],
   "source": [
    "account = pd.read_csv(\"datos/account.asc\", sep=\";\")"
   ]
  },
  {
   "cell_type": "code",
   "execution_count": 14,
   "metadata": {
    "ExecuteTime": {
     "end_time": "2021-02-07T15:22:25.580212Z",
     "start_time": "2021-02-07T15:22:25.559918Z"
    }
   },
   "outputs": [],
   "source": [
    "district = pd.read_csv(\"datos/district.asc\", sep=\";\")"
   ]
  },
  {
   "cell_type": "code",
   "execution_count": 19,
   "metadata": {
    "ExecuteTime": {
     "end_time": "2021-02-07T15:29:29.011263Z",
     "start_time": "2021-02-07T15:29:28.990818Z"
    }
   },
   "outputs": [],
   "source": [
    "card = pd.read_csv(\"datos/card.asc\", sep=\";\")"
   ]
  },
  {
   "cell_type": "code",
   "execution_count": 21,
   "metadata": {
    "ExecuteTime": {
     "end_time": "2021-02-07T15:30:21.841695Z",
     "start_time": "2021-02-07T15:30:21.823608Z"
    }
   },
   "outputs": [],
   "source": [
    "disp = pd.read_csv(\"datos/disp.asc\", sep=\";\")"
   ]
  },
  {
   "cell_type": "code",
   "execution_count": 23,
   "metadata": {
    "ExecuteTime": {
     "end_time": "2021-02-07T15:31:08.607408Z",
     "start_time": "2021-02-07T15:31:08.587486Z"
    }
   },
   "outputs": [],
   "source": [
    "loan = pd.read_csv(\"datos/loan.asc\", sep=\";\")"
   ]
  },
  {
   "cell_type": "code",
   "execution_count": 25,
   "metadata": {
    "ExecuteTime": {
     "end_time": "2021-02-07T15:31:37.639662Z",
     "start_time": "2021-02-07T15:31:37.611475Z"
    }
   },
   "outputs": [],
   "source": [
    "order = pd.read_csv(\"datos/order.asc\", sep=\";\")"
   ]
  },
  {
   "cell_type": "code",
   "execution_count": 186,
   "metadata": {
    "ExecuteTime": {
     "end_time": "2021-02-07T19:10:46.971154Z",
     "start_time": "2021-02-07T19:10:45.742600Z"
    }
   },
   "outputs": [],
   "source": [
    "trans = pd.read_csv(\"datos/trans.asc\", sep=\";\",low_memory=False)"
   ]
  },
  {
   "cell_type": "markdown",
   "metadata": {},
   "source": [
    "# Funciones"
   ]
  },
  {
   "cell_type": "code",
   "execution_count": 77,
   "metadata": {
    "ExecuteTime": {
     "end_time": "2021-02-07T16:54:12.991187Z",
     "start_time": "2021-02-07T16:54:12.986483Z"
    }
   },
   "outputs": [],
   "source": [
    "def genero(x):\n",
    "    n = int(x[2:4])\n",
    "    if(n>12):\n",
    "        return 'M'\n",
    "    else:\n",
    "        return 'H'"
   ]
  },
  {
   "cell_type": "code",
   "execution_count": 89,
   "metadata": {
    "ExecuteTime": {
     "end_time": "2021-02-07T17:06:25.910309Z",
     "start_time": "2021-02-07T17:06:25.903290Z"
    }
   },
   "outputs": [],
   "source": [
    "def date_genre(x):\n",
    "    x = list(x)\n",
    "    n = int(''.join(x[2:4]))\n",
    "    if(n>12):\n",
    "        n = n-50\n",
    "        if(n<=9):\n",
    "            x[2]='0'\n",
    "            x[3]=str(n)\n",
    "        else:\n",
    "            n = str(n)\n",
    "            x[2:4] = n[:]\n",
    "        return ''.join(x)\n",
    "    else:\n",
    "        return ''.join(x)"
   ]
  },
  {
   "cell_type": "code",
   "execution_count": 90,
   "metadata": {
    "ExecuteTime": {
     "end_time": "2021-02-07T17:06:26.250695Z",
     "start_time": "2021-02-07T17:06:26.245373Z"
    }
   },
   "outputs": [],
   "source": [
    "x = \"706213\""
   ]
  },
  {
   "cell_type": "code",
   "execution_count": 99,
   "metadata": {
    "ExecuteTime": {
     "end_time": "2021-02-07T17:10:44.827318Z",
     "start_time": "2021-02-07T17:10:44.822643Z"
    }
   },
   "outputs": [
    {
     "data": {
      "text/plain": [
       "'62'"
      ]
     },
     "execution_count": 99,
     "metadata": {},
     "output_type": "execute_result"
    }
   ],
   "source": [
    "x[2:4]"
   ]
  },
  {
   "cell_type": "code",
   "execution_count": 91,
   "metadata": {
    "ExecuteTime": {
     "end_time": "2021-02-07T17:06:26.773184Z",
     "start_time": "2021-02-07T17:06:26.768192Z"
    }
   },
   "outputs": [
    {
     "data": {
      "text/plain": [
       "'701213'"
      ]
     },
     "execution_count": 91,
     "metadata": {},
     "output_type": "execute_result"
    }
   ],
   "source": [
    "date_genre(x)"
   ]
  },
  {
   "cell_type": "code",
   "execution_count": 72,
   "metadata": {
    "ExecuteTime": {
     "end_time": "2021-02-07T16:52:27.657731Z",
     "start_time": "2021-02-07T16:52:27.648836Z"
    }
   },
   "outputs": [
    {
     "data": {
      "text/plain": [
       "'M'"
      ]
     },
     "execution_count": 72,
     "metadata": {},
     "output_type": "execute_result"
    }
   ],
   "source": [
    "genero(x)"
   ]
  },
  {
   "cell_type": "markdown",
   "metadata": {},
   "source": [
    "# Información de las tablas"
   ]
  },
  {
   "cell_type": "markdown",
   "metadata": {
    "ExecuteTime": {
     "end_time": "2021-02-07T17:43:42.360453Z",
     "start_time": "2021-02-07T17:43:42.355167Z"
    }
   },
   "source": [
    "## Client"
   ]
  },
  {
   "cell_type": "code",
   "execution_count": 135,
   "metadata": {
    "ExecuteTime": {
     "end_time": "2021-02-07T17:39:58.676246Z",
     "start_time": "2021-02-07T17:39:58.664267Z"
    }
   },
   "outputs": [
    {
     "data": {
      "text/html": [
       "<div>\n",
       "<style scoped>\n",
       "    .dataframe tbody tr th:only-of-type {\n",
       "        vertical-align: middle;\n",
       "    }\n",
       "\n",
       "    .dataframe tbody tr th {\n",
       "        vertical-align: top;\n",
       "    }\n",
       "\n",
       "    .dataframe thead th {\n",
       "        text-align: right;\n",
       "    }\n",
       "</style>\n",
       "<table border=\"1\" class=\"dataframe\">\n",
       "  <thead>\n",
       "    <tr style=\"text-align: right;\">\n",
       "      <th></th>\n",
       "      <th>client_id</th>\n",
       "      <th>birth_number</th>\n",
       "      <th>district_id</th>\n",
       "      <th>genre</th>\n",
       "      <th>birth</th>\n",
       "      <th>diff</th>\n",
       "    </tr>\n",
       "  </thead>\n",
       "  <tbody>\n",
       "    <tr>\n",
       "      <th>0</th>\n",
       "      <td>1</td>\n",
       "      <td>706213</td>\n",
       "      <td>18</td>\n",
       "      <td>M</td>\n",
       "      <td>1970-12-13</td>\n",
       "      <td>1999-01-01</td>\n",
       "    </tr>\n",
       "    <tr>\n",
       "      <th>1</th>\n",
       "      <td>2</td>\n",
       "      <td>450204</td>\n",
       "      <td>1</td>\n",
       "      <td>H</td>\n",
       "      <td>1945-02-04</td>\n",
       "      <td>1999-01-01</td>\n",
       "    </tr>\n",
       "  </tbody>\n",
       "</table>\n",
       "</div>"
      ],
      "text/plain": [
       "   client_id birth_number  district_id genre      birth       diff\n",
       "0          1       706213           18     M 1970-12-13 1999-01-01\n",
       "1          2       450204            1     H 1945-02-04 1999-01-01"
      ]
     },
     "execution_count": 135,
     "metadata": {},
     "output_type": "execute_result"
    }
   ],
   "source": [
    "client.head(2)"
   ]
  },
  {
   "cell_type": "code",
   "execution_count": 126,
   "metadata": {
    "ExecuteTime": {
     "end_time": "2021-02-07T17:23:56.059167Z",
     "start_time": "2021-02-07T17:23:56.049269Z"
    }
   },
   "outputs": [
    {
     "name": "stdout",
     "output_type": "stream",
     "text": [
      "<class 'pandas.core.frame.DataFrame'>\n",
      "RangeIndex: 5369 entries, 0 to 5368\n",
      "Data columns (total 5 columns):\n",
      " #   Column        Non-Null Count  Dtype \n",
      "---  ------        --------------  ----- \n",
      " 0   client_id     5369 non-null   int64 \n",
      " 1   birth_number  5369 non-null   object\n",
      " 2   district_id   5369 non-null   int64 \n",
      " 3   genre         5369 non-null   object\n",
      " 4   birth         5369 non-null   object\n",
      "dtypes: int64(2), object(3)\n",
      "memory usage: 209.9+ KB\n"
     ]
    }
   ],
   "source": [
    "client.info()"
   ]
  },
  {
   "cell_type": "code",
   "execution_count": 123,
   "metadata": {
    "ExecuteTime": {
     "end_time": "2021-02-07T17:23:44.425488Z",
     "start_time": "2021-02-07T17:23:44.416731Z"
    }
   },
   "outputs": [],
   "source": [
    "client['birth_number'] = client['birth_number'].astype(str)"
   ]
  },
  {
   "cell_type": "code",
   "execution_count": 124,
   "metadata": {
    "ExecuteTime": {
     "end_time": "2021-02-07T17:23:45.551805Z",
     "start_time": "2021-02-07T17:23:45.541691Z"
    }
   },
   "outputs": [],
   "source": [
    "client['genre'] = client['birth_number'].map(genero)"
   ]
  },
  {
   "cell_type": "code",
   "execution_count": 125,
   "metadata": {
    "ExecuteTime": {
     "end_time": "2021-02-07T17:23:52.176526Z",
     "start_time": "2021-02-07T17:23:52.166633Z"
    }
   },
   "outputs": [],
   "source": [
    "client['birth'] = client['birth_number'].map(date_genre)"
   ]
  },
  {
   "cell_type": "code",
   "execution_count": 127,
   "metadata": {
    "ExecuteTime": {
     "end_time": "2021-02-07T17:24:08.506456Z",
     "start_time": "2021-02-07T17:24:08.501479Z"
    }
   },
   "outputs": [],
   "source": [
    "client['birth'] = '19'+client['birth']"
   ]
  },
  {
   "cell_type": "code",
   "execution_count": 128,
   "metadata": {
    "ExecuteTime": {
     "end_time": "2021-02-07T17:24:12.501431Z",
     "start_time": "2021-02-07T17:24:12.491325Z"
    }
   },
   "outputs": [],
   "source": [
    "client['birth']=pd.to_datetime(client['birth'], format=\"%Y%m%d\")"
   ]
  },
  {
   "cell_type": "code",
   "execution_count": 134,
   "metadata": {
    "ExecuteTime": {
     "end_time": "2021-02-07T17:39:52.153761Z",
     "start_time": "2021-02-07T17:39:52.145895Z"
    }
   },
   "outputs": [],
   "source": [
    "client['diff'] = '19990101'\n",
    "client['diff']=pd.to_datetime(client['diff'], format=\"%Y%m%d\")"
   ]
  },
  {
   "cell_type": "code",
   "execution_count": 138,
   "metadata": {
    "ExecuteTime": {
     "end_time": "2021-02-07T17:41:45.240838Z",
     "start_time": "2021-02-07T17:41:45.232840Z"
    }
   },
   "outputs": [],
   "source": [
    "client['age'] = (client['diff'] - client['birth']).dt.days/365.2425"
   ]
  },
  {
   "cell_type": "code",
   "execution_count": 140,
   "metadata": {
    "ExecuteTime": {
     "end_time": "2021-02-07T17:42:09.864956Z",
     "start_time": "2021-02-07T17:42:09.860247Z"
    }
   },
   "outputs": [],
   "source": [
    "client['age'] = client['age'].astype(int)"
   ]
  },
  {
   "cell_type": "code",
   "execution_count": 141,
   "metadata": {
    "ExecuteTime": {
     "end_time": "2021-02-07T17:42:20.030962Z",
     "start_time": "2021-02-07T17:42:20.016703Z"
    }
   },
   "outputs": [
    {
     "data": {
      "text/html": [
       "<div>\n",
       "<style scoped>\n",
       "    .dataframe tbody tr th:only-of-type {\n",
       "        vertical-align: middle;\n",
       "    }\n",
       "\n",
       "    .dataframe tbody tr th {\n",
       "        vertical-align: top;\n",
       "    }\n",
       "\n",
       "    .dataframe thead th {\n",
       "        text-align: right;\n",
       "    }\n",
       "</style>\n",
       "<table border=\"1\" class=\"dataframe\">\n",
       "  <thead>\n",
       "    <tr style=\"text-align: right;\">\n",
       "      <th></th>\n",
       "      <th>client_id</th>\n",
       "      <th>birth_number</th>\n",
       "      <th>district_id</th>\n",
       "      <th>genre</th>\n",
       "      <th>birth</th>\n",
       "      <th>diff</th>\n",
       "      <th>age</th>\n",
       "    </tr>\n",
       "  </thead>\n",
       "  <tbody>\n",
       "    <tr>\n",
       "      <th>0</th>\n",
       "      <td>1</td>\n",
       "      <td>706213</td>\n",
       "      <td>18</td>\n",
       "      <td>M</td>\n",
       "      <td>1970-12-13</td>\n",
       "      <td>1999-01-01</td>\n",
       "      <td>28</td>\n",
       "    </tr>\n",
       "    <tr>\n",
       "      <th>1</th>\n",
       "      <td>2</td>\n",
       "      <td>450204</td>\n",
       "      <td>1</td>\n",
       "      <td>H</td>\n",
       "      <td>1945-02-04</td>\n",
       "      <td>1999-01-01</td>\n",
       "      <td>53</td>\n",
       "    </tr>\n",
       "    <tr>\n",
       "      <th>2</th>\n",
       "      <td>3</td>\n",
       "      <td>406009</td>\n",
       "      <td>1</td>\n",
       "      <td>M</td>\n",
       "      <td>1940-10-09</td>\n",
       "      <td>1999-01-01</td>\n",
       "      <td>58</td>\n",
       "    </tr>\n",
       "  </tbody>\n",
       "</table>\n",
       "</div>"
      ],
      "text/plain": [
       "   client_id birth_number  district_id genre      birth       diff  age\n",
       "0          1       706213           18     M 1970-12-13 1999-01-01   28\n",
       "1          2       450204            1     H 1945-02-04 1999-01-01   53\n",
       "2          3       406009            1     M 1940-10-09 1999-01-01   58"
      ]
     },
     "execution_count": 141,
     "metadata": {},
     "output_type": "execute_result"
    }
   ],
   "source": [
    "client.head(3)"
   ]
  },
  {
   "cell_type": "markdown",
   "metadata": {},
   "source": [
    "## District "
   ]
  },
  {
   "cell_type": "code",
   "execution_count": 149,
   "metadata": {
    "ExecuteTime": {
     "end_time": "2021-02-07T17:53:47.580040Z",
     "start_time": "2021-02-07T17:53:47.567951Z"
    }
   },
   "outputs": [
    {
     "name": "stdout",
     "output_type": "stream",
     "text": [
      "<class 'pandas.core.frame.DataFrame'>\n",
      "RangeIndex: 77 entries, 0 to 76\n",
      "Data columns (total 16 columns):\n",
      " #   Column  Non-Null Count  Dtype  \n",
      "---  ------  --------------  -----  \n",
      " 0   A1      77 non-null     int64  \n",
      " 1   A2      77 non-null     object \n",
      " 2   A3      77 non-null     object \n",
      " 3   A4      77 non-null     int64  \n",
      " 4   A5      77 non-null     int64  \n",
      " 5   A6      77 non-null     int64  \n",
      " 6   A7      77 non-null     int64  \n",
      " 7   A8      77 non-null     int64  \n",
      " 8   A9      77 non-null     int64  \n",
      " 9   A10     77 non-null     float64\n",
      " 10  A11     77 non-null     int64  \n",
      " 11  A12     77 non-null     object \n",
      " 12  A13     77 non-null     float64\n",
      " 13  A14     77 non-null     int64  \n",
      " 14  A15     77 non-null     object \n",
      " 15  A16     77 non-null     int64  \n",
      "dtypes: float64(2), int64(10), object(4)\n",
      "memory usage: 9.8+ KB\n"
     ]
    }
   ],
   "source": [
    "district.info()"
   ]
  },
  {
   "cell_type": "code",
   "execution_count": 16,
   "metadata": {
    "ExecuteTime": {
     "end_time": "2021-02-07T15:22:53.706918Z",
     "start_time": "2021-02-07T15:22:53.678636Z"
    }
   },
   "outputs": [
    {
     "data": {
      "text/html": [
       "<div>\n",
       "<style scoped>\n",
       "    .dataframe tbody tr th:only-of-type {\n",
       "        vertical-align: middle;\n",
       "    }\n",
       "\n",
       "    .dataframe tbody tr th {\n",
       "        vertical-align: top;\n",
       "    }\n",
       "\n",
       "    .dataframe thead th {\n",
       "        text-align: right;\n",
       "    }\n",
       "</style>\n",
       "<table border=\"1\" class=\"dataframe\">\n",
       "  <thead>\n",
       "    <tr style=\"text-align: right;\">\n",
       "      <th></th>\n",
       "      <th>A1</th>\n",
       "      <th>A2</th>\n",
       "      <th>A3</th>\n",
       "      <th>A4</th>\n",
       "      <th>A5</th>\n",
       "      <th>A6</th>\n",
       "      <th>A7</th>\n",
       "      <th>A8</th>\n",
       "      <th>A9</th>\n",
       "      <th>A10</th>\n",
       "      <th>A11</th>\n",
       "      <th>A12</th>\n",
       "      <th>A13</th>\n",
       "      <th>A14</th>\n",
       "      <th>A15</th>\n",
       "      <th>A16</th>\n",
       "    </tr>\n",
       "  </thead>\n",
       "  <tbody>\n",
       "    <tr>\n",
       "      <th>0</th>\n",
       "      <td>1</td>\n",
       "      <td>Hl.m. Praha</td>\n",
       "      <td>Prague</td>\n",
       "      <td>1204953</td>\n",
       "      <td>0</td>\n",
       "      <td>0</td>\n",
       "      <td>0</td>\n",
       "      <td>1</td>\n",
       "      <td>1</td>\n",
       "      <td>100.0000</td>\n",
       "      <td>12541</td>\n",
       "      <td>0.29</td>\n",
       "      <td>0.4300</td>\n",
       "      <td>167</td>\n",
       "      <td>85677</td>\n",
       "      <td>99107</td>\n",
       "    </tr>\n",
       "    <tr>\n",
       "      <th>1</th>\n",
       "      <td>2</td>\n",
       "      <td>Benesov</td>\n",
       "      <td>central Bohemia</td>\n",
       "      <td>88884</td>\n",
       "      <td>80</td>\n",
       "      <td>26</td>\n",
       "      <td>6</td>\n",
       "      <td>2</td>\n",
       "      <td>5</td>\n",
       "      <td>46.7000</td>\n",
       "      <td>8507</td>\n",
       "      <td>1.67</td>\n",
       "      <td>1.8500</td>\n",
       "      <td>132</td>\n",
       "      <td>2159</td>\n",
       "      <td>2674</td>\n",
       "    </tr>\n",
       "    <tr>\n",
       "      <th>2</th>\n",
       "      <td>3</td>\n",
       "      <td>Beroun</td>\n",
       "      <td>central Bohemia</td>\n",
       "      <td>75232</td>\n",
       "      <td>55</td>\n",
       "      <td>26</td>\n",
       "      <td>4</td>\n",
       "      <td>1</td>\n",
       "      <td>5</td>\n",
       "      <td>41.7000</td>\n",
       "      <td>8980</td>\n",
       "      <td>1.95</td>\n",
       "      <td>2.2100</td>\n",
       "      <td>111</td>\n",
       "      <td>2824</td>\n",
       "      <td>2813</td>\n",
       "    </tr>\n",
       "    <tr>\n",
       "      <th>3</th>\n",
       "      <td>4</td>\n",
       "      <td>Kladno</td>\n",
       "      <td>central Bohemia</td>\n",
       "      <td>149893</td>\n",
       "      <td>63</td>\n",
       "      <td>29</td>\n",
       "      <td>6</td>\n",
       "      <td>2</td>\n",
       "      <td>6</td>\n",
       "      <td>67.4000</td>\n",
       "      <td>9753</td>\n",
       "      <td>4.64</td>\n",
       "      <td>5.0500</td>\n",
       "      <td>109</td>\n",
       "      <td>5244</td>\n",
       "      <td>5892</td>\n",
       "    </tr>\n",
       "    <tr>\n",
       "      <th>4</th>\n",
       "      <td>5</td>\n",
       "      <td>Kolin</td>\n",
       "      <td>central Bohemia</td>\n",
       "      <td>95616</td>\n",
       "      <td>65</td>\n",
       "      <td>30</td>\n",
       "      <td>4</td>\n",
       "      <td>1</td>\n",
       "      <td>6</td>\n",
       "      <td>51.4000</td>\n",
       "      <td>9307</td>\n",
       "      <td>3.85</td>\n",
       "      <td>4.4300</td>\n",
       "      <td>118</td>\n",
       "      <td>2616</td>\n",
       "      <td>3040</td>\n",
       "    </tr>\n",
       "  </tbody>\n",
       "</table>\n",
       "</div>"
      ],
      "text/plain": [
       "   A1           A2               A3       A4  A5  A6  A7  A8  A9      A10  \\\n",
       "0   1  Hl.m. Praha           Prague  1204953   0   0   0   1   1 100.0000   \n",
       "1   2      Benesov  central Bohemia    88884  80  26   6   2   5  46.7000   \n",
       "2   3       Beroun  central Bohemia    75232  55  26   4   1   5  41.7000   \n",
       "3   4       Kladno  central Bohemia   149893  63  29   6   2   6  67.4000   \n",
       "4   5        Kolin  central Bohemia    95616  65  30   4   1   6  51.4000   \n",
       "\n",
       "     A11   A12    A13  A14    A15    A16  \n",
       "0  12541  0.29 0.4300  167  85677  99107  \n",
       "1   8507  1.67 1.8500  132   2159   2674  \n",
       "2   8980  1.95 2.2100  111   2824   2813  \n",
       "3   9753  4.64 5.0500  109   5244   5892  \n",
       "4   9307  3.85 4.4300  118   2616   3040  "
      ]
     },
     "execution_count": 16,
     "metadata": {},
     "output_type": "execute_result"
    }
   ],
   "source": [
    "district.head(5)"
   ]
  },
  {
   "cell_type": "markdown",
   "metadata": {},
   "source": [
    "## Card"
   ]
  },
  {
   "cell_type": "code",
   "execution_count": 150,
   "metadata": {
    "ExecuteTime": {
     "end_time": "2021-02-07T17:54:08.754688Z",
     "start_time": "2021-02-07T17:54:08.744672Z"
    }
   },
   "outputs": [
    {
     "name": "stdout",
     "output_type": "stream",
     "text": [
      "<class 'pandas.core.frame.DataFrame'>\n",
      "RangeIndex: 892 entries, 0 to 891\n",
      "Data columns (total 4 columns):\n",
      " #   Column   Non-Null Count  Dtype \n",
      "---  ------   --------------  ----- \n",
      " 0   card_id  892 non-null    int64 \n",
      " 1   disp_id  892 non-null    int64 \n",
      " 2   type     892 non-null    object\n",
      " 3   issued   892 non-null    object\n",
      "dtypes: int64(2), object(2)\n",
      "memory usage: 28.0+ KB\n"
     ]
    }
   ],
   "source": [
    "card.info()"
   ]
  },
  {
   "cell_type": "code",
   "execution_count": 179,
   "metadata": {
    "ExecuteTime": {
     "end_time": "2021-02-07T18:27:17.443024Z",
     "start_time": "2021-02-07T18:27:17.430386Z"
    }
   },
   "outputs": [
    {
     "data": {
      "text/html": [
       "<div>\n",
       "<style scoped>\n",
       "    .dataframe tbody tr th:only-of-type {\n",
       "        vertical-align: middle;\n",
       "    }\n",
       "\n",
       "    .dataframe tbody tr th {\n",
       "        vertical-align: top;\n",
       "    }\n",
       "\n",
       "    .dataframe thead th {\n",
       "        text-align: right;\n",
       "    }\n",
       "</style>\n",
       "<table border=\"1\" class=\"dataframe\">\n",
       "  <thead>\n",
       "    <tr style=\"text-align: right;\">\n",
       "      <th></th>\n",
       "      <th>card_id</th>\n",
       "      <th>disp_id</th>\n",
       "      <th>type</th>\n",
       "      <th>issued</th>\n",
       "      <th>date</th>\n",
       "    </tr>\n",
       "  </thead>\n",
       "  <tbody>\n",
       "    <tr>\n",
       "      <th>0</th>\n",
       "      <td>1005</td>\n",
       "      <td>9285</td>\n",
       "      <td>classic</td>\n",
       "      <td>931107 00:00:00</td>\n",
       "      <td>1993-11-07</td>\n",
       "    </tr>\n",
       "    <tr>\n",
       "      <th>1</th>\n",
       "      <td>104</td>\n",
       "      <td>588</td>\n",
       "      <td>classic</td>\n",
       "      <td>940119 00:00:00</td>\n",
       "      <td>1994-01-19</td>\n",
       "    </tr>\n",
       "  </tbody>\n",
       "</table>\n",
       "</div>"
      ],
      "text/plain": [
       "   card_id  disp_id     type           issued       date\n",
       "0     1005     9285  classic  931107 00:00:00 1993-11-07\n",
       "1      104      588  classic  940119 00:00:00 1994-01-19"
      ]
     },
     "execution_count": 179,
     "metadata": {},
     "output_type": "execute_result"
    }
   ],
   "source": [
    "card.head(2)"
   ]
  },
  {
   "cell_type": "code",
   "execution_count": 176,
   "metadata": {
    "ExecuteTime": {
     "end_time": "2021-02-07T18:24:02.113970Z",
     "start_time": "2021-02-07T18:24:02.101519Z"
    }
   },
   "outputs": [],
   "source": [
    "card['date'] = card['issued'].str.extract(r'([0-9]{6})')"
   ]
  },
  {
   "cell_type": "code",
   "execution_count": 178,
   "metadata": {
    "ExecuteTime": {
     "end_time": "2021-02-07T18:27:14.690020Z",
     "start_time": "2021-02-07T18:27:14.680644Z"
    }
   },
   "outputs": [],
   "source": [
    "card['date'] = '19'+card['date']\n",
    "card['date'] = pd.to_datetime(card['date'], format=\"%Y%m%d\")"
   ]
  },
  {
   "cell_type": "markdown",
   "metadata": {},
   "source": [
    "## Disposition"
   ]
  },
  {
   "cell_type": "code",
   "execution_count": 22,
   "metadata": {
    "ExecuteTime": {
     "end_time": "2021-02-07T15:30:27.340291Z",
     "start_time": "2021-02-07T15:30:27.322175Z"
    }
   },
   "outputs": [
    {
     "data": {
      "text/html": [
       "<div>\n",
       "<style scoped>\n",
       "    .dataframe tbody tr th:only-of-type {\n",
       "        vertical-align: middle;\n",
       "    }\n",
       "\n",
       "    .dataframe tbody tr th {\n",
       "        vertical-align: top;\n",
       "    }\n",
       "\n",
       "    .dataframe thead th {\n",
       "        text-align: right;\n",
       "    }\n",
       "</style>\n",
       "<table border=\"1\" class=\"dataframe\">\n",
       "  <thead>\n",
       "    <tr style=\"text-align: right;\">\n",
       "      <th></th>\n",
       "      <th>disp_id</th>\n",
       "      <th>client_id</th>\n",
       "      <th>account_id</th>\n",
       "      <th>type</th>\n",
       "    </tr>\n",
       "  </thead>\n",
       "  <tbody>\n",
       "    <tr>\n",
       "      <th>0</th>\n",
       "      <td>1</td>\n",
       "      <td>1</td>\n",
       "      <td>1</td>\n",
       "      <td>OWNER</td>\n",
       "    </tr>\n",
       "    <tr>\n",
       "      <th>1</th>\n",
       "      <td>2</td>\n",
       "      <td>2</td>\n",
       "      <td>2</td>\n",
       "      <td>OWNER</td>\n",
       "    </tr>\n",
       "    <tr>\n",
       "      <th>2</th>\n",
       "      <td>3</td>\n",
       "      <td>3</td>\n",
       "      <td>2</td>\n",
       "      <td>DISPONENT</td>\n",
       "    </tr>\n",
       "  </tbody>\n",
       "</table>\n",
       "</div>"
      ],
      "text/plain": [
       "   disp_id  client_id  account_id       type\n",
       "0        1          1           1      OWNER\n",
       "1        2          2           2      OWNER\n",
       "2        3          3           2  DISPONENT"
      ]
     },
     "execution_count": 22,
     "metadata": {},
     "output_type": "execute_result"
    }
   ],
   "source": [
    "disp.head(3)"
   ]
  },
  {
   "cell_type": "markdown",
   "metadata": {},
   "source": [
    "## Loan"
   ]
  },
  {
   "cell_type": "code",
   "execution_count": 152,
   "metadata": {
    "ExecuteTime": {
     "end_time": "2021-02-07T17:58:40.125037Z",
     "start_time": "2021-02-07T17:58:40.113610Z"
    }
   },
   "outputs": [
    {
     "name": "stdout",
     "output_type": "stream",
     "text": [
      "<class 'pandas.core.frame.DataFrame'>\n",
      "RangeIndex: 682 entries, 0 to 681\n",
      "Data columns (total 7 columns):\n",
      " #   Column      Non-Null Count  Dtype  \n",
      "---  ------      --------------  -----  \n",
      " 0   loan_id     682 non-null    int64  \n",
      " 1   account_id  682 non-null    int64  \n",
      " 2   date        682 non-null    int64  \n",
      " 3   amount      682 non-null    int64  \n",
      " 4   duration    682 non-null    int64  \n",
      " 5   payments    682 non-null    float64\n",
      " 6   status      682 non-null    object \n",
      "dtypes: float64(1), int64(5), object(1)\n",
      "memory usage: 37.4+ KB\n"
     ]
    }
   ],
   "source": [
    "loan.info()"
   ]
  },
  {
   "cell_type": "code",
   "execution_count": 154,
   "metadata": {
    "ExecuteTime": {
     "end_time": "2021-02-07T17:59:45.049313Z",
     "start_time": "2021-02-07T17:59:45.037093Z"
    }
   },
   "outputs": [
    {
     "data": {
      "text/html": [
       "<div>\n",
       "<style scoped>\n",
       "    .dataframe tbody tr th:only-of-type {\n",
       "        vertical-align: middle;\n",
       "    }\n",
       "\n",
       "    .dataframe tbody tr th {\n",
       "        vertical-align: top;\n",
       "    }\n",
       "\n",
       "    .dataframe thead th {\n",
       "        text-align: right;\n",
       "    }\n",
       "</style>\n",
       "<table border=\"1\" class=\"dataframe\">\n",
       "  <thead>\n",
       "    <tr style=\"text-align: right;\">\n",
       "      <th></th>\n",
       "      <th>loan_id</th>\n",
       "      <th>account_id</th>\n",
       "      <th>date</th>\n",
       "      <th>amount</th>\n",
       "      <th>duration</th>\n",
       "      <th>payments</th>\n",
       "      <th>status</th>\n",
       "    </tr>\n",
       "  </thead>\n",
       "  <tbody>\n",
       "    <tr>\n",
       "      <th>0</th>\n",
       "      <td>5314</td>\n",
       "      <td>1787</td>\n",
       "      <td>1993-07-05</td>\n",
       "      <td>96396</td>\n",
       "      <td>12</td>\n",
       "      <td>8,033.0000</td>\n",
       "      <td>c_terminado_prestamo_no_pagado</td>\n",
       "    </tr>\n",
       "    <tr>\n",
       "      <th>1</th>\n",
       "      <td>5316</td>\n",
       "      <td>1801</td>\n",
       "      <td>1993-07-11</td>\n",
       "      <td>165960</td>\n",
       "      <td>36</td>\n",
       "      <td>4,610.0000</td>\n",
       "      <td>c_terminado_sin_problema</td>\n",
       "    </tr>\n",
       "  </tbody>\n",
       "</table>\n",
       "</div>"
      ],
      "text/plain": [
       "   loan_id  account_id       date  amount  duration   payments  \\\n",
       "0     5314        1787 1993-07-05   96396        12 8,033.0000   \n",
       "1     5316        1801 1993-07-11  165960        36 4,610.0000   \n",
       "\n",
       "                           status  \n",
       "0  c_terminado_prestamo_no_pagado  \n",
       "1        c_terminado_sin_problema  "
      ]
     },
     "execution_count": 154,
     "metadata": {},
     "output_type": "execute_result"
    }
   ],
   "source": [
    "loan.head(2)"
   ]
  },
  {
   "cell_type": "code",
   "execution_count": 153,
   "metadata": {
    "ExecuteTime": {
     "end_time": "2021-02-07T17:59:42.527343Z",
     "start_time": "2021-02-07T17:59:42.517649Z"
    }
   },
   "outputs": [],
   "source": [
    "loan.status = loan.status.replace({\"A\": 'c_terminado_sin_problema', \"B\": 'c_terminado_prestamo_no_pagado', \"C\": 'c_en_ejecucion_hasta_ahora', \"D\": 'c_en_ejecucion_client_endeudado'})\n",
    "loan['date'] = loan['date'].astype(str)\n",
    "loan['date'] = '19'+loan['date']\n",
    "loan['date']=pd.to_datetime(loan['date'], format=\"%Y%m%d\")"
   ]
  },
  {
   "cell_type": "markdown",
   "metadata": {},
   "source": [
    "## order"
   ]
  },
  {
   "cell_type": "code",
   "execution_count": 26,
   "metadata": {
    "ExecuteTime": {
     "end_time": "2021-02-07T15:31:43.667950Z",
     "start_time": "2021-02-07T15:31:43.659859Z"
    }
   },
   "outputs": [
    {
     "data": {
      "text/html": [
       "<div>\n",
       "<style scoped>\n",
       "    .dataframe tbody tr th:only-of-type {\n",
       "        vertical-align: middle;\n",
       "    }\n",
       "\n",
       "    .dataframe tbody tr th {\n",
       "        vertical-align: top;\n",
       "    }\n",
       "\n",
       "    .dataframe thead th {\n",
       "        text-align: right;\n",
       "    }\n",
       "</style>\n",
       "<table border=\"1\" class=\"dataframe\">\n",
       "  <thead>\n",
       "    <tr style=\"text-align: right;\">\n",
       "      <th></th>\n",
       "      <th>order_id</th>\n",
       "      <th>account_id</th>\n",
       "      <th>bank_to</th>\n",
       "      <th>account_to</th>\n",
       "      <th>amount</th>\n",
       "      <th>k_symbol</th>\n",
       "    </tr>\n",
       "  </thead>\n",
       "  <tbody>\n",
       "    <tr>\n",
       "      <th>0</th>\n",
       "      <td>29401</td>\n",
       "      <td>1</td>\n",
       "      <td>YZ</td>\n",
       "      <td>87144583</td>\n",
       "      <td>2,452.0000</td>\n",
       "      <td>SIPO</td>\n",
       "    </tr>\n",
       "    <tr>\n",
       "      <th>1</th>\n",
       "      <td>29402</td>\n",
       "      <td>2</td>\n",
       "      <td>ST</td>\n",
       "      <td>89597016</td>\n",
       "      <td>3,372.7000</td>\n",
       "      <td>UVER</td>\n",
       "    </tr>\n",
       "  </tbody>\n",
       "</table>\n",
       "</div>"
      ],
      "text/plain": [
       "   order_id  account_id bank_to  account_to     amount k_symbol\n",
       "0     29401           1      YZ    87144583 2,452.0000     SIPO\n",
       "1     29402           2      ST    89597016 3,372.7000     UVER"
      ]
     },
     "execution_count": 26,
     "metadata": {},
     "output_type": "execute_result"
    }
   ],
   "source": [
    "order.head(2)"
   ]
  },
  {
   "cell_type": "code",
   "execution_count": 151,
   "metadata": {
    "ExecuteTime": {
     "end_time": "2021-02-07T17:56:51.529394Z",
     "start_time": "2021-02-07T17:56:51.521773Z"
    }
   },
   "outputs": [],
   "source": [
    "order.k_symbol = order.k_symbol.replace({\"POJISTNE\": 'pago_seguro', \"SIPO\": 'pago_domestico',\n",
    "                                         \"LEASING\": 'pago_arrendamiento', \"UVER\": 'pago_prestamo',\" \": 'no_aplica'})"
   ]
  },
  {
   "cell_type": "markdown",
   "metadata": {},
   "source": [
    "## Transactions"
   ]
  },
  {
   "cell_type": "code",
   "execution_count": 187,
   "metadata": {
    "ExecuteTime": {
     "end_time": "2021-02-07T19:10:59.577911Z",
     "start_time": "2021-02-07T19:10:59.362620Z"
    }
   },
   "outputs": [
    {
     "name": "stdout",
     "output_type": "stream",
     "text": [
      "<class 'pandas.core.frame.DataFrame'>\n",
      "RangeIndex: 1056320 entries, 0 to 1056319\n",
      "Data columns (total 10 columns):\n",
      " #   Column      Non-Null Count    Dtype  \n",
      "---  ------      --------------    -----  \n",
      " 0   trans_id    1056320 non-null  int64  \n",
      " 1   account_id  1056320 non-null  int64  \n",
      " 2   date        1056320 non-null  int64  \n",
      " 3   type        1056320 non-null  object \n",
      " 4   operation   873206 non-null   object \n",
      " 5   amount      1056320 non-null  float64\n",
      " 6   balance     1056320 non-null  float64\n",
      " 7   k_symbol    574439 non-null   object \n",
      " 8   bank        273508 non-null   object \n",
      " 9   account     295389 non-null   float64\n",
      "dtypes: float64(3), int64(3), object(4)\n",
      "memory usage: 80.6+ MB\n"
     ]
    }
   ],
   "source": [
    "trans.info()"
   ]
  },
  {
   "cell_type": "code",
   "execution_count": 188,
   "metadata": {
    "ExecuteTime": {
     "end_time": "2021-02-07T19:11:01.988368Z",
     "start_time": "2021-02-07T19:11:01.975381Z"
    }
   },
   "outputs": [
    {
     "data": {
      "text/html": [
       "<div>\n",
       "<style scoped>\n",
       "    .dataframe tbody tr th:only-of-type {\n",
       "        vertical-align: middle;\n",
       "    }\n",
       "\n",
       "    .dataframe tbody tr th {\n",
       "        vertical-align: top;\n",
       "    }\n",
       "\n",
       "    .dataframe thead th {\n",
       "        text-align: right;\n",
       "    }\n",
       "</style>\n",
       "<table border=\"1\" class=\"dataframe\">\n",
       "  <thead>\n",
       "    <tr style=\"text-align: right;\">\n",
       "      <th></th>\n",
       "      <th>trans_id</th>\n",
       "      <th>account_id</th>\n",
       "      <th>date</th>\n",
       "      <th>type</th>\n",
       "      <th>operation</th>\n",
       "      <th>amount</th>\n",
       "      <th>balance</th>\n",
       "      <th>k_symbol</th>\n",
       "      <th>bank</th>\n",
       "      <th>account</th>\n",
       "    </tr>\n",
       "  </thead>\n",
       "  <tbody>\n",
       "    <tr>\n",
       "      <th>0</th>\n",
       "      <td>695247</td>\n",
       "      <td>2378</td>\n",
       "      <td>930101</td>\n",
       "      <td>PRIJEM</td>\n",
       "      <td>VKLAD</td>\n",
       "      <td>700.0000</td>\n",
       "      <td>700.0000</td>\n",
       "      <td>NaN</td>\n",
       "      <td>NaN</td>\n",
       "      <td>nan</td>\n",
       "    </tr>\n",
       "    <tr>\n",
       "      <th>1</th>\n",
       "      <td>171812</td>\n",
       "      <td>576</td>\n",
       "      <td>930101</td>\n",
       "      <td>PRIJEM</td>\n",
       "      <td>VKLAD</td>\n",
       "      <td>900.0000</td>\n",
       "      <td>900.0000</td>\n",
       "      <td>NaN</td>\n",
       "      <td>NaN</td>\n",
       "      <td>nan</td>\n",
       "    </tr>\n",
       "    <tr>\n",
       "      <th>2</th>\n",
       "      <td>207264</td>\n",
       "      <td>704</td>\n",
       "      <td>930101</td>\n",
       "      <td>PRIJEM</td>\n",
       "      <td>VKLAD</td>\n",
       "      <td>1,000.0000</td>\n",
       "      <td>1,000.0000</td>\n",
       "      <td>NaN</td>\n",
       "      <td>NaN</td>\n",
       "      <td>nan</td>\n",
       "    </tr>\n",
       "    <tr>\n",
       "      <th>3</th>\n",
       "      <td>1117247</td>\n",
       "      <td>3818</td>\n",
       "      <td>930101</td>\n",
       "      <td>PRIJEM</td>\n",
       "      <td>VKLAD</td>\n",
       "      <td>600.0000</td>\n",
       "      <td>600.0000</td>\n",
       "      <td>NaN</td>\n",
       "      <td>NaN</td>\n",
       "      <td>nan</td>\n",
       "    </tr>\n",
       "    <tr>\n",
       "      <th>4</th>\n",
       "      <td>579373</td>\n",
       "      <td>1972</td>\n",
       "      <td>930102</td>\n",
       "      <td>PRIJEM</td>\n",
       "      <td>VKLAD</td>\n",
       "      <td>400.0000</td>\n",
       "      <td>400.0000</td>\n",
       "      <td>NaN</td>\n",
       "      <td>NaN</td>\n",
       "      <td>nan</td>\n",
       "    </tr>\n",
       "  </tbody>\n",
       "</table>\n",
       "</div>"
      ],
      "text/plain": [
       "   trans_id  account_id    date    type operation     amount    balance  \\\n",
       "0    695247        2378  930101  PRIJEM     VKLAD   700.0000   700.0000   \n",
       "1    171812         576  930101  PRIJEM     VKLAD   900.0000   900.0000   \n",
       "2    207264         704  930101  PRIJEM     VKLAD 1,000.0000 1,000.0000   \n",
       "3   1117247        3818  930101  PRIJEM     VKLAD   600.0000   600.0000   \n",
       "4    579373        1972  930102  PRIJEM     VKLAD   400.0000   400.0000   \n",
       "\n",
       "  k_symbol bank  account  \n",
       "0      NaN  NaN      nan  \n",
       "1      NaN  NaN      nan  \n",
       "2      NaN  NaN      nan  \n",
       "3      NaN  NaN      nan  \n",
       "4      NaN  NaN      nan  "
      ]
     },
     "execution_count": 188,
     "metadata": {},
     "output_type": "execute_result"
    }
   ],
   "source": [
    "trans.head(5)"
   ]
  },
  {
   "cell_type": "code",
   "execution_count": 189,
   "metadata": {
    "ExecuteTime": {
     "end_time": "2021-02-07T19:11:06.132705Z",
     "start_time": "2021-02-07T19:11:05.935118Z"
    }
   },
   "outputs": [],
   "source": [
    "trans.type = trans.type.replace({\"PRIJEM\": 'credito', \"VYDAJ\": 'debito', \"VYBER\":'retiro_en_efectivo'})"
   ]
  },
  {
   "cell_type": "code",
   "execution_count": 190,
   "metadata": {
    "ExecuteTime": {
     "end_time": "2021-02-07T19:11:14.010728Z",
     "start_time": "2021-02-07T19:11:13.780716Z"
    }
   },
   "outputs": [],
   "source": [
    "trans.operation = trans.operation.replace({\"VYBER KARTOU\": 'retiro_tarjeta_cred', \"VKLAD\": 'credito_en_efectivo',\n",
    "                                           \"PREVOD Z UCTU\":'cobro_otro_banco',\"VYBER\":'retiro_en_efectivo',\n",
    "                                           \"PREVOD NA UCET\":'remesa_otro_banco',\n",
    "                                           np.nan: \"no_aplica\"})"
   ]
  },
  {
   "cell_type": "code",
   "execution_count": 193,
   "metadata": {
    "ExecuteTime": {
     "end_time": "2021-02-07T19:11:23.701727Z",
     "start_time": "2021-02-07T19:11:23.623277Z"
    }
   },
   "outputs": [
    {
     "data": {
      "text/plain": [
       "array(['no_aplica', 'pago_de_pension', 'interes_acreditado',\n",
       "       'pago_domestico', 'pago_de_declaracion', 'pago_seguro',\n",
       "       'interes_de_sancion_si_saldo_negativo', 'pago_de_prestamo'],\n",
       "      dtype=object)"
      ]
     },
     "execution_count": 193,
     "metadata": {},
     "output_type": "execute_result"
    }
   ],
   "source": [
    "trans.k_symbol.unique()"
   ]
  },
  {
   "cell_type": "code",
   "execution_count": 192,
   "metadata": {
    "ExecuteTime": {
     "end_time": "2021-02-07T19:11:20.471270Z",
     "start_time": "2021-02-07T19:11:20.144653Z"
    }
   },
   "outputs": [],
   "source": [
    "trans.k_symbol = trans.k_symbol.replace({\"POJISTNE\": 'pago_seguro', \"SLUZBY\": 'pago_de_declaracion',\n",
    "                                         \"UROK\":'interes_acreditado',\n",
    "                                         \"SANKC. UROK\": 'interes_de_sancion_si_saldo_negativo',\n",
    "                                         \"SIPO\": 'pago_domestico',\"DUCHOD\": 'pago_de_pension',\n",
    "                                         \"UVER\": 'pago_de_prestamo',\n",
    "                                         np.nan: \"no_aplica\",\n",
    "                                         \" \": \"no_aplica\"})"
   ]
  },
  {
   "cell_type": "code",
   "execution_count": 194,
   "metadata": {
    "ExecuteTime": {
     "end_time": "2021-02-07T19:11:41.376722Z",
     "start_time": "2021-02-07T19:11:41.143519Z"
    }
   },
   "outputs": [],
   "source": [
    "trans['bank'] = trans['bank'].replace(np.nan, \"no_aplica\") \n",
    "trans['account'] = trans['account'].replace(np.nan, \"no_aplica\")"
   ]
  },
  {
   "cell_type": "code",
   "execution_count": 195,
   "metadata": {
    "ExecuteTime": {
     "end_time": "2021-02-07T19:11:43.150519Z",
     "start_time": "2021-02-07T19:11:41.843757Z"
    }
   },
   "outputs": [],
   "source": [
    "trans['date'] = trans['date'].astype(str)\n",
    "trans['date'] = \"19\"+trans['date']\n",
    "trans['date']=pd.to_datetime(trans['date'], format= '%Y%m%d')"
   ]
  },
  {
   "cell_type": "code",
   "execution_count": 196,
   "metadata": {
    "ExecuteTime": {
     "end_time": "2021-02-07T19:11:43.381136Z",
     "start_time": "2021-02-07T19:11:43.273221Z"
    }
   },
   "outputs": [
    {
     "data": {
      "text/plain": [
       "array(['credito_en_efectivo', 'cobro_otro_banco', 'retiro_en_efectivo',\n",
       "       'no_aplica', 'remesa_otro_banco', 'retiro_tarjeta_cred'],\n",
       "      dtype=object)"
      ]
     },
     "execution_count": 196,
     "metadata": {},
     "output_type": "execute_result"
    }
   ],
   "source": [
    "trans.operation.unique()"
   ]
  },
  {
   "cell_type": "markdown",
   "metadata": {},
   "source": [
    "## Account"
   ]
  },
  {
   "cell_type": "code",
   "execution_count": 148,
   "metadata": {
    "ExecuteTime": {
     "end_time": "2021-02-07T17:51:01.042495Z",
     "start_time": "2021-02-07T17:51:01.029591Z"
    }
   },
   "outputs": [
    {
     "data": {
      "text/html": [
       "<div>\n",
       "<style scoped>\n",
       "    .dataframe tbody tr th:only-of-type {\n",
       "        vertical-align: middle;\n",
       "    }\n",
       "\n",
       "    .dataframe tbody tr th {\n",
       "        vertical-align: top;\n",
       "    }\n",
       "\n",
       "    .dataframe thead th {\n",
       "        text-align: right;\n",
       "    }\n",
       "</style>\n",
       "<table border=\"1\" class=\"dataframe\">\n",
       "  <thead>\n",
       "    <tr style=\"text-align: right;\">\n",
       "      <th></th>\n",
       "      <th>account_id</th>\n",
       "      <th>district_id</th>\n",
       "      <th>frequency</th>\n",
       "      <th>date</th>\n",
       "    </tr>\n",
       "  </thead>\n",
       "  <tbody>\n",
       "    <tr>\n",
       "      <th>0</th>\n",
       "      <td>576</td>\n",
       "      <td>55</td>\n",
       "      <td>emision_mensual</td>\n",
       "      <td>1993-01-01</td>\n",
       "    </tr>\n",
       "    <tr>\n",
       "      <th>1</th>\n",
       "      <td>3818</td>\n",
       "      <td>74</td>\n",
       "      <td>emision_mensual</td>\n",
       "      <td>1993-01-01</td>\n",
       "    </tr>\n",
       "    <tr>\n",
       "      <th>2</th>\n",
       "      <td>704</td>\n",
       "      <td>55</td>\n",
       "      <td>emision_mensual</td>\n",
       "      <td>1993-01-01</td>\n",
       "    </tr>\n",
       "    <tr>\n",
       "      <th>3</th>\n",
       "      <td>2378</td>\n",
       "      <td>16</td>\n",
       "      <td>emision_mensual</td>\n",
       "      <td>1993-01-01</td>\n",
       "    </tr>\n",
       "    <tr>\n",
       "      <th>4</th>\n",
       "      <td>2632</td>\n",
       "      <td>24</td>\n",
       "      <td>emision_mensual</td>\n",
       "      <td>1993-01-02</td>\n",
       "    </tr>\n",
       "    <tr>\n",
       "      <th>...</th>\n",
       "      <td>...</td>\n",
       "      <td>...</td>\n",
       "      <td>...</td>\n",
       "      <td>...</td>\n",
       "    </tr>\n",
       "    <tr>\n",
       "      <th>4495</th>\n",
       "      <td>124</td>\n",
       "      <td>55</td>\n",
       "      <td>emision_mensual</td>\n",
       "      <td>1997-12-28</td>\n",
       "    </tr>\n",
       "    <tr>\n",
       "      <th>4496</th>\n",
       "      <td>3958</td>\n",
       "      <td>59</td>\n",
       "      <td>emision_mensual</td>\n",
       "      <td>1997-12-28</td>\n",
       "    </tr>\n",
       "    <tr>\n",
       "      <th>4497</th>\n",
       "      <td>777</td>\n",
       "      <td>30</td>\n",
       "      <td>emision_mensual</td>\n",
       "      <td>1997-12-28</td>\n",
       "    </tr>\n",
       "    <tr>\n",
       "      <th>4498</th>\n",
       "      <td>1573</td>\n",
       "      <td>63</td>\n",
       "      <td>emision_mensual</td>\n",
       "      <td>1997-12-29</td>\n",
       "    </tr>\n",
       "    <tr>\n",
       "      <th>4499</th>\n",
       "      <td>3276</td>\n",
       "      <td>1</td>\n",
       "      <td>emision_mensual</td>\n",
       "      <td>1997-12-29</td>\n",
       "    </tr>\n",
       "  </tbody>\n",
       "</table>\n",
       "<p>4500 rows × 4 columns</p>\n",
       "</div>"
      ],
      "text/plain": [
       "      account_id  district_id        frequency       date\n",
       "0            576           55  emision_mensual 1993-01-01\n",
       "1           3818           74  emision_mensual 1993-01-01\n",
       "2            704           55  emision_mensual 1993-01-01\n",
       "3           2378           16  emision_mensual 1993-01-01\n",
       "4           2632           24  emision_mensual 1993-01-02\n",
       "...          ...          ...              ...        ...\n",
       "4495         124           55  emision_mensual 1997-12-28\n",
       "4496        3958           59  emision_mensual 1997-12-28\n",
       "4497         777           30  emision_mensual 1997-12-28\n",
       "4498        1573           63  emision_mensual 1997-12-29\n",
       "4499        3276            1  emision_mensual 1997-12-29\n",
       "\n",
       "[4500 rows x 4 columns]"
      ]
     },
     "execution_count": 148,
     "metadata": {},
     "output_type": "execute_result"
    }
   ],
   "source": [
    "account"
   ]
  },
  {
   "cell_type": "code",
   "execution_count": 145,
   "metadata": {
    "ExecuteTime": {
     "end_time": "2021-02-07T17:49:22.425676Z",
     "start_time": "2021-02-07T17:49:22.417759Z"
    }
   },
   "outputs": [],
   "source": [
    "account.frequency = account.frequency.replace({\"POPLATEK MESICNE\": 'emision_mensual',\n",
    "                                               \"POPLATEK TYDNE\": 'emision_semanal',\n",
    "                                               \"POPLATEK PO OBRATU\": 'emision_desp_tans'})"
   ]
  },
  {
   "cell_type": "code",
   "execution_count": 147,
   "metadata": {
    "ExecuteTime": {
     "end_time": "2021-02-07T17:50:56.544931Z",
     "start_time": "2021-02-07T17:50:56.529164Z"
    }
   },
   "outputs": [],
   "source": [
    "account['date'] = account['date'].astype(str)\n",
    "account['date'] = '19'+account['date']\n",
    "account['date']=pd.to_datetime(account['date'], format=\"%Y%m%d\")"
   ]
  },
  {
   "cell_type": "markdown",
   "metadata": {},
   "source": [
    "# Tarjetas de Crédito y Préstamos"
   ]
  },
  {
   "cell_type": "code",
   "execution_count": 205,
   "metadata": {
    "ExecuteTime": {
     "end_time": "2021-02-07T19:30:31.809428Z",
     "start_time": "2021-02-07T19:30:31.513997Z"
    }
   },
   "outputs": [],
   "source": [
    "trans['quarter'] = trans.date.dt.quarter\n",
    "trans['year'] = trans.date.dt.year\n",
    "trans['month'] = trans.date.dt.month"
   ]
  },
  {
   "cell_type": "code",
   "execution_count": 206,
   "metadata": {
    "ExecuteTime": {
     "end_time": "2021-02-07T19:30:31.983494Z",
     "start_time": "2021-02-07T19:30:31.961650Z"
    }
   },
   "outputs": [
    {
     "data": {
      "text/html": [
       "<div>\n",
       "<style scoped>\n",
       "    .dataframe tbody tr th:only-of-type {\n",
       "        vertical-align: middle;\n",
       "    }\n",
       "\n",
       "    .dataframe tbody tr th {\n",
       "        vertical-align: top;\n",
       "    }\n",
       "\n",
       "    .dataframe thead th {\n",
       "        text-align: right;\n",
       "    }\n",
       "</style>\n",
       "<table border=\"1\" class=\"dataframe\">\n",
       "  <thead>\n",
       "    <tr style=\"text-align: right;\">\n",
       "      <th></th>\n",
       "      <th>trans_id</th>\n",
       "      <th>account_id</th>\n",
       "      <th>date</th>\n",
       "      <th>type</th>\n",
       "      <th>operation</th>\n",
       "      <th>amount</th>\n",
       "      <th>balance</th>\n",
       "      <th>k_symbol</th>\n",
       "      <th>bank</th>\n",
       "      <th>account</th>\n",
       "      <th>quarter</th>\n",
       "      <th>year</th>\n",
       "      <th>month</th>\n",
       "    </tr>\n",
       "  </thead>\n",
       "  <tbody>\n",
       "    <tr>\n",
       "      <th>0</th>\n",
       "      <td>695247</td>\n",
       "      <td>2378</td>\n",
       "      <td>1993-01-01</td>\n",
       "      <td>credito</td>\n",
       "      <td>credito_en_efectivo</td>\n",
       "      <td>700.0000</td>\n",
       "      <td>700.0000</td>\n",
       "      <td>no_aplica</td>\n",
       "      <td>no_aplica</td>\n",
       "      <td>no_aplica</td>\n",
       "      <td>1</td>\n",
       "      <td>1993</td>\n",
       "      <td>1</td>\n",
       "    </tr>\n",
       "    <tr>\n",
       "      <th>1</th>\n",
       "      <td>171812</td>\n",
       "      <td>576</td>\n",
       "      <td>1993-01-01</td>\n",
       "      <td>credito</td>\n",
       "      <td>credito_en_efectivo</td>\n",
       "      <td>900.0000</td>\n",
       "      <td>900.0000</td>\n",
       "      <td>no_aplica</td>\n",
       "      <td>no_aplica</td>\n",
       "      <td>no_aplica</td>\n",
       "      <td>1</td>\n",
       "      <td>1993</td>\n",
       "      <td>1</td>\n",
       "    </tr>\n",
       "    <tr>\n",
       "      <th>2</th>\n",
       "      <td>207264</td>\n",
       "      <td>704</td>\n",
       "      <td>1993-01-01</td>\n",
       "      <td>credito</td>\n",
       "      <td>credito_en_efectivo</td>\n",
       "      <td>1,000.0000</td>\n",
       "      <td>1,000.0000</td>\n",
       "      <td>no_aplica</td>\n",
       "      <td>no_aplica</td>\n",
       "      <td>no_aplica</td>\n",
       "      <td>1</td>\n",
       "      <td>1993</td>\n",
       "      <td>1</td>\n",
       "    </tr>\n",
       "    <tr>\n",
       "      <th>3</th>\n",
       "      <td>1117247</td>\n",
       "      <td>3818</td>\n",
       "      <td>1993-01-01</td>\n",
       "      <td>credito</td>\n",
       "      <td>credito_en_efectivo</td>\n",
       "      <td>600.0000</td>\n",
       "      <td>600.0000</td>\n",
       "      <td>no_aplica</td>\n",
       "      <td>no_aplica</td>\n",
       "      <td>no_aplica</td>\n",
       "      <td>1</td>\n",
       "      <td>1993</td>\n",
       "      <td>1</td>\n",
       "    </tr>\n",
       "    <tr>\n",
       "      <th>4</th>\n",
       "      <td>579373</td>\n",
       "      <td>1972</td>\n",
       "      <td>1993-01-02</td>\n",
       "      <td>credito</td>\n",
       "      <td>credito_en_efectivo</td>\n",
       "      <td>400.0000</td>\n",
       "      <td>400.0000</td>\n",
       "      <td>no_aplica</td>\n",
       "      <td>no_aplica</td>\n",
       "      <td>no_aplica</td>\n",
       "      <td>1</td>\n",
       "      <td>1993</td>\n",
       "      <td>1</td>\n",
       "    </tr>\n",
       "  </tbody>\n",
       "</table>\n",
       "</div>"
      ],
      "text/plain": [
       "   trans_id  account_id       date     type            operation     amount  \\\n",
       "0    695247        2378 1993-01-01  credito  credito_en_efectivo   700.0000   \n",
       "1    171812         576 1993-01-01  credito  credito_en_efectivo   900.0000   \n",
       "2    207264         704 1993-01-01  credito  credito_en_efectivo 1,000.0000   \n",
       "3   1117247        3818 1993-01-01  credito  credito_en_efectivo   600.0000   \n",
       "4    579373        1972 1993-01-02  credito  credito_en_efectivo   400.0000   \n",
       "\n",
       "     balance   k_symbol       bank    account  quarter  year  month  \n",
       "0   700.0000  no_aplica  no_aplica  no_aplica        1  1993      1  \n",
       "1   900.0000  no_aplica  no_aplica  no_aplica        1  1993      1  \n",
       "2 1,000.0000  no_aplica  no_aplica  no_aplica        1  1993      1  \n",
       "3   600.0000  no_aplica  no_aplica  no_aplica        1  1993      1  \n",
       "4   400.0000  no_aplica  no_aplica  no_aplica        1  1993      1  "
      ]
     },
     "execution_count": 206,
     "metadata": {},
     "output_type": "execute_result"
    }
   ],
   "source": [
    "trans.head(5)"
   ]
  },
  {
   "cell_type": "code",
   "execution_count": null,
   "metadata": {},
   "outputs": [],
   "source": [
    "diff=df[cols].groupby(['Region-Ciudad','Tipo',pd.Grouper(key='Fecha',freq='3MS')]).agg(lambda x: x.pct_change().agg([min,max,'mean']).to_list())\n",
    "xd = diff['PrecioPromedio'].apply(pd.Series)\n",
    "xd.reset_index(inplace=True)\n",
    "i = 'PrecioPromedio'\n",
    "xd.rename(columns={0:f'{i}_cambio_minimo',1:f'{i}_cambio_maximo',2:f'{i}_media_cambio'},inplace=True)\n",
    "for i in new_cols:\n",
    "\tcentinel = diff[i].apply(pd.Series)\n",
    "\tcentinel.reset_index(inplace=True)\n",
    "\tcentinel.rename(columns={0:f'{i}_cambio_minimo',1:f'{i}_cambio_maximo',2:f'{i}_media_cambio'},inplace=True)\n",
    "\txd = xd.merge(centinel,how='left',on=['Region-Ciudad','Tipo','Fecha'])"
   ]
  },
  {
   "cell_type": "code",
   "execution_count": 226,
   "metadata": {
    "ExecuteTime": {
     "end_time": "2021-02-07T20:29:00.765656Z",
     "start_time": "2021-02-07T20:29:00.063134Z"
    }
   },
   "outputs": [],
   "source": [
    "a = trans[['account_id','type','date','amount','balance']].groupby(['account_id','type',pd.Grouper(key='date', freq='M')]).agg(['count',max,min,'mean'])"
   ]
  },
  {
   "cell_type": "code",
   "execution_count": 229,
   "metadata": {
    "ExecuteTime": {
     "end_time": "2021-02-07T20:32:03.222954Z",
     "start_time": "2021-02-07T20:32:03.212998Z"
    }
   },
   "outputs": [],
   "source": [
    "a.reset_index(inplace=True)\n",
    "a.columns=[x+'_'+y for x,y in a.columns]"
   ]
  },
  {
   "cell_type": "code",
   "execution_count": 231,
   "metadata": {
    "ExecuteTime": {
     "end_time": "2021-02-07T20:43:34.129001Z",
     "start_time": "2021-02-07T20:43:34.103376Z"
    }
   },
   "outputs": [
    {
     "data": {
      "text/html": [
       "<div>\n",
       "<style scoped>\n",
       "    .dataframe tbody tr th:only-of-type {\n",
       "        vertical-align: middle;\n",
       "    }\n",
       "\n",
       "    .dataframe tbody tr th {\n",
       "        vertical-align: top;\n",
       "    }\n",
       "\n",
       "    .dataframe thead th {\n",
       "        text-align: right;\n",
       "    }\n",
       "</style>\n",
       "<table border=\"1\" class=\"dataframe\">\n",
       "  <thead>\n",
       "    <tr style=\"text-align: right;\">\n",
       "      <th></th>\n",
       "      <th>trans_id</th>\n",
       "      <th>account_id</th>\n",
       "      <th>date</th>\n",
       "      <th>type</th>\n",
       "      <th>operation</th>\n",
       "      <th>amount</th>\n",
       "      <th>balance</th>\n",
       "      <th>k_symbol</th>\n",
       "      <th>bank</th>\n",
       "      <th>account</th>\n",
       "      <th>quarter</th>\n",
       "      <th>year</th>\n",
       "      <th>month</th>\n",
       "    </tr>\n",
       "  </thead>\n",
       "  <tbody>\n",
       "    <tr>\n",
       "      <th>149431</th>\n",
       "      <td>1</td>\n",
       "      <td>1</td>\n",
       "      <td>1995-03-24</td>\n",
       "      <td>credito</td>\n",
       "      <td>credito_en_efectivo</td>\n",
       "      <td>1,000.0000</td>\n",
       "      <td>1,000.0000</td>\n",
       "      <td>no_aplica</td>\n",
       "      <td>no_aplica</td>\n",
       "      <td>no_aplica</td>\n",
       "      <td>1</td>\n",
       "      <td>1995</td>\n",
       "      <td>3</td>\n",
       "    </tr>\n",
       "    <tr>\n",
       "      <th>157403</th>\n",
       "      <td>5</td>\n",
       "      <td>1</td>\n",
       "      <td>1995-04-13</td>\n",
       "      <td>credito</td>\n",
       "      <td>cobro_otro_banco</td>\n",
       "      <td>3,679.0000</td>\n",
       "      <td>4,679.0000</td>\n",
       "      <td>no_aplica</td>\n",
       "      <td>AB</td>\n",
       "      <td>41,403,269.0000</td>\n",
       "      <td>2</td>\n",
       "      <td>1995</td>\n",
       "      <td>4</td>\n",
       "    </tr>\n",
       "    <tr>\n",
       "      <th>158831</th>\n",
       "      <td>199</td>\n",
       "      <td>1</td>\n",
       "      <td>1995-04-23</td>\n",
       "      <td>credito</td>\n",
       "      <td>credito_en_efectivo</td>\n",
       "      <td>12,600.0000</td>\n",
       "      <td>17,279.0000</td>\n",
       "      <td>no_aplica</td>\n",
       "      <td>no_aplica</td>\n",
       "      <td>no_aplica</td>\n",
       "      <td>2</td>\n",
       "      <td>1995</td>\n",
       "      <td>4</td>\n",
       "    </tr>\n",
       "    <tr>\n",
       "      <th>162680</th>\n",
       "      <td>3530438</td>\n",
       "      <td>1</td>\n",
       "      <td>1995-04-30</td>\n",
       "      <td>credito</td>\n",
       "      <td>no_aplica</td>\n",
       "      <td>19.2000</td>\n",
       "      <td>17,298.2000</td>\n",
       "      <td>interes_acreditado</td>\n",
       "      <td>no_aplica</td>\n",
       "      <td>no_aplica</td>\n",
       "      <td>2</td>\n",
       "      <td>1995</td>\n",
       "      <td>4</td>\n",
       "    </tr>\n",
       "    <tr>\n",
       "      <th>167082</th>\n",
       "      <td>6</td>\n",
       "      <td>1</td>\n",
       "      <td>1995-05-13</td>\n",
       "      <td>credito</td>\n",
       "      <td>cobro_otro_banco</td>\n",
       "      <td>3,679.0000</td>\n",
       "      <td>20,977.2000</td>\n",
       "      <td>no_aplica</td>\n",
       "      <td>AB</td>\n",
       "      <td>41,403,269.0000</td>\n",
       "      <td>2</td>\n",
       "      <td>1995</td>\n",
       "      <td>5</td>\n",
       "    </tr>\n",
       "    <tr>\n",
       "      <th>...</th>\n",
       "      <td>...</td>\n",
       "      <td>...</td>\n",
       "      <td>...</td>\n",
       "      <td>...</td>\n",
       "      <td>...</td>\n",
       "      <td>...</td>\n",
       "      <td>...</td>\n",
       "      <td>...</td>\n",
       "      <td>...</td>\n",
       "      <td>...</td>\n",
       "      <td>...</td>\n",
       "      <td>...</td>\n",
       "      <td>...</td>\n",
       "    </tr>\n",
       "    <tr>\n",
       "      <th>1032335</th>\n",
       "      <td>3530481</td>\n",
       "      <td>1</td>\n",
       "      <td>1998-11-30</td>\n",
       "      <td>credito</td>\n",
       "      <td>no_aplica</td>\n",
       "      <td>67.1000</td>\n",
       "      <td>16,701.5000</td>\n",
       "      <td>interes_acreditado</td>\n",
       "      <td>no_aplica</td>\n",
       "      <td>no_aplica</td>\n",
       "      <td>4</td>\n",
       "      <td>1998</td>\n",
       "      <td>11</td>\n",
       "    </tr>\n",
       "    <tr>\n",
       "      <th>1033712</th>\n",
       "      <td>230</td>\n",
       "      <td>1</td>\n",
       "      <td>1998-12-03</td>\n",
       "      <td>debito</td>\n",
       "      <td>retiro_en_efectivo</td>\n",
       "      <td>4,500.0000</td>\n",
       "      <td>12,186.9000</td>\n",
       "      <td>no_aplica</td>\n",
       "      <td>no_aplica</td>\n",
       "      <td>no_aplica</td>\n",
       "      <td>4</td>\n",
       "      <td>1998</td>\n",
       "      <td>12</td>\n",
       "    </tr>\n",
       "    <tr>\n",
       "      <th>1035096</th>\n",
       "      <td>97</td>\n",
       "      <td>1</td>\n",
       "      <td>1998-12-05</td>\n",
       "      <td>debito</td>\n",
       "      <td>remesa_otro_banco</td>\n",
       "      <td>2,452.0000</td>\n",
       "      <td>9,734.9000</td>\n",
       "      <td>pago_domestico</td>\n",
       "      <td>YZ</td>\n",
       "      <td>87,144,583.0000</td>\n",
       "      <td>4</td>\n",
       "      <td>1998</td>\n",
       "      <td>12</td>\n",
       "    </tr>\n",
       "    <tr>\n",
       "      <th>1045492</th>\n",
       "      <td>49</td>\n",
       "      <td>1</td>\n",
       "      <td>1998-12-13</td>\n",
       "      <td>credito</td>\n",
       "      <td>cobro_otro_banco</td>\n",
       "      <td>3,679.0000</td>\n",
       "      <td>13,413.9000</td>\n",
       "      <td>no_aplica</td>\n",
       "      <td>AB</td>\n",
       "      <td>41,403,269.0000</td>\n",
       "      <td>4</td>\n",
       "      <td>1998</td>\n",
       "      <td>12</td>\n",
       "    </tr>\n",
       "    <tr>\n",
       "      <th>1056136</th>\n",
       "      <td>3530482</td>\n",
       "      <td>1</td>\n",
       "      <td>1998-12-31</td>\n",
       "      <td>credito</td>\n",
       "      <td>no_aplica</td>\n",
       "      <td>52.6000</td>\n",
       "      <td>13,466.5000</td>\n",
       "      <td>interes_acreditado</td>\n",
       "      <td>no_aplica</td>\n",
       "      <td>no_aplica</td>\n",
       "      <td>4</td>\n",
       "      <td>1998</td>\n",
       "      <td>12</td>\n",
       "    </tr>\n",
       "  </tbody>\n",
       "</table>\n",
       "<p>239 rows × 13 columns</p>\n",
       "</div>"
      ],
      "text/plain": [
       "         trans_id  account_id       date     type            operation  \\\n",
       "149431          1           1 1995-03-24  credito  credito_en_efectivo   \n",
       "157403          5           1 1995-04-13  credito     cobro_otro_banco   \n",
       "158831        199           1 1995-04-23  credito  credito_en_efectivo   \n",
       "162680    3530438           1 1995-04-30  credito            no_aplica   \n",
       "167082          6           1 1995-05-13  credito     cobro_otro_banco   \n",
       "...           ...         ...        ...      ...                  ...   \n",
       "1032335   3530481           1 1998-11-30  credito            no_aplica   \n",
       "1033712       230           1 1998-12-03   debito   retiro_en_efectivo   \n",
       "1035096        97           1 1998-12-05   debito    remesa_otro_banco   \n",
       "1045492        49           1 1998-12-13  credito     cobro_otro_banco   \n",
       "1056136   3530482           1 1998-12-31  credito            no_aplica   \n",
       "\n",
       "             amount     balance            k_symbol       bank  \\\n",
       "149431   1,000.0000  1,000.0000           no_aplica  no_aplica   \n",
       "157403   3,679.0000  4,679.0000           no_aplica         AB   \n",
       "158831  12,600.0000 17,279.0000           no_aplica  no_aplica   \n",
       "162680      19.2000 17,298.2000  interes_acreditado  no_aplica   \n",
       "167082   3,679.0000 20,977.2000           no_aplica         AB   \n",
       "...             ...         ...                 ...        ...   \n",
       "1032335     67.1000 16,701.5000  interes_acreditado  no_aplica   \n",
       "1033712  4,500.0000 12,186.9000           no_aplica  no_aplica   \n",
       "1035096  2,452.0000  9,734.9000      pago_domestico         YZ   \n",
       "1045492  3,679.0000 13,413.9000           no_aplica         AB   \n",
       "1056136     52.6000 13,466.5000  interes_acreditado  no_aplica   \n",
       "\n",
       "                account  quarter  year  month  \n",
       "149431        no_aplica        1  1995      3  \n",
       "157403  41,403,269.0000        2  1995      4  \n",
       "158831        no_aplica        2  1995      4  \n",
       "162680        no_aplica        2  1995      4  \n",
       "167082  41,403,269.0000        2  1995      5  \n",
       "...                 ...      ...   ...    ...  \n",
       "1032335       no_aplica        4  1998     11  \n",
       "1033712       no_aplica        4  1998     12  \n",
       "1035096 87,144,583.0000        4  1998     12  \n",
       "1045492 41,403,269.0000        4  1998     12  \n",
       "1056136       no_aplica        4  1998     12  \n",
       "\n",
       "[239 rows x 13 columns]"
      ]
     },
     "execution_count": 231,
     "metadata": {},
     "output_type": "execute_result"
    }
   ],
   "source": [
    "trans.loc[trans.account_id==1]"
   ]
  },
  {
   "cell_type": "code",
   "execution_count": 233,
   "metadata": {
    "ExecuteTime": {
     "end_time": "2021-02-07T20:49:01.726714Z",
     "start_time": "2021-02-07T20:49:01.721133Z"
    }
   },
   "outputs": [],
   "source": [
    "cols = [x for x in a.columns if x not in ['index_','date_','account_id_','type_']]"
   ]
  },
  {
   "cell_type": "code",
   "execution_count": null,
   "metadata": {},
   "outputs": [],
   "source": [
    "a.loc[a.account_id_==1,'amount_count']"
   ]
  },
  {
   "cell_type": "code",
   "execution_count": 244,
   "metadata": {
    "ExecuteTime": {
     "end_time": "2021-02-07T20:57:39.763608Z",
     "start_time": "2021-02-07T20:57:39.657516Z"
    }
   },
   "outputs": [],
   "source": [
    "aux_trans = a.groupby(['account_id_','type_'])[cols].agg('mean').reset_index()"
   ]
  },
  {
   "cell_type": "code",
   "execution_count": 249,
   "metadata": {
    "ExecuteTime": {
     "end_time": "2021-02-07T21:03:02.403728Z",
     "start_time": "2021-02-07T21:03:02.386007Z"
    }
   },
   "outputs": [
    {
     "data": {
      "text/html": [
       "<div>\n",
       "<style scoped>\n",
       "    .dataframe tbody tr th:only-of-type {\n",
       "        vertical-align: middle;\n",
       "    }\n",
       "\n",
       "    .dataframe tbody tr th {\n",
       "        vertical-align: top;\n",
       "    }\n",
       "\n",
       "    .dataframe thead th {\n",
       "        text-align: right;\n",
       "    }\n",
       "</style>\n",
       "<table border=\"1\" class=\"dataframe\">\n",
       "  <thead>\n",
       "    <tr style=\"text-align: right;\">\n",
       "      <th></th>\n",
       "      <th>account_id_</th>\n",
       "      <th>type_</th>\n",
       "      <th>amount_count</th>\n",
       "      <th>amount_max</th>\n",
       "      <th>amount_min</th>\n",
       "      <th>amount_mean</th>\n",
       "      <th>balance_count</th>\n",
       "      <th>balance_max</th>\n",
       "      <th>balance_min</th>\n",
       "      <th>balance_mean</th>\n",
       "    </tr>\n",
       "  </thead>\n",
       "  <tbody>\n",
       "    <tr>\n",
       "      <th>0</th>\n",
       "      <td>1</td>\n",
       "      <td>credito</td>\n",
       "      <td>2.2174</td>\n",
       "      <td>3,814.6957</td>\n",
       "      <td>88.3804</td>\n",
       "      <td>1,884.4957</td>\n",
       "      <td>2.2174</td>\n",
       "      <td>17,732.1609</td>\n",
       "      <td>15,862.4652</td>\n",
       "      <td>16,878.0645</td>\n",
       "    </tr>\n",
       "    <tr>\n",
       "      <th>1</th>\n",
       "      <td>1</td>\n",
       "      <td>debito</td>\n",
       "      <td>3.1860</td>\n",
       "      <td>2,897.9535</td>\n",
       "      <td>198.5116</td>\n",
       "      <td>1,464.1950</td>\n",
       "      <td>3.1860</td>\n",
       "      <td>17,005.4209</td>\n",
       "      <td>13,982.9372</td>\n",
       "      <td>15,641.1555</td>\n",
       "    </tr>\n",
       "    <tr>\n",
       "      <th>2</th>\n",
       "      <td>2</td>\n",
       "      <td>credito</td>\n",
       "      <td>2.1408</td>\n",
       "      <td>21,676.5634</td>\n",
       "      <td>166.4437</td>\n",
       "      <td>10,593.9110</td>\n",
       "      <td>2.1408</td>\n",
       "      <td>47,497.1972</td>\n",
       "      <td>34,441.5944</td>\n",
       "      <td>41,089.7023</td>\n",
       "    </tr>\n",
       "    <tr>\n",
       "      <th>3</th>\n",
       "      <td>2</td>\n",
       "      <td>debito</td>\n",
       "      <td>4.4203</td>\n",
       "      <td>9,001.0435</td>\n",
       "      <td>778.9710</td>\n",
       "      <td>4,724.0312</td>\n",
       "      <td>4.4203</td>\n",
       "      <td>42,992.0638</td>\n",
       "      <td>25,734.3725</td>\n",
       "      <td>34,748.6680</td>\n",
       "    </tr>\n",
       "    <tr>\n",
       "      <th>4</th>\n",
       "      <td>2</td>\n",
       "      <td>retiro_en_efectivo</td>\n",
       "      <td>1.1667</td>\n",
       "      <td>11,205.1111</td>\n",
       "      <td>10,700.1667</td>\n",
       "      <td>10,966.8148</td>\n",
       "      <td>1.1667</td>\n",
       "      <td>36,806.7611</td>\n",
       "      <td>35,619.1167</td>\n",
       "      <td>36,234.0185</td>\n",
       "    </tr>\n",
       "    <tr>\n",
       "      <th>...</th>\n",
       "      <td>...</td>\n",
       "      <td>...</td>\n",
       "      <td>...</td>\n",
       "      <td>...</td>\n",
       "      <td>...</td>\n",
       "      <td>...</td>\n",
       "      <td>...</td>\n",
       "      <td>...</td>\n",
       "      <td>...</td>\n",
       "      <td>...</td>\n",
       "    </tr>\n",
       "    <tr>\n",
       "      <th>10139</th>\n",
       "      <td>11362</td>\n",
       "      <td>credito</td>\n",
       "      <td>2.0769</td>\n",
       "      <td>17,201.4103</td>\n",
       "      <td>133.7359</td>\n",
       "      <td>8,468.7115</td>\n",
       "      <td>2.0769</td>\n",
       "      <td>38,688.2744</td>\n",
       "      <td>23,065.0897</td>\n",
       "      <td>30,793.7329</td>\n",
       "    </tr>\n",
       "    <tr>\n",
       "      <th>10140</th>\n",
       "      <td>11362</td>\n",
       "      <td>debito</td>\n",
       "      <td>7.1081</td>\n",
       "      <td>7,081.6216</td>\n",
       "      <td>1,017.2378</td>\n",
       "      <td>3,155.9358</td>\n",
       "      <td>7.1081</td>\n",
       "      <td>38,099.6919</td>\n",
       "      <td>22,848.0486</td>\n",
       "      <td>31,203.3825</td>\n",
       "    </tr>\n",
       "    <tr>\n",
       "      <th>10141</th>\n",
       "      <td>11382</td>\n",
       "      <td>credito</td>\n",
       "      <td>2.9512</td>\n",
       "      <td>32,716.8780</td>\n",
       "      <td>125.1634</td>\n",
       "      <td>10,998.5244</td>\n",
       "      <td>2.9512</td>\n",
       "      <td>56,054.8659</td>\n",
       "      <td>34,816.1683</td>\n",
       "      <td>41,941.6472</td>\n",
       "    </tr>\n",
       "    <tr>\n",
       "      <th>10142</th>\n",
       "      <td>11382</td>\n",
       "      <td>debito</td>\n",
       "      <td>2.9250</td>\n",
       "      <td>20,377.5000</td>\n",
       "      <td>2,216.2575</td>\n",
       "      <td>10,559.6201</td>\n",
       "      <td>2.9250</td>\n",
       "      <td>42,371.2325</td>\n",
       "      <td>25,187.5350</td>\n",
       "      <td>33,545.2826</td>\n",
       "    </tr>\n",
       "    <tr>\n",
       "      <th>10143</th>\n",
       "      <td>11382</td>\n",
       "      <td>retiro_en_efectivo</td>\n",
       "      <td>1.2500</td>\n",
       "      <td>15,551.0000</td>\n",
       "      <td>13,696.6667</td>\n",
       "      <td>14,594.8889</td>\n",
       "      <td>1.2500</td>\n",
       "      <td>22,615.6667</td>\n",
       "      <td>17,295.2500</td>\n",
       "      <td>19,872.0972</td>\n",
       "    </tr>\n",
       "  </tbody>\n",
       "</table>\n",
       "<p>10144 rows × 10 columns</p>\n",
       "</div>"
      ],
      "text/plain": [
       "       account_id_               type_  amount_count  amount_max  amount_min  \\\n",
       "0                1             credito        2.2174  3,814.6957     88.3804   \n",
       "1                1              debito        3.1860  2,897.9535    198.5116   \n",
       "2                2             credito        2.1408 21,676.5634    166.4437   \n",
       "3                2              debito        4.4203  9,001.0435    778.9710   \n",
       "4                2  retiro_en_efectivo        1.1667 11,205.1111 10,700.1667   \n",
       "...            ...                 ...           ...         ...         ...   \n",
       "10139        11362             credito        2.0769 17,201.4103    133.7359   \n",
       "10140        11362              debito        7.1081  7,081.6216  1,017.2378   \n",
       "10141        11382             credito        2.9512 32,716.8780    125.1634   \n",
       "10142        11382              debito        2.9250 20,377.5000  2,216.2575   \n",
       "10143        11382  retiro_en_efectivo        1.2500 15,551.0000 13,696.6667   \n",
       "\n",
       "       amount_mean  balance_count  balance_max  balance_min  balance_mean  \n",
       "0       1,884.4957         2.2174  17,732.1609  15,862.4652   16,878.0645  \n",
       "1       1,464.1950         3.1860  17,005.4209  13,982.9372   15,641.1555  \n",
       "2      10,593.9110         2.1408  47,497.1972  34,441.5944   41,089.7023  \n",
       "3       4,724.0312         4.4203  42,992.0638  25,734.3725   34,748.6680  \n",
       "4      10,966.8148         1.1667  36,806.7611  35,619.1167   36,234.0185  \n",
       "...            ...            ...          ...          ...           ...  \n",
       "10139   8,468.7115         2.0769  38,688.2744  23,065.0897   30,793.7329  \n",
       "10140   3,155.9358         7.1081  38,099.6919  22,848.0486   31,203.3825  \n",
       "10141  10,998.5244         2.9512  56,054.8659  34,816.1683   41,941.6472  \n",
       "10142  10,559.6201         2.9250  42,371.2325  25,187.5350   33,545.2826  \n",
       "10143  14,594.8889         1.2500  22,615.6667  17,295.2500   19,872.0972  \n",
       "\n",
       "[10144 rows x 10 columns]"
      ]
     },
     "execution_count": 249,
     "metadata": {},
     "output_type": "execute_result"
    }
   ],
   "source": [
    "aux_trans"
   ]
  },
  {
   "cell_type": "code",
   "execution_count": 248,
   "metadata": {
    "ExecuteTime": {
     "end_time": "2021-02-07T21:01:47.959815Z",
     "start_time": "2021-02-07T21:01:47.939770Z"
    }
   },
   "outputs": [
    {
     "data": {
      "text/html": [
       "<div>\n",
       "<style scoped>\n",
       "    .dataframe tbody tr th:only-of-type {\n",
       "        vertical-align: middle;\n",
       "    }\n",
       "\n",
       "    .dataframe tbody tr th {\n",
       "        vertical-align: top;\n",
       "    }\n",
       "\n",
       "    .dataframe thead th {\n",
       "        text-align: right;\n",
       "    }\n",
       "</style>\n",
       "<table border=\"1\" class=\"dataframe\">\n",
       "  <thead>\n",
       "    <tr style=\"text-align: right;\">\n",
       "      <th></th>\n",
       "      <th>account_id_</th>\n",
       "      <th>type_</th>\n",
       "      <th>amount_count</th>\n",
       "      <th>amount_max</th>\n",
       "      <th>amount_min</th>\n",
       "      <th>amount_mean</th>\n",
       "      <th>balance_count</th>\n",
       "      <th>balance_max</th>\n",
       "      <th>balance_min</th>\n",
       "      <th>balance_mean</th>\n",
       "    </tr>\n",
       "  </thead>\n",
       "  <tbody>\n",
       "    <tr>\n",
       "      <th>0</th>\n",
       "      <td>1</td>\n",
       "      <td>credito</td>\n",
       "      <td>2.2174</td>\n",
       "      <td>3,814.6957</td>\n",
       "      <td>88.3804</td>\n",
       "      <td>1,884.4957</td>\n",
       "      <td>2.2174</td>\n",
       "      <td>17,732.1609</td>\n",
       "      <td>15,862.4652</td>\n",
       "      <td>16,878.0645</td>\n",
       "    </tr>\n",
       "    <tr>\n",
       "      <th>2</th>\n",
       "      <td>2</td>\n",
       "      <td>credito</td>\n",
       "      <td>2.1408</td>\n",
       "      <td>21,676.5634</td>\n",
       "      <td>166.4437</td>\n",
       "      <td>10,593.9110</td>\n",
       "      <td>2.1408</td>\n",
       "      <td>47,497.1972</td>\n",
       "      <td>34,441.5944</td>\n",
       "      <td>41,089.7023</td>\n",
       "    </tr>\n",
       "    <tr>\n",
       "      <th>5</th>\n",
       "      <td>3</td>\n",
       "      <td>credito</td>\n",
       "      <td>2.5556</td>\n",
       "      <td>8,143.7222</td>\n",
       "      <td>115.0000</td>\n",
       "      <td>3,873.6787</td>\n",
       "      <td>2.5556</td>\n",
       "      <td>29,844.7889</td>\n",
       "      <td>27,182.9944</td>\n",
       "      <td>28,733.5259</td>\n",
       "    </tr>\n",
       "    <tr>\n",
       "      <th>7</th>\n",
       "      <td>4</td>\n",
       "      <td>credito</td>\n",
       "      <td>1.8571</td>\n",
       "      <td>5,417.2000</td>\n",
       "      <td>735.8857</td>\n",
       "      <td>3,076.5429</td>\n",
       "      <td>1.8571</td>\n",
       "      <td>23,078.0229</td>\n",
       "      <td>20,680.7114</td>\n",
       "      <td>21,879.3671</td>\n",
       "    </tr>\n",
       "    <tr>\n",
       "      <th>9</th>\n",
       "      <td>5</td>\n",
       "      <td>credito</td>\n",
       "      <td>1.7500</td>\n",
       "      <td>4,796.1500</td>\n",
       "      <td>1,111.5000</td>\n",
       "      <td>2,953.8250</td>\n",
       "      <td>1.7500</td>\n",
       "      <td>23,692.5850</td>\n",
       "      <td>22,414.8650</td>\n",
       "      <td>23,053.7250</td>\n",
       "    </tr>\n",
       "    <tr>\n",
       "      <th>...</th>\n",
       "      <td>...</td>\n",
       "      <td>...</td>\n",
       "      <td>...</td>\n",
       "      <td>...</td>\n",
       "      <td>...</td>\n",
       "      <td>...</td>\n",
       "      <td>...</td>\n",
       "      <td>...</td>\n",
       "      <td>...</td>\n",
       "      <td>...</td>\n",
       "    </tr>\n",
       "    <tr>\n",
       "      <th>10130</th>\n",
       "      <td>11333</td>\n",
       "      <td>credito</td>\n",
       "      <td>3.2679</td>\n",
       "      <td>20,276.3018</td>\n",
       "      <td>383.6161</td>\n",
       "      <td>7,956.4446</td>\n",
       "      <td>3.2679</td>\n",
       "      <td>58,605.5107</td>\n",
       "      <td>38,353.6839</td>\n",
       "      <td>47,773.7226</td>\n",
       "    </tr>\n",
       "    <tr>\n",
       "      <th>10133</th>\n",
       "      <td>11349</td>\n",
       "      <td>credito</td>\n",
       "      <td>2.0682</td>\n",
       "      <td>44,855.3636</td>\n",
       "      <td>173.6182</td>\n",
       "      <td>21,907.3076</td>\n",
       "      <td>2.0682</td>\n",
       "      <td>78,676.6955</td>\n",
       "      <td>36,625.5091</td>\n",
       "      <td>56,873.4727</td>\n",
       "    </tr>\n",
       "    <tr>\n",
       "      <th>10136</th>\n",
       "      <td>11359</td>\n",
       "      <td>credito</td>\n",
       "      <td>2.0392</td>\n",
       "      <td>29,397.5882</td>\n",
       "      <td>164.0039</td>\n",
       "      <td>14,629.7444</td>\n",
       "      <td>2.0392</td>\n",
       "      <td>54,830.8216</td>\n",
       "      <td>37,848.6804</td>\n",
       "      <td>46,515.6797</td>\n",
       "    </tr>\n",
       "    <tr>\n",
       "      <th>10139</th>\n",
       "      <td>11362</td>\n",
       "      <td>credito</td>\n",
       "      <td>2.0769</td>\n",
       "      <td>17,201.4103</td>\n",
       "      <td>133.7359</td>\n",
       "      <td>8,468.7115</td>\n",
       "      <td>2.0769</td>\n",
       "      <td>38,688.2744</td>\n",
       "      <td>23,065.0897</td>\n",
       "      <td>30,793.7329</td>\n",
       "    </tr>\n",
       "    <tr>\n",
       "      <th>10141</th>\n",
       "      <td>11382</td>\n",
       "      <td>credito</td>\n",
       "      <td>2.9512</td>\n",
       "      <td>32,716.8780</td>\n",
       "      <td>125.1634</td>\n",
       "      <td>10,998.5244</td>\n",
       "      <td>2.9512</td>\n",
       "      <td>56,054.8659</td>\n",
       "      <td>34,816.1683</td>\n",
       "      <td>41,941.6472</td>\n",
       "    </tr>\n",
       "  </tbody>\n",
       "</table>\n",
       "<p>4500 rows × 10 columns</p>\n",
       "</div>"
      ],
      "text/plain": [
       "       account_id_    type_  amount_count  amount_max  amount_min  \\\n",
       "0                1  credito        2.2174  3,814.6957     88.3804   \n",
       "2                2  credito        2.1408 21,676.5634    166.4437   \n",
       "5                3  credito        2.5556  8,143.7222    115.0000   \n",
       "7                4  credito        1.8571  5,417.2000    735.8857   \n",
       "9                5  credito        1.7500  4,796.1500  1,111.5000   \n",
       "...            ...      ...           ...         ...         ...   \n",
       "10130        11333  credito        3.2679 20,276.3018    383.6161   \n",
       "10133        11349  credito        2.0682 44,855.3636    173.6182   \n",
       "10136        11359  credito        2.0392 29,397.5882    164.0039   \n",
       "10139        11362  credito        2.0769 17,201.4103    133.7359   \n",
       "10141        11382  credito        2.9512 32,716.8780    125.1634   \n",
       "\n",
       "       amount_mean  balance_count  balance_max  balance_min  balance_mean  \n",
       "0       1,884.4957         2.2174  17,732.1609  15,862.4652   16,878.0645  \n",
       "2      10,593.9110         2.1408  47,497.1972  34,441.5944   41,089.7023  \n",
       "5       3,873.6787         2.5556  29,844.7889  27,182.9944   28,733.5259  \n",
       "7       3,076.5429         1.8571  23,078.0229  20,680.7114   21,879.3671  \n",
       "9       2,953.8250         1.7500  23,692.5850  22,414.8650   23,053.7250  \n",
       "...            ...            ...          ...          ...           ...  \n",
       "10130   7,956.4446         3.2679  58,605.5107  38,353.6839   47,773.7226  \n",
       "10133  21,907.3076         2.0682  78,676.6955  36,625.5091   56,873.4727  \n",
       "10136  14,629.7444         2.0392  54,830.8216  37,848.6804   46,515.6797  \n",
       "10139   8,468.7115         2.0769  38,688.2744  23,065.0897   30,793.7329  \n",
       "10141  10,998.5244         2.9512  56,054.8659  34,816.1683   41,941.6472  \n",
       "\n",
       "[4500 rows x 10 columns]"
      ]
     },
     "execution_count": 248,
     "metadata": {},
     "output_type": "execute_result"
    }
   ],
   "source": [
    "aux_trans.loc[aux_trans.type_=='credito']"
   ]
  },
  {
   "cell_type": "code",
   "execution_count": 250,
   "metadata": {
    "ExecuteTime": {
     "end_time": "2021-02-07T21:08:08.602554Z",
     "start_time": "2021-02-07T21:08:08.591922Z"
    }
   },
   "outputs": [],
   "source": [
    "trans_credito = aux_trans.loc[aux_trans.type_=='credito'].copy()\n",
    "trans_debito = aux_trans.loc[aux_trans.type_=='debito'].copy()\n",
    "trans_efectivo = aux_trans.loc[aux_trans.type_=='retiro_en_efectivo'].copy()"
   ]
  },
  {
   "cell_type": "code",
   "execution_count": 257,
   "metadata": {
    "ExecuteTime": {
     "end_time": "2021-02-07T21:14:37.470340Z",
     "start_time": "2021-02-07T21:14:37.462475Z"
    }
   },
   "outputs": [],
   "source": [
    "trans_credito.columns = [\"c_\"+x if x not in ['account_id_','type_'] else x for x in trans_credito.columns]\n",
    "trans_debito.columns = [\"d_\"+x if x not in ['account_id_','type_'] else x for x in trans_debito.columns]\n",
    "trans_efectivo.columns = [\"f_\"+x if x not in ['account_id_','type_'] else x for x in trans_efectivo.columns]"
   ]
  },
  {
   "cell_type": "code",
   "execution_count": 258,
   "metadata": {
    "ExecuteTime": {
     "end_time": "2021-02-07T21:15:07.777039Z",
     "start_time": "2021-02-07T21:15:07.761644Z"
    }
   },
   "outputs": [
    {
     "data": {
      "text/html": [
       "<div>\n",
       "<style scoped>\n",
       "    .dataframe tbody tr th:only-of-type {\n",
       "        vertical-align: middle;\n",
       "    }\n",
       "\n",
       "    .dataframe tbody tr th {\n",
       "        vertical-align: top;\n",
       "    }\n",
       "\n",
       "    .dataframe thead th {\n",
       "        text-align: right;\n",
       "    }\n",
       "</style>\n",
       "<table border=\"1\" class=\"dataframe\">\n",
       "  <thead>\n",
       "    <tr style=\"text-align: right;\">\n",
       "      <th></th>\n",
       "      <th>account_id_</th>\n",
       "      <th>type_</th>\n",
       "      <th>c_amount_count</th>\n",
       "      <th>c_amount_max</th>\n",
       "      <th>c_amount_min</th>\n",
       "      <th>c_amount_mean</th>\n",
       "      <th>c_balance_count</th>\n",
       "      <th>c_balance_max</th>\n",
       "      <th>c_balance_min</th>\n",
       "      <th>c_balance_mean</th>\n",
       "    </tr>\n",
       "  </thead>\n",
       "  <tbody>\n",
       "    <tr>\n",
       "      <th>0</th>\n",
       "      <td>1</td>\n",
       "      <td>credito</td>\n",
       "      <td>2.2174</td>\n",
       "      <td>3,814.6957</td>\n",
       "      <td>88.3804</td>\n",
       "      <td>1,884.4957</td>\n",
       "      <td>2.2174</td>\n",
       "      <td>17,732.1609</td>\n",
       "      <td>15,862.4652</td>\n",
       "      <td>16,878.0645</td>\n",
       "    </tr>\n",
       "    <tr>\n",
       "      <th>2</th>\n",
       "      <td>2</td>\n",
       "      <td>credito</td>\n",
       "      <td>2.1408</td>\n",
       "      <td>21,676.5634</td>\n",
       "      <td>166.4437</td>\n",
       "      <td>10,593.9110</td>\n",
       "      <td>2.1408</td>\n",
       "      <td>47,497.1972</td>\n",
       "      <td>34,441.5944</td>\n",
       "      <td>41,089.7023</td>\n",
       "    </tr>\n",
       "    <tr>\n",
       "      <th>5</th>\n",
       "      <td>3</td>\n",
       "      <td>credito</td>\n",
       "      <td>2.5556</td>\n",
       "      <td>8,143.7222</td>\n",
       "      <td>115.0000</td>\n",
       "      <td>3,873.6787</td>\n",
       "      <td>2.5556</td>\n",
       "      <td>29,844.7889</td>\n",
       "      <td>27,182.9944</td>\n",
       "      <td>28,733.5259</td>\n",
       "    </tr>\n",
       "    <tr>\n",
       "      <th>7</th>\n",
       "      <td>4</td>\n",
       "      <td>credito</td>\n",
       "      <td>1.8571</td>\n",
       "      <td>5,417.2000</td>\n",
       "      <td>735.8857</td>\n",
       "      <td>3,076.5429</td>\n",
       "      <td>1.8571</td>\n",
       "      <td>23,078.0229</td>\n",
       "      <td>20,680.7114</td>\n",
       "      <td>21,879.3671</td>\n",
       "    </tr>\n",
       "    <tr>\n",
       "      <th>9</th>\n",
       "      <td>5</td>\n",
       "      <td>credito</td>\n",
       "      <td>1.7500</td>\n",
       "      <td>4,796.1500</td>\n",
       "      <td>1,111.5000</td>\n",
       "      <td>2,953.8250</td>\n",
       "      <td>1.7500</td>\n",
       "      <td>23,692.5850</td>\n",
       "      <td>22,414.8650</td>\n",
       "      <td>23,053.7250</td>\n",
       "    </tr>\n",
       "    <tr>\n",
       "      <th>...</th>\n",
       "      <td>...</td>\n",
       "      <td>...</td>\n",
       "      <td>...</td>\n",
       "      <td>...</td>\n",
       "      <td>...</td>\n",
       "      <td>...</td>\n",
       "      <td>...</td>\n",
       "      <td>...</td>\n",
       "      <td>...</td>\n",
       "      <td>...</td>\n",
       "    </tr>\n",
       "    <tr>\n",
       "      <th>10130</th>\n",
       "      <td>11333</td>\n",
       "      <td>credito</td>\n",
       "      <td>3.2679</td>\n",
       "      <td>20,276.3018</td>\n",
       "      <td>383.6161</td>\n",
       "      <td>7,956.4446</td>\n",
       "      <td>3.2679</td>\n",
       "      <td>58,605.5107</td>\n",
       "      <td>38,353.6839</td>\n",
       "      <td>47,773.7226</td>\n",
       "    </tr>\n",
       "    <tr>\n",
       "      <th>10133</th>\n",
       "      <td>11349</td>\n",
       "      <td>credito</td>\n",
       "      <td>2.0682</td>\n",
       "      <td>44,855.3636</td>\n",
       "      <td>173.6182</td>\n",
       "      <td>21,907.3076</td>\n",
       "      <td>2.0682</td>\n",
       "      <td>78,676.6955</td>\n",
       "      <td>36,625.5091</td>\n",
       "      <td>56,873.4727</td>\n",
       "    </tr>\n",
       "    <tr>\n",
       "      <th>10136</th>\n",
       "      <td>11359</td>\n",
       "      <td>credito</td>\n",
       "      <td>2.0392</td>\n",
       "      <td>29,397.5882</td>\n",
       "      <td>164.0039</td>\n",
       "      <td>14,629.7444</td>\n",
       "      <td>2.0392</td>\n",
       "      <td>54,830.8216</td>\n",
       "      <td>37,848.6804</td>\n",
       "      <td>46,515.6797</td>\n",
       "    </tr>\n",
       "    <tr>\n",
       "      <th>10139</th>\n",
       "      <td>11362</td>\n",
       "      <td>credito</td>\n",
       "      <td>2.0769</td>\n",
       "      <td>17,201.4103</td>\n",
       "      <td>133.7359</td>\n",
       "      <td>8,468.7115</td>\n",
       "      <td>2.0769</td>\n",
       "      <td>38,688.2744</td>\n",
       "      <td>23,065.0897</td>\n",
       "      <td>30,793.7329</td>\n",
       "    </tr>\n",
       "    <tr>\n",
       "      <th>10141</th>\n",
       "      <td>11382</td>\n",
       "      <td>credito</td>\n",
       "      <td>2.9512</td>\n",
       "      <td>32,716.8780</td>\n",
       "      <td>125.1634</td>\n",
       "      <td>10,998.5244</td>\n",
       "      <td>2.9512</td>\n",
       "      <td>56,054.8659</td>\n",
       "      <td>34,816.1683</td>\n",
       "      <td>41,941.6472</td>\n",
       "    </tr>\n",
       "  </tbody>\n",
       "</table>\n",
       "<p>4500 rows × 10 columns</p>\n",
       "</div>"
      ],
      "text/plain": [
       "       account_id_    type_  c_amount_count  c_amount_max  c_amount_min  \\\n",
       "0                1  credito          2.2174    3,814.6957       88.3804   \n",
       "2                2  credito          2.1408   21,676.5634      166.4437   \n",
       "5                3  credito          2.5556    8,143.7222      115.0000   \n",
       "7                4  credito          1.8571    5,417.2000      735.8857   \n",
       "9                5  credito          1.7500    4,796.1500    1,111.5000   \n",
       "...            ...      ...             ...           ...           ...   \n",
       "10130        11333  credito          3.2679   20,276.3018      383.6161   \n",
       "10133        11349  credito          2.0682   44,855.3636      173.6182   \n",
       "10136        11359  credito          2.0392   29,397.5882      164.0039   \n",
       "10139        11362  credito          2.0769   17,201.4103      133.7359   \n",
       "10141        11382  credito          2.9512   32,716.8780      125.1634   \n",
       "\n",
       "       c_amount_mean  c_balance_count  c_balance_max  c_balance_min  \\\n",
       "0         1,884.4957           2.2174    17,732.1609    15,862.4652   \n",
       "2        10,593.9110           2.1408    47,497.1972    34,441.5944   \n",
       "5         3,873.6787           2.5556    29,844.7889    27,182.9944   \n",
       "7         3,076.5429           1.8571    23,078.0229    20,680.7114   \n",
       "9         2,953.8250           1.7500    23,692.5850    22,414.8650   \n",
       "...              ...              ...            ...            ...   \n",
       "10130     7,956.4446           3.2679    58,605.5107    38,353.6839   \n",
       "10133    21,907.3076           2.0682    78,676.6955    36,625.5091   \n",
       "10136    14,629.7444           2.0392    54,830.8216    37,848.6804   \n",
       "10139     8,468.7115           2.0769    38,688.2744    23,065.0897   \n",
       "10141    10,998.5244           2.9512    56,054.8659    34,816.1683   \n",
       "\n",
       "       c_balance_mean  \n",
       "0         16,878.0645  \n",
       "2         41,089.7023  \n",
       "5         28,733.5259  \n",
       "7         21,879.3671  \n",
       "9         23,053.7250  \n",
       "...               ...  \n",
       "10130     47,773.7226  \n",
       "10133     56,873.4727  \n",
       "10136     46,515.6797  \n",
       "10139     30,793.7329  \n",
       "10141     41,941.6472  \n",
       "\n",
       "[4500 rows x 10 columns]"
      ]
     },
     "execution_count": 258,
     "metadata": {},
     "output_type": "execute_result"
    }
   ],
   "source": [
    "trans_credito"
   ]
  },
  {
   "cell_type": "code",
   "execution_count": 200,
   "metadata": {
    "ExecuteTime": {
     "end_time": "2021-02-07T19:15:31.394887Z",
     "start_time": "2021-02-07T19:15:31.380102Z"
    }
   },
   "outputs": [
    {
     "data": {
      "text/html": [
       "<div>\n",
       "<style scoped>\n",
       "    .dataframe tbody tr th:only-of-type {\n",
       "        vertical-align: middle;\n",
       "    }\n",
       "\n",
       "    .dataframe tbody tr th {\n",
       "        vertical-align: top;\n",
       "    }\n",
       "\n",
       "    .dataframe thead th {\n",
       "        text-align: right;\n",
       "    }\n",
       "</style>\n",
       "<table border=\"1\" class=\"dataframe\">\n",
       "  <thead>\n",
       "    <tr style=\"text-align: right;\">\n",
       "      <th></th>\n",
       "      <th>loan_id</th>\n",
       "      <th>account_id</th>\n",
       "      <th>date</th>\n",
       "      <th>amount</th>\n",
       "      <th>duration</th>\n",
       "      <th>payments</th>\n",
       "      <th>status</th>\n",
       "    </tr>\n",
       "  </thead>\n",
       "  <tbody>\n",
       "    <tr>\n",
       "      <th>0</th>\n",
       "      <td>5314</td>\n",
       "      <td>1787</td>\n",
       "      <td>1993-07-05</td>\n",
       "      <td>96396</td>\n",
       "      <td>12</td>\n",
       "      <td>8,033.0000</td>\n",
       "      <td>c_terminado_prestamo_no_pagado</td>\n",
       "    </tr>\n",
       "    <tr>\n",
       "      <th>1</th>\n",
       "      <td>5316</td>\n",
       "      <td>1801</td>\n",
       "      <td>1993-07-11</td>\n",
       "      <td>165960</td>\n",
       "      <td>36</td>\n",
       "      <td>4,610.0000</td>\n",
       "      <td>c_terminado_sin_problema</td>\n",
       "    </tr>\n",
       "    <tr>\n",
       "      <th>2</th>\n",
       "      <td>6863</td>\n",
       "      <td>9188</td>\n",
       "      <td>1993-07-28</td>\n",
       "      <td>127080</td>\n",
       "      <td>60</td>\n",
       "      <td>2,118.0000</td>\n",
       "      <td>c_terminado_sin_problema</td>\n",
       "    </tr>\n",
       "    <tr>\n",
       "      <th>3</th>\n",
       "      <td>5325</td>\n",
       "      <td>1843</td>\n",
       "      <td>1993-08-03</td>\n",
       "      <td>105804</td>\n",
       "      <td>36</td>\n",
       "      <td>2,939.0000</td>\n",
       "      <td>c_terminado_sin_problema</td>\n",
       "    </tr>\n",
       "    <tr>\n",
       "      <th>4</th>\n",
       "      <td>7240</td>\n",
       "      <td>11013</td>\n",
       "      <td>1993-09-06</td>\n",
       "      <td>274740</td>\n",
       "      <td>60</td>\n",
       "      <td>4,579.0000</td>\n",
       "      <td>c_terminado_sin_problema</td>\n",
       "    </tr>\n",
       "    <tr>\n",
       "      <th>...</th>\n",
       "      <td>...</td>\n",
       "      <td>...</td>\n",
       "      <td>...</td>\n",
       "      <td>...</td>\n",
       "      <td>...</td>\n",
       "      <td>...</td>\n",
       "      <td>...</td>\n",
       "    </tr>\n",
       "    <tr>\n",
       "      <th>677</th>\n",
       "      <td>4989</td>\n",
       "      <td>105</td>\n",
       "      <td>1998-12-05</td>\n",
       "      <td>352704</td>\n",
       "      <td>48</td>\n",
       "      <td>7,348.0000</td>\n",
       "      <td>c_en_ejecucion_hasta_ahora</td>\n",
       "    </tr>\n",
       "    <tr>\n",
       "      <th>678</th>\n",
       "      <td>5221</td>\n",
       "      <td>1284</td>\n",
       "      <td>1998-12-05</td>\n",
       "      <td>52512</td>\n",
       "      <td>12</td>\n",
       "      <td>4,376.0000</td>\n",
       "      <td>c_en_ejecucion_hasta_ahora</td>\n",
       "    </tr>\n",
       "    <tr>\n",
       "      <th>679</th>\n",
       "      <td>6402</td>\n",
       "      <td>6922</td>\n",
       "      <td>1998-12-06</td>\n",
       "      <td>139488</td>\n",
       "      <td>24</td>\n",
       "      <td>5,812.0000</td>\n",
       "      <td>c_en_ejecucion_hasta_ahora</td>\n",
       "    </tr>\n",
       "    <tr>\n",
       "      <th>680</th>\n",
       "      <td>5346</td>\n",
       "      <td>1928</td>\n",
       "      <td>1998-12-06</td>\n",
       "      <td>55632</td>\n",
       "      <td>24</td>\n",
       "      <td>2,318.0000</td>\n",
       "      <td>c_en_ejecucion_hasta_ahora</td>\n",
       "    </tr>\n",
       "    <tr>\n",
       "      <th>681</th>\n",
       "      <td>6748</td>\n",
       "      <td>8645</td>\n",
       "      <td>1998-12-08</td>\n",
       "      <td>240900</td>\n",
       "      <td>60</td>\n",
       "      <td>4,015.0000</td>\n",
       "      <td>c_en_ejecucion_hasta_ahora</td>\n",
       "    </tr>\n",
       "  </tbody>\n",
       "</table>\n",
       "<p>682 rows × 7 columns</p>\n",
       "</div>"
      ],
      "text/plain": [
       "     loan_id  account_id       date  amount  duration   payments  \\\n",
       "0       5314        1787 1993-07-05   96396        12 8,033.0000   \n",
       "1       5316        1801 1993-07-11  165960        36 4,610.0000   \n",
       "2       6863        9188 1993-07-28  127080        60 2,118.0000   \n",
       "3       5325        1843 1993-08-03  105804        36 2,939.0000   \n",
       "4       7240       11013 1993-09-06  274740        60 4,579.0000   \n",
       "..       ...         ...        ...     ...       ...        ...   \n",
       "677     4989         105 1998-12-05  352704        48 7,348.0000   \n",
       "678     5221        1284 1998-12-05   52512        12 4,376.0000   \n",
       "679     6402        6922 1998-12-06  139488        24 5,812.0000   \n",
       "680     5346        1928 1998-12-06   55632        24 2,318.0000   \n",
       "681     6748        8645 1998-12-08  240900        60 4,015.0000   \n",
       "\n",
       "                             status  \n",
       "0    c_terminado_prestamo_no_pagado  \n",
       "1          c_terminado_sin_problema  \n",
       "2          c_terminado_sin_problema  \n",
       "3          c_terminado_sin_problema  \n",
       "4          c_terminado_sin_problema  \n",
       "..                              ...  \n",
       "677      c_en_ejecucion_hasta_ahora  \n",
       "678      c_en_ejecucion_hasta_ahora  \n",
       "679      c_en_ejecucion_hasta_ahora  \n",
       "680      c_en_ejecucion_hasta_ahora  \n",
       "681      c_en_ejecucion_hasta_ahora  \n",
       "\n",
       "[682 rows x 7 columns]"
      ]
     },
     "execution_count": 200,
     "metadata": {},
     "output_type": "execute_result"
    }
   ],
   "source": [
    "loan"
   ]
  },
  {
   "cell_type": "code",
   "execution_count": 201,
   "metadata": {
    "ExecuteTime": {
     "end_time": "2021-02-07T19:27:22.709091Z",
     "start_time": "2021-02-07T19:27:22.694494Z"
    }
   },
   "outputs": [
    {
     "data": {
      "text/html": [
       "<div>\n",
       "<style scoped>\n",
       "    .dataframe tbody tr th:only-of-type {\n",
       "        vertical-align: middle;\n",
       "    }\n",
       "\n",
       "    .dataframe tbody tr th {\n",
       "        vertical-align: top;\n",
       "    }\n",
       "\n",
       "    .dataframe thead th {\n",
       "        text-align: right;\n",
       "    }\n",
       "</style>\n",
       "<table border=\"1\" class=\"dataframe\">\n",
       "  <thead>\n",
       "    <tr style=\"text-align: right;\">\n",
       "      <th></th>\n",
       "      <th>loan_id</th>\n",
       "      <th>account_id</th>\n",
       "      <th>date</th>\n",
       "      <th>amount</th>\n",
       "      <th>duration</th>\n",
       "      <th>payments</th>\n",
       "    </tr>\n",
       "    <tr>\n",
       "      <th>status</th>\n",
       "      <th></th>\n",
       "      <th></th>\n",
       "      <th></th>\n",
       "      <th></th>\n",
       "      <th></th>\n",
       "      <th></th>\n",
       "    </tr>\n",
       "  </thead>\n",
       "  <tbody>\n",
       "    <tr>\n",
       "      <th>c_en_ejecucion_client_endeudado</th>\n",
       "      <td>45</td>\n",
       "      <td>45</td>\n",
       "      <td>45</td>\n",
       "      <td>45</td>\n",
       "      <td>45</td>\n",
       "      <td>45</td>\n",
       "    </tr>\n",
       "    <tr>\n",
       "      <th>c_en_ejecucion_hasta_ahora</th>\n",
       "      <td>403</td>\n",
       "      <td>403</td>\n",
       "      <td>403</td>\n",
       "      <td>403</td>\n",
       "      <td>403</td>\n",
       "      <td>403</td>\n",
       "    </tr>\n",
       "    <tr>\n",
       "      <th>c_terminado_prestamo_no_pagado</th>\n",
       "      <td>31</td>\n",
       "      <td>31</td>\n",
       "      <td>31</td>\n",
       "      <td>31</td>\n",
       "      <td>31</td>\n",
       "      <td>31</td>\n",
       "    </tr>\n",
       "    <tr>\n",
       "      <th>c_terminado_sin_problema</th>\n",
       "      <td>203</td>\n",
       "      <td>203</td>\n",
       "      <td>203</td>\n",
       "      <td>203</td>\n",
       "      <td>203</td>\n",
       "      <td>203</td>\n",
       "    </tr>\n",
       "  </tbody>\n",
       "</table>\n",
       "</div>"
      ],
      "text/plain": [
       "                                 loan_id  account_id  date  amount  duration  \\\n",
       "status                                                                         \n",
       "c_en_ejecucion_client_endeudado       45          45    45      45        45   \n",
       "c_en_ejecucion_hasta_ahora           403         403   403     403       403   \n",
       "c_terminado_prestamo_no_pagado        31          31    31      31        31   \n",
       "c_terminado_sin_problema             203         203   203     203       203   \n",
       "\n",
       "                                 payments  \n",
       "status                                     \n",
       "c_en_ejecucion_client_endeudado        45  \n",
       "c_en_ejecucion_hasta_ahora            403  \n",
       "c_terminado_prestamo_no_pagado         31  \n",
       "c_terminado_sin_problema              203  "
      ]
     },
     "execution_count": 201,
     "metadata": {},
     "output_type": "execute_result"
    }
   ],
   "source": [
    "loan.groupby(['status']).count()"
   ]
  },
  {
   "cell_type": "code",
   "execution_count": null,
   "metadata": {},
   "outputs": [],
   "source": []
  }
 ],
 "metadata": {
  "kernelspec": {
   "display_name": "Python 3",
   "language": "python",
   "name": "python3"
  },
  "language_info": {
   "codemirror_mode": {
    "name": "ipython",
    "version": 3
   },
   "file_extension": ".py",
   "mimetype": "text/x-python",
   "name": "python",
   "nbconvert_exporter": "python",
   "pygments_lexer": "ipython3",
   "version": "3.7.3rc1"
  },
  "notify_time": "5",
  "varInspector": {
   "cols": {
    "lenName": 16,
    "lenType": 16,
    "lenVar": 40
   },
   "kernels_config": {
    "python": {
     "delete_cmd_postfix": "",
     "delete_cmd_prefix": "del ",
     "library": "var_list.py",
     "varRefreshCmd": "print(var_dic_list())"
    },
    "r": {
     "delete_cmd_postfix": ") ",
     "delete_cmd_prefix": "rm(",
     "library": "var_list.r",
     "varRefreshCmd": "cat(var_dic_list()) "
    }
   },
   "types_to_exclude": [
    "module",
    "function",
    "builtin_function_or_method",
    "instance",
    "_Feature"
   ],
   "window_display": false
  }
 },
 "nbformat": 4,
 "nbformat_minor": 2
}
