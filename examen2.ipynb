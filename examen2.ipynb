{
 "cells": [
  {
   "cell_type": "code",
   "execution_count": 1,
   "metadata": {
    "ExecuteTime": {
     "end_time": "2021-02-07T15:13:50.405504Z",
     "start_time": "2021-02-07T15:13:46.441430Z"
    }
   },
   "outputs": [
    {
     "name": "stderr",
     "output_type": "stream",
     "text": [
      "c:\\python37\\lib\\site-packages\\requests\\__init__.py:91: RequestsDependencyWarning:\n",
      "\n",
      "urllib3 (1.26.2) or chardet (3.0.4) doesn't match a supported version!\n",
      "\n"
     ]
    },
    {
     "data": {
      "text/html": [
       "        <script type=\"text/javascript\">\n",
       "        window.PlotlyConfig = {MathJaxConfig: 'local'};\n",
       "        if (window.MathJax) {MathJax.Hub.Config({SVG: {font: \"STIX-Web\"}});}\n",
       "        if (typeof require !== 'undefined') {\n",
       "        require.undef(\"plotly\");\n",
       "        requirejs.config({\n",
       "            paths: {\n",
       "                'plotly': ['https://cdn.plot.ly/plotly-latest.min']\n",
       "            }\n",
       "        });\n",
       "        require(['plotly'], function(Plotly) {\n",
       "            window._Plotly = Plotly;\n",
       "        });\n",
       "        }\n",
       "        </script>\n",
       "        "
      ]
     },
     "metadata": {},
     "output_type": "display_data"
    }
   ],
   "source": [
    "import re\n",
    "import numpy as np\n",
    "import pandas as pd\n",
    "import seaborn as sns\n",
    "import cufflinks as cf\n",
    "import missingno as msno\n",
    "import matplotlib.pyplot as plt\n",
    "from nltk.corpus import stopwords\n",
    "import scipy.cluster.hierarchy as sch\n",
    "from sklearn.decomposition import PCA\n",
    "from sklearn.manifold import TSNE, MDS\n",
    "from sklearn.metrics import confusion_matrix\n",
    "from sklearn.neighbors import DistanceMetric\n",
    "from sklearn.cluster import AgglomerativeClustering\n",
    "from sklearn.preprocessing import MinMaxScaler, StandardScaler, RobustScaler\n",
    "from sklearn.feature_extraction.text import CountVectorizer, TfidfVectorizer\n",
    "\n",
    "%matplotlib inline\n",
    "cf.go_offline()\n",
    "pd.set_option('display.max_rows', 60)\n",
    "# pd.set_option('precision', 5)\n",
    "pd.set_option('display.float_format', lambda x: \"{:,.4f}\".format(x))\n",
    "pd.set_option('display.max_columns', 100)"
   ]
  },
  {
   "cell_type": "markdown",
   "metadata": {},
   "source": [
    "# Obtener datos"
   ]
  },
  {
   "cell_type": "code",
   "execution_count": 120,
   "metadata": {
    "ExecuteTime": {
     "end_time": "2021-02-07T17:23:34.956279Z",
     "start_time": "2021-02-07T17:23:34.943720Z"
    }
   },
   "outputs": [],
   "source": [
    "client = pd.read_csv(\"datos/client.asc\", sep=\";\")"
   ]
  },
  {
   "cell_type": "code",
   "execution_count": 54,
   "metadata": {
    "ExecuteTime": {
     "end_time": "2021-02-07T16:28:48.200629Z",
     "start_time": "2021-02-07T16:28:48.190285Z"
    }
   },
   "outputs": [],
   "source": [
    "account = pd.read_csv(\"datos/account.asc\", sep=\";\")"
   ]
  },
  {
   "cell_type": "code",
   "execution_count": 14,
   "metadata": {
    "ExecuteTime": {
     "end_time": "2021-02-07T15:22:25.580212Z",
     "start_time": "2021-02-07T15:22:25.559918Z"
    }
   },
   "outputs": [],
   "source": [
    "district = pd.read_csv(\"datos/district.asc\", sep=\";\")"
   ]
  },
  {
   "cell_type": "code",
   "execution_count": 19,
   "metadata": {
    "ExecuteTime": {
     "end_time": "2021-02-07T15:29:29.011263Z",
     "start_time": "2021-02-07T15:29:28.990818Z"
    }
   },
   "outputs": [],
   "source": [
    "card = pd.read_csv(\"datos/card.asc\", sep=\";\")"
   ]
  },
  {
   "cell_type": "code",
   "execution_count": 21,
   "metadata": {
    "ExecuteTime": {
     "end_time": "2021-02-07T15:30:21.841695Z",
     "start_time": "2021-02-07T15:30:21.823608Z"
    }
   },
   "outputs": [],
   "source": [
    "disp = pd.read_csv(\"datos/disp.asc\", sep=\";\")"
   ]
  },
  {
   "cell_type": "code",
   "execution_count": 23,
   "metadata": {
    "ExecuteTime": {
     "end_time": "2021-02-07T15:31:08.607408Z",
     "start_time": "2021-02-07T15:31:08.587486Z"
    }
   },
   "outputs": [],
   "source": [
    "loan = pd.read_csv(\"datos/loan.asc\", sep=\";\")"
   ]
  },
  {
   "cell_type": "code",
   "execution_count": 25,
   "metadata": {
    "ExecuteTime": {
     "end_time": "2021-02-07T15:31:37.639662Z",
     "start_time": "2021-02-07T15:31:37.611475Z"
    }
   },
   "outputs": [],
   "source": [
    "order = pd.read_csv(\"datos/order.asc\", sep=\";\")"
   ]
  },
  {
   "cell_type": "code",
   "execution_count": 162,
   "metadata": {
    "ExecuteTime": {
     "end_time": "2021-02-07T18:11:50.197926Z",
     "start_time": "2021-02-07T18:11:48.909183Z"
    }
   },
   "outputs": [],
   "source": [
    "trans = pd.read_csv(\"datos/trans.asc\", sep=\";\",low_memory=False)"
   ]
  },
  {
   "cell_type": "markdown",
   "metadata": {},
   "source": [
    "# Funciones"
   ]
  },
  {
   "cell_type": "code",
   "execution_count": 77,
   "metadata": {
    "ExecuteTime": {
     "end_time": "2021-02-07T16:54:12.991187Z",
     "start_time": "2021-02-07T16:54:12.986483Z"
    }
   },
   "outputs": [],
   "source": [
    "def genero(x):\n",
    "    n = int(x[2:4])\n",
    "    if(n>12):\n",
    "        return 'M'\n",
    "    else:\n",
    "        return 'H'"
   ]
  },
  {
   "cell_type": "code",
   "execution_count": 89,
   "metadata": {
    "ExecuteTime": {
     "end_time": "2021-02-07T17:06:25.910309Z",
     "start_time": "2021-02-07T17:06:25.903290Z"
    }
   },
   "outputs": [],
   "source": [
    "def date_genre(x):\n",
    "    x = list(x)\n",
    "    n = int(''.join(x[2:4]))\n",
    "    if(n>12):\n",
    "        n = n-50\n",
    "        if(n<=9):\n",
    "            x[2]='0'\n",
    "            x[3]=str(n)\n",
    "        else:\n",
    "            n = str(n)\n",
    "            x[2:4] = n[:]\n",
    "        return ''.join(x)\n",
    "    else:\n",
    "        return ''.join(x)"
   ]
  },
  {
   "cell_type": "code",
   "execution_count": 90,
   "metadata": {
    "ExecuteTime": {
     "end_time": "2021-02-07T17:06:26.250695Z",
     "start_time": "2021-02-07T17:06:26.245373Z"
    }
   },
   "outputs": [],
   "source": [
    "x = \"706213\""
   ]
  },
  {
   "cell_type": "code",
   "execution_count": 99,
   "metadata": {
    "ExecuteTime": {
     "end_time": "2021-02-07T17:10:44.827318Z",
     "start_time": "2021-02-07T17:10:44.822643Z"
    }
   },
   "outputs": [
    {
     "data": {
      "text/plain": [
       "'62'"
      ]
     },
     "execution_count": 99,
     "metadata": {},
     "output_type": "execute_result"
    }
   ],
   "source": [
    "x[2:4]"
   ]
  },
  {
   "cell_type": "code",
   "execution_count": 91,
   "metadata": {
    "ExecuteTime": {
     "end_time": "2021-02-07T17:06:26.773184Z",
     "start_time": "2021-02-07T17:06:26.768192Z"
    }
   },
   "outputs": [
    {
     "data": {
      "text/plain": [
       "'701213'"
      ]
     },
     "execution_count": 91,
     "metadata": {},
     "output_type": "execute_result"
    }
   ],
   "source": [
    "date_genre(x)"
   ]
  },
  {
   "cell_type": "code",
   "execution_count": 72,
   "metadata": {
    "ExecuteTime": {
     "end_time": "2021-02-07T16:52:27.657731Z",
     "start_time": "2021-02-07T16:52:27.648836Z"
    }
   },
   "outputs": [
    {
     "data": {
      "text/plain": [
       "'M'"
      ]
     },
     "execution_count": 72,
     "metadata": {},
     "output_type": "execute_result"
    }
   ],
   "source": [
    "genero(x)"
   ]
  },
  {
   "cell_type": "markdown",
   "metadata": {},
   "source": [
    "# Información de las tablas"
   ]
  },
  {
   "cell_type": "markdown",
   "metadata": {
    "ExecuteTime": {
     "end_time": "2021-02-07T17:43:42.360453Z",
     "start_time": "2021-02-07T17:43:42.355167Z"
    }
   },
   "source": [
    "## Client"
   ]
  },
  {
   "cell_type": "code",
   "execution_count": 135,
   "metadata": {
    "ExecuteTime": {
     "end_time": "2021-02-07T17:39:58.676246Z",
     "start_time": "2021-02-07T17:39:58.664267Z"
    }
   },
   "outputs": [
    {
     "data": {
      "text/html": [
       "<div>\n",
       "<style scoped>\n",
       "    .dataframe tbody tr th:only-of-type {\n",
       "        vertical-align: middle;\n",
       "    }\n",
       "\n",
       "    .dataframe tbody tr th {\n",
       "        vertical-align: top;\n",
       "    }\n",
       "\n",
       "    .dataframe thead th {\n",
       "        text-align: right;\n",
       "    }\n",
       "</style>\n",
       "<table border=\"1\" class=\"dataframe\">\n",
       "  <thead>\n",
       "    <tr style=\"text-align: right;\">\n",
       "      <th></th>\n",
       "      <th>client_id</th>\n",
       "      <th>birth_number</th>\n",
       "      <th>district_id</th>\n",
       "      <th>genre</th>\n",
       "      <th>birth</th>\n",
       "      <th>diff</th>\n",
       "    </tr>\n",
       "  </thead>\n",
       "  <tbody>\n",
       "    <tr>\n",
       "      <th>0</th>\n",
       "      <td>1</td>\n",
       "      <td>706213</td>\n",
       "      <td>18</td>\n",
       "      <td>M</td>\n",
       "      <td>1970-12-13</td>\n",
       "      <td>1999-01-01</td>\n",
       "    </tr>\n",
       "    <tr>\n",
       "      <th>1</th>\n",
       "      <td>2</td>\n",
       "      <td>450204</td>\n",
       "      <td>1</td>\n",
       "      <td>H</td>\n",
       "      <td>1945-02-04</td>\n",
       "      <td>1999-01-01</td>\n",
       "    </tr>\n",
       "  </tbody>\n",
       "</table>\n",
       "</div>"
      ],
      "text/plain": [
       "   client_id birth_number  district_id genre      birth       diff\n",
       "0          1       706213           18     M 1970-12-13 1999-01-01\n",
       "1          2       450204            1     H 1945-02-04 1999-01-01"
      ]
     },
     "execution_count": 135,
     "metadata": {},
     "output_type": "execute_result"
    }
   ],
   "source": [
    "client.head(2)"
   ]
  },
  {
   "cell_type": "code",
   "execution_count": 126,
   "metadata": {
    "ExecuteTime": {
     "end_time": "2021-02-07T17:23:56.059167Z",
     "start_time": "2021-02-07T17:23:56.049269Z"
    }
   },
   "outputs": [
    {
     "name": "stdout",
     "output_type": "stream",
     "text": [
      "<class 'pandas.core.frame.DataFrame'>\n",
      "RangeIndex: 5369 entries, 0 to 5368\n",
      "Data columns (total 5 columns):\n",
      " #   Column        Non-Null Count  Dtype \n",
      "---  ------        --------------  ----- \n",
      " 0   client_id     5369 non-null   int64 \n",
      " 1   birth_number  5369 non-null   object\n",
      " 2   district_id   5369 non-null   int64 \n",
      " 3   genre         5369 non-null   object\n",
      " 4   birth         5369 non-null   object\n",
      "dtypes: int64(2), object(3)\n",
      "memory usage: 209.9+ KB\n"
     ]
    }
   ],
   "source": [
    "client.info()"
   ]
  },
  {
   "cell_type": "code",
   "execution_count": 123,
   "metadata": {
    "ExecuteTime": {
     "end_time": "2021-02-07T17:23:44.425488Z",
     "start_time": "2021-02-07T17:23:44.416731Z"
    }
   },
   "outputs": [],
   "source": [
    "client['birth_number'] = client['birth_number'].astype(str)"
   ]
  },
  {
   "cell_type": "code",
   "execution_count": 124,
   "metadata": {
    "ExecuteTime": {
     "end_time": "2021-02-07T17:23:45.551805Z",
     "start_time": "2021-02-07T17:23:45.541691Z"
    }
   },
   "outputs": [],
   "source": [
    "client['genre'] = client['birth_number'].map(genero)"
   ]
  },
  {
   "cell_type": "code",
   "execution_count": 125,
   "metadata": {
    "ExecuteTime": {
     "end_time": "2021-02-07T17:23:52.176526Z",
     "start_time": "2021-02-07T17:23:52.166633Z"
    }
   },
   "outputs": [],
   "source": [
    "client['birth'] = client['birth_number'].map(date_genre)"
   ]
  },
  {
   "cell_type": "code",
   "execution_count": 127,
   "metadata": {
    "ExecuteTime": {
     "end_time": "2021-02-07T17:24:08.506456Z",
     "start_time": "2021-02-07T17:24:08.501479Z"
    }
   },
   "outputs": [],
   "source": [
    "client['birth'] = '19'+client['birth']"
   ]
  },
  {
   "cell_type": "code",
   "execution_count": 128,
   "metadata": {
    "ExecuteTime": {
     "end_time": "2021-02-07T17:24:12.501431Z",
     "start_time": "2021-02-07T17:24:12.491325Z"
    }
   },
   "outputs": [],
   "source": [
    "client['birth']=pd.to_datetime(client['birth'], format=\"%Y%m%d\")"
   ]
  },
  {
   "cell_type": "code",
   "execution_count": 134,
   "metadata": {
    "ExecuteTime": {
     "end_time": "2021-02-07T17:39:52.153761Z",
     "start_time": "2021-02-07T17:39:52.145895Z"
    }
   },
   "outputs": [],
   "source": [
    "client['diff'] = '19990101'\n",
    "client['diff']=pd.to_datetime(client['diff'], format=\"%Y%m%d\")"
   ]
  },
  {
   "cell_type": "code",
   "execution_count": 138,
   "metadata": {
    "ExecuteTime": {
     "end_time": "2021-02-07T17:41:45.240838Z",
     "start_time": "2021-02-07T17:41:45.232840Z"
    }
   },
   "outputs": [],
   "source": [
    "client['age'] = (client['diff'] - client['birth']).dt.days/365.2425"
   ]
  },
  {
   "cell_type": "code",
   "execution_count": 140,
   "metadata": {
    "ExecuteTime": {
     "end_time": "2021-02-07T17:42:09.864956Z",
     "start_time": "2021-02-07T17:42:09.860247Z"
    }
   },
   "outputs": [],
   "source": [
    "client['age'] = client['age'].astype(int)"
   ]
  },
  {
   "cell_type": "code",
   "execution_count": 141,
   "metadata": {
    "ExecuteTime": {
     "end_time": "2021-02-07T17:42:20.030962Z",
     "start_time": "2021-02-07T17:42:20.016703Z"
    }
   },
   "outputs": [
    {
     "data": {
      "text/html": [
       "<div>\n",
       "<style scoped>\n",
       "    .dataframe tbody tr th:only-of-type {\n",
       "        vertical-align: middle;\n",
       "    }\n",
       "\n",
       "    .dataframe tbody tr th {\n",
       "        vertical-align: top;\n",
       "    }\n",
       "\n",
       "    .dataframe thead th {\n",
       "        text-align: right;\n",
       "    }\n",
       "</style>\n",
       "<table border=\"1\" class=\"dataframe\">\n",
       "  <thead>\n",
       "    <tr style=\"text-align: right;\">\n",
       "      <th></th>\n",
       "      <th>client_id</th>\n",
       "      <th>birth_number</th>\n",
       "      <th>district_id</th>\n",
       "      <th>genre</th>\n",
       "      <th>birth</th>\n",
       "      <th>diff</th>\n",
       "      <th>age</th>\n",
       "    </tr>\n",
       "  </thead>\n",
       "  <tbody>\n",
       "    <tr>\n",
       "      <th>0</th>\n",
       "      <td>1</td>\n",
       "      <td>706213</td>\n",
       "      <td>18</td>\n",
       "      <td>M</td>\n",
       "      <td>1970-12-13</td>\n",
       "      <td>1999-01-01</td>\n",
       "      <td>28</td>\n",
       "    </tr>\n",
       "    <tr>\n",
       "      <th>1</th>\n",
       "      <td>2</td>\n",
       "      <td>450204</td>\n",
       "      <td>1</td>\n",
       "      <td>H</td>\n",
       "      <td>1945-02-04</td>\n",
       "      <td>1999-01-01</td>\n",
       "      <td>53</td>\n",
       "    </tr>\n",
       "    <tr>\n",
       "      <th>2</th>\n",
       "      <td>3</td>\n",
       "      <td>406009</td>\n",
       "      <td>1</td>\n",
       "      <td>M</td>\n",
       "      <td>1940-10-09</td>\n",
       "      <td>1999-01-01</td>\n",
       "      <td>58</td>\n",
       "    </tr>\n",
       "  </tbody>\n",
       "</table>\n",
       "</div>"
      ],
      "text/plain": [
       "   client_id birth_number  district_id genre      birth       diff  age\n",
       "0          1       706213           18     M 1970-12-13 1999-01-01   28\n",
       "1          2       450204            1     H 1945-02-04 1999-01-01   53\n",
       "2          3       406009            1     M 1940-10-09 1999-01-01   58"
      ]
     },
     "execution_count": 141,
     "metadata": {},
     "output_type": "execute_result"
    }
   ],
   "source": [
    "client.head(3)"
   ]
  },
  {
   "cell_type": "markdown",
   "metadata": {},
   "source": [
    "## District "
   ]
  },
  {
   "cell_type": "code",
   "execution_count": 149,
   "metadata": {
    "ExecuteTime": {
     "end_time": "2021-02-07T17:53:47.580040Z",
     "start_time": "2021-02-07T17:53:47.567951Z"
    }
   },
   "outputs": [
    {
     "name": "stdout",
     "output_type": "stream",
     "text": [
      "<class 'pandas.core.frame.DataFrame'>\n",
      "RangeIndex: 77 entries, 0 to 76\n",
      "Data columns (total 16 columns):\n",
      " #   Column  Non-Null Count  Dtype  \n",
      "---  ------  --------------  -----  \n",
      " 0   A1      77 non-null     int64  \n",
      " 1   A2      77 non-null     object \n",
      " 2   A3      77 non-null     object \n",
      " 3   A4      77 non-null     int64  \n",
      " 4   A5      77 non-null     int64  \n",
      " 5   A6      77 non-null     int64  \n",
      " 6   A7      77 non-null     int64  \n",
      " 7   A8      77 non-null     int64  \n",
      " 8   A9      77 non-null     int64  \n",
      " 9   A10     77 non-null     float64\n",
      " 10  A11     77 non-null     int64  \n",
      " 11  A12     77 non-null     object \n",
      " 12  A13     77 non-null     float64\n",
      " 13  A14     77 non-null     int64  \n",
      " 14  A15     77 non-null     object \n",
      " 15  A16     77 non-null     int64  \n",
      "dtypes: float64(2), int64(10), object(4)\n",
      "memory usage: 9.8+ KB\n"
     ]
    }
   ],
   "source": [
    "district.info()"
   ]
  },
  {
   "cell_type": "code",
   "execution_count": 16,
   "metadata": {
    "ExecuteTime": {
     "end_time": "2021-02-07T15:22:53.706918Z",
     "start_time": "2021-02-07T15:22:53.678636Z"
    }
   },
   "outputs": [
    {
     "data": {
      "text/html": [
       "<div>\n",
       "<style scoped>\n",
       "    .dataframe tbody tr th:only-of-type {\n",
       "        vertical-align: middle;\n",
       "    }\n",
       "\n",
       "    .dataframe tbody tr th {\n",
       "        vertical-align: top;\n",
       "    }\n",
       "\n",
       "    .dataframe thead th {\n",
       "        text-align: right;\n",
       "    }\n",
       "</style>\n",
       "<table border=\"1\" class=\"dataframe\">\n",
       "  <thead>\n",
       "    <tr style=\"text-align: right;\">\n",
       "      <th></th>\n",
       "      <th>A1</th>\n",
       "      <th>A2</th>\n",
       "      <th>A3</th>\n",
       "      <th>A4</th>\n",
       "      <th>A5</th>\n",
       "      <th>A6</th>\n",
       "      <th>A7</th>\n",
       "      <th>A8</th>\n",
       "      <th>A9</th>\n",
       "      <th>A10</th>\n",
       "      <th>A11</th>\n",
       "      <th>A12</th>\n",
       "      <th>A13</th>\n",
       "      <th>A14</th>\n",
       "      <th>A15</th>\n",
       "      <th>A16</th>\n",
       "    </tr>\n",
       "  </thead>\n",
       "  <tbody>\n",
       "    <tr>\n",
       "      <th>0</th>\n",
       "      <td>1</td>\n",
       "      <td>Hl.m. Praha</td>\n",
       "      <td>Prague</td>\n",
       "      <td>1204953</td>\n",
       "      <td>0</td>\n",
       "      <td>0</td>\n",
       "      <td>0</td>\n",
       "      <td>1</td>\n",
       "      <td>1</td>\n",
       "      <td>100.0000</td>\n",
       "      <td>12541</td>\n",
       "      <td>0.29</td>\n",
       "      <td>0.4300</td>\n",
       "      <td>167</td>\n",
       "      <td>85677</td>\n",
       "      <td>99107</td>\n",
       "    </tr>\n",
       "    <tr>\n",
       "      <th>1</th>\n",
       "      <td>2</td>\n",
       "      <td>Benesov</td>\n",
       "      <td>central Bohemia</td>\n",
       "      <td>88884</td>\n",
       "      <td>80</td>\n",
       "      <td>26</td>\n",
       "      <td>6</td>\n",
       "      <td>2</td>\n",
       "      <td>5</td>\n",
       "      <td>46.7000</td>\n",
       "      <td>8507</td>\n",
       "      <td>1.67</td>\n",
       "      <td>1.8500</td>\n",
       "      <td>132</td>\n",
       "      <td>2159</td>\n",
       "      <td>2674</td>\n",
       "    </tr>\n",
       "    <tr>\n",
       "      <th>2</th>\n",
       "      <td>3</td>\n",
       "      <td>Beroun</td>\n",
       "      <td>central Bohemia</td>\n",
       "      <td>75232</td>\n",
       "      <td>55</td>\n",
       "      <td>26</td>\n",
       "      <td>4</td>\n",
       "      <td>1</td>\n",
       "      <td>5</td>\n",
       "      <td>41.7000</td>\n",
       "      <td>8980</td>\n",
       "      <td>1.95</td>\n",
       "      <td>2.2100</td>\n",
       "      <td>111</td>\n",
       "      <td>2824</td>\n",
       "      <td>2813</td>\n",
       "    </tr>\n",
       "    <tr>\n",
       "      <th>3</th>\n",
       "      <td>4</td>\n",
       "      <td>Kladno</td>\n",
       "      <td>central Bohemia</td>\n",
       "      <td>149893</td>\n",
       "      <td>63</td>\n",
       "      <td>29</td>\n",
       "      <td>6</td>\n",
       "      <td>2</td>\n",
       "      <td>6</td>\n",
       "      <td>67.4000</td>\n",
       "      <td>9753</td>\n",
       "      <td>4.64</td>\n",
       "      <td>5.0500</td>\n",
       "      <td>109</td>\n",
       "      <td>5244</td>\n",
       "      <td>5892</td>\n",
       "    </tr>\n",
       "    <tr>\n",
       "      <th>4</th>\n",
       "      <td>5</td>\n",
       "      <td>Kolin</td>\n",
       "      <td>central Bohemia</td>\n",
       "      <td>95616</td>\n",
       "      <td>65</td>\n",
       "      <td>30</td>\n",
       "      <td>4</td>\n",
       "      <td>1</td>\n",
       "      <td>6</td>\n",
       "      <td>51.4000</td>\n",
       "      <td>9307</td>\n",
       "      <td>3.85</td>\n",
       "      <td>4.4300</td>\n",
       "      <td>118</td>\n",
       "      <td>2616</td>\n",
       "      <td>3040</td>\n",
       "    </tr>\n",
       "  </tbody>\n",
       "</table>\n",
       "</div>"
      ],
      "text/plain": [
       "   A1           A2               A3       A4  A5  A6  A7  A8  A9      A10  \\\n",
       "0   1  Hl.m. Praha           Prague  1204953   0   0   0   1   1 100.0000   \n",
       "1   2      Benesov  central Bohemia    88884  80  26   6   2   5  46.7000   \n",
       "2   3       Beroun  central Bohemia    75232  55  26   4   1   5  41.7000   \n",
       "3   4       Kladno  central Bohemia   149893  63  29   6   2   6  67.4000   \n",
       "4   5        Kolin  central Bohemia    95616  65  30   4   1   6  51.4000   \n",
       "\n",
       "     A11   A12    A13  A14    A15    A16  \n",
       "0  12541  0.29 0.4300  167  85677  99107  \n",
       "1   8507  1.67 1.8500  132   2159   2674  \n",
       "2   8980  1.95 2.2100  111   2824   2813  \n",
       "3   9753  4.64 5.0500  109   5244   5892  \n",
       "4   9307  3.85 4.4300  118   2616   3040  "
      ]
     },
     "execution_count": 16,
     "metadata": {},
     "output_type": "execute_result"
    }
   ],
   "source": [
    "district.head(5)"
   ]
  },
  {
   "cell_type": "markdown",
   "metadata": {},
   "source": [
    "## Card"
   ]
  },
  {
   "cell_type": "code",
   "execution_count": 150,
   "metadata": {
    "ExecuteTime": {
     "end_time": "2021-02-07T17:54:08.754688Z",
     "start_time": "2021-02-07T17:54:08.744672Z"
    }
   },
   "outputs": [
    {
     "name": "stdout",
     "output_type": "stream",
     "text": [
      "<class 'pandas.core.frame.DataFrame'>\n",
      "RangeIndex: 892 entries, 0 to 891\n",
      "Data columns (total 4 columns):\n",
      " #   Column   Non-Null Count  Dtype \n",
      "---  ------   --------------  ----- \n",
      " 0   card_id  892 non-null    int64 \n",
      " 1   disp_id  892 non-null    int64 \n",
      " 2   type     892 non-null    object\n",
      " 3   issued   892 non-null    object\n",
      "dtypes: int64(2), object(2)\n",
      "memory usage: 28.0+ KB\n"
     ]
    }
   ],
   "source": [
    "card.info()"
   ]
  },
  {
   "cell_type": "code",
   "execution_count": 179,
   "metadata": {
    "ExecuteTime": {
     "end_time": "2021-02-07T18:27:17.443024Z",
     "start_time": "2021-02-07T18:27:17.430386Z"
    }
   },
   "outputs": [
    {
     "data": {
      "text/html": [
       "<div>\n",
       "<style scoped>\n",
       "    .dataframe tbody tr th:only-of-type {\n",
       "        vertical-align: middle;\n",
       "    }\n",
       "\n",
       "    .dataframe tbody tr th {\n",
       "        vertical-align: top;\n",
       "    }\n",
       "\n",
       "    .dataframe thead th {\n",
       "        text-align: right;\n",
       "    }\n",
       "</style>\n",
       "<table border=\"1\" class=\"dataframe\">\n",
       "  <thead>\n",
       "    <tr style=\"text-align: right;\">\n",
       "      <th></th>\n",
       "      <th>card_id</th>\n",
       "      <th>disp_id</th>\n",
       "      <th>type</th>\n",
       "      <th>issued</th>\n",
       "      <th>date</th>\n",
       "    </tr>\n",
       "  </thead>\n",
       "  <tbody>\n",
       "    <tr>\n",
       "      <th>0</th>\n",
       "      <td>1005</td>\n",
       "      <td>9285</td>\n",
       "      <td>classic</td>\n",
       "      <td>931107 00:00:00</td>\n",
       "      <td>1993-11-07</td>\n",
       "    </tr>\n",
       "    <tr>\n",
       "      <th>1</th>\n",
       "      <td>104</td>\n",
       "      <td>588</td>\n",
       "      <td>classic</td>\n",
       "      <td>940119 00:00:00</td>\n",
       "      <td>1994-01-19</td>\n",
       "    </tr>\n",
       "  </tbody>\n",
       "</table>\n",
       "</div>"
      ],
      "text/plain": [
       "   card_id  disp_id     type           issued       date\n",
       "0     1005     9285  classic  931107 00:00:00 1993-11-07\n",
       "1      104      588  classic  940119 00:00:00 1994-01-19"
      ]
     },
     "execution_count": 179,
     "metadata": {},
     "output_type": "execute_result"
    }
   ],
   "source": [
    "card.head(2)"
   ]
  },
  {
   "cell_type": "code",
   "execution_count": 176,
   "metadata": {
    "ExecuteTime": {
     "end_time": "2021-02-07T18:24:02.113970Z",
     "start_time": "2021-02-07T18:24:02.101519Z"
    }
   },
   "outputs": [],
   "source": [
    "card['date'] = card['issued'].str.extract(r'([0-9]{6})')"
   ]
  },
  {
   "cell_type": "code",
   "execution_count": 178,
   "metadata": {
    "ExecuteTime": {
     "end_time": "2021-02-07T18:27:14.690020Z",
     "start_time": "2021-02-07T18:27:14.680644Z"
    }
   },
   "outputs": [],
   "source": [
    "card['date'] = '19'+card['date']\n",
    "card['date'] = pd.to_datetime(card['date'], format=\"%Y%m%d\")"
   ]
  },
  {
   "cell_type": "markdown",
   "metadata": {},
   "source": [
    "## Disposition"
   ]
  },
  {
   "cell_type": "code",
   "execution_count": 22,
   "metadata": {
    "ExecuteTime": {
     "end_time": "2021-02-07T15:30:27.340291Z",
     "start_time": "2021-02-07T15:30:27.322175Z"
    }
   },
   "outputs": [
    {
     "data": {
      "text/html": [
       "<div>\n",
       "<style scoped>\n",
       "    .dataframe tbody tr th:only-of-type {\n",
       "        vertical-align: middle;\n",
       "    }\n",
       "\n",
       "    .dataframe tbody tr th {\n",
       "        vertical-align: top;\n",
       "    }\n",
       "\n",
       "    .dataframe thead th {\n",
       "        text-align: right;\n",
       "    }\n",
       "</style>\n",
       "<table border=\"1\" class=\"dataframe\">\n",
       "  <thead>\n",
       "    <tr style=\"text-align: right;\">\n",
       "      <th></th>\n",
       "      <th>disp_id</th>\n",
       "      <th>client_id</th>\n",
       "      <th>account_id</th>\n",
       "      <th>type</th>\n",
       "    </tr>\n",
       "  </thead>\n",
       "  <tbody>\n",
       "    <tr>\n",
       "      <th>0</th>\n",
       "      <td>1</td>\n",
       "      <td>1</td>\n",
       "      <td>1</td>\n",
       "      <td>OWNER</td>\n",
       "    </tr>\n",
       "    <tr>\n",
       "      <th>1</th>\n",
       "      <td>2</td>\n",
       "      <td>2</td>\n",
       "      <td>2</td>\n",
       "      <td>OWNER</td>\n",
       "    </tr>\n",
       "    <tr>\n",
       "      <th>2</th>\n",
       "      <td>3</td>\n",
       "      <td>3</td>\n",
       "      <td>2</td>\n",
       "      <td>DISPONENT</td>\n",
       "    </tr>\n",
       "  </tbody>\n",
       "</table>\n",
       "</div>"
      ],
      "text/plain": [
       "   disp_id  client_id  account_id       type\n",
       "0        1          1           1      OWNER\n",
       "1        2          2           2      OWNER\n",
       "2        3          3           2  DISPONENT"
      ]
     },
     "execution_count": 22,
     "metadata": {},
     "output_type": "execute_result"
    }
   ],
   "source": [
    "disp.head(3)"
   ]
  },
  {
   "cell_type": "markdown",
   "metadata": {},
   "source": [
    "## Loan"
   ]
  },
  {
   "cell_type": "code",
   "execution_count": 152,
   "metadata": {
    "ExecuteTime": {
     "end_time": "2021-02-07T17:58:40.125037Z",
     "start_time": "2021-02-07T17:58:40.113610Z"
    }
   },
   "outputs": [
    {
     "name": "stdout",
     "output_type": "stream",
     "text": [
      "<class 'pandas.core.frame.DataFrame'>\n",
      "RangeIndex: 682 entries, 0 to 681\n",
      "Data columns (total 7 columns):\n",
      " #   Column      Non-Null Count  Dtype  \n",
      "---  ------      --------------  -----  \n",
      " 0   loan_id     682 non-null    int64  \n",
      " 1   account_id  682 non-null    int64  \n",
      " 2   date        682 non-null    int64  \n",
      " 3   amount      682 non-null    int64  \n",
      " 4   duration    682 non-null    int64  \n",
      " 5   payments    682 non-null    float64\n",
      " 6   status      682 non-null    object \n",
      "dtypes: float64(1), int64(5), object(1)\n",
      "memory usage: 37.4+ KB\n"
     ]
    }
   ],
   "source": [
    "loan.info()"
   ]
  },
  {
   "cell_type": "code",
   "execution_count": 154,
   "metadata": {
    "ExecuteTime": {
     "end_time": "2021-02-07T17:59:45.049313Z",
     "start_time": "2021-02-07T17:59:45.037093Z"
    }
   },
   "outputs": [
    {
     "data": {
      "text/html": [
       "<div>\n",
       "<style scoped>\n",
       "    .dataframe tbody tr th:only-of-type {\n",
       "        vertical-align: middle;\n",
       "    }\n",
       "\n",
       "    .dataframe tbody tr th {\n",
       "        vertical-align: top;\n",
       "    }\n",
       "\n",
       "    .dataframe thead th {\n",
       "        text-align: right;\n",
       "    }\n",
       "</style>\n",
       "<table border=\"1\" class=\"dataframe\">\n",
       "  <thead>\n",
       "    <tr style=\"text-align: right;\">\n",
       "      <th></th>\n",
       "      <th>loan_id</th>\n",
       "      <th>account_id</th>\n",
       "      <th>date</th>\n",
       "      <th>amount</th>\n",
       "      <th>duration</th>\n",
       "      <th>payments</th>\n",
       "      <th>status</th>\n",
       "    </tr>\n",
       "  </thead>\n",
       "  <tbody>\n",
       "    <tr>\n",
       "      <th>0</th>\n",
       "      <td>5314</td>\n",
       "      <td>1787</td>\n",
       "      <td>1993-07-05</td>\n",
       "      <td>96396</td>\n",
       "      <td>12</td>\n",
       "      <td>8,033.0000</td>\n",
       "      <td>c_terminado_prestamo_no_pagado</td>\n",
       "    </tr>\n",
       "    <tr>\n",
       "      <th>1</th>\n",
       "      <td>5316</td>\n",
       "      <td>1801</td>\n",
       "      <td>1993-07-11</td>\n",
       "      <td>165960</td>\n",
       "      <td>36</td>\n",
       "      <td>4,610.0000</td>\n",
       "      <td>c_terminado_sin_problema</td>\n",
       "    </tr>\n",
       "  </tbody>\n",
       "</table>\n",
       "</div>"
      ],
      "text/plain": [
       "   loan_id  account_id       date  amount  duration   payments  \\\n",
       "0     5314        1787 1993-07-05   96396        12 8,033.0000   \n",
       "1     5316        1801 1993-07-11  165960        36 4,610.0000   \n",
       "\n",
       "                           status  \n",
       "0  c_terminado_prestamo_no_pagado  \n",
       "1        c_terminado_sin_problema  "
      ]
     },
     "execution_count": 154,
     "metadata": {},
     "output_type": "execute_result"
    }
   ],
   "source": [
    "loan.head(2)"
   ]
  },
  {
   "cell_type": "code",
   "execution_count": 153,
   "metadata": {
    "ExecuteTime": {
     "end_time": "2021-02-07T17:59:42.527343Z",
     "start_time": "2021-02-07T17:59:42.517649Z"
    }
   },
   "outputs": [],
   "source": [
    "loan.status = loan.status.replace({\"A\": 'c_terminado_sin_problema', \"B\": 'c_terminado_prestamo_no_pagado', \"C\": 'c_en_ejecucion_hasta_ahora', \"D\": 'c_en_ejecucion_client_endeudado'})\n",
    "loan['date'] = loan['date'].astype(str)\n",
    "loan['date'] = '19'+loan['date']\n",
    "loan['date']=pd.to_datetime(loan['date'], format=\"%Y%m%d\")"
   ]
  },
  {
   "cell_type": "markdown",
   "metadata": {},
   "source": [
    "## order"
   ]
  },
  {
   "cell_type": "code",
   "execution_count": 26,
   "metadata": {
    "ExecuteTime": {
     "end_time": "2021-02-07T15:31:43.667950Z",
     "start_time": "2021-02-07T15:31:43.659859Z"
    }
   },
   "outputs": [
    {
     "data": {
      "text/html": [
       "<div>\n",
       "<style scoped>\n",
       "    .dataframe tbody tr th:only-of-type {\n",
       "        vertical-align: middle;\n",
       "    }\n",
       "\n",
       "    .dataframe tbody tr th {\n",
       "        vertical-align: top;\n",
       "    }\n",
       "\n",
       "    .dataframe thead th {\n",
       "        text-align: right;\n",
       "    }\n",
       "</style>\n",
       "<table border=\"1\" class=\"dataframe\">\n",
       "  <thead>\n",
       "    <tr style=\"text-align: right;\">\n",
       "      <th></th>\n",
       "      <th>order_id</th>\n",
       "      <th>account_id</th>\n",
       "      <th>bank_to</th>\n",
       "      <th>account_to</th>\n",
       "      <th>amount</th>\n",
       "      <th>k_symbol</th>\n",
       "    </tr>\n",
       "  </thead>\n",
       "  <tbody>\n",
       "    <tr>\n",
       "      <th>0</th>\n",
       "      <td>29401</td>\n",
       "      <td>1</td>\n",
       "      <td>YZ</td>\n",
       "      <td>87144583</td>\n",
       "      <td>2,452.0000</td>\n",
       "      <td>SIPO</td>\n",
       "    </tr>\n",
       "    <tr>\n",
       "      <th>1</th>\n",
       "      <td>29402</td>\n",
       "      <td>2</td>\n",
       "      <td>ST</td>\n",
       "      <td>89597016</td>\n",
       "      <td>3,372.7000</td>\n",
       "      <td>UVER</td>\n",
       "    </tr>\n",
       "  </tbody>\n",
       "</table>\n",
       "</div>"
      ],
      "text/plain": [
       "   order_id  account_id bank_to  account_to     amount k_symbol\n",
       "0     29401           1      YZ    87144583 2,452.0000     SIPO\n",
       "1     29402           2      ST    89597016 3,372.7000     UVER"
      ]
     },
     "execution_count": 26,
     "metadata": {},
     "output_type": "execute_result"
    }
   ],
   "source": [
    "order.head(2)"
   ]
  },
  {
   "cell_type": "code",
   "execution_count": 151,
   "metadata": {
    "ExecuteTime": {
     "end_time": "2021-02-07T17:56:51.529394Z",
     "start_time": "2021-02-07T17:56:51.521773Z"
    }
   },
   "outputs": [],
   "source": [
    "order.k_symbol = order.k_symbol.replace({\"POJISTNE\": 'pago_seguro', \"SIPO\": 'pago_domestico',\n",
    "                                         \"LEASING\": 'pago_arrendamiento', \"UVER\": 'pago_prestamo',\" \": 'no_aplica'})"
   ]
  },
  {
   "cell_type": "markdown",
   "metadata": {},
   "source": [
    "## Transactions"
   ]
  },
  {
   "cell_type": "code",
   "execution_count": 171,
   "metadata": {
    "ExecuteTime": {
     "end_time": "2021-02-07T18:14:24.166068Z",
     "start_time": "2021-02-07T18:14:23.800226Z"
    }
   },
   "outputs": [
    {
     "name": "stdout",
     "output_type": "stream",
     "text": [
      "<class 'pandas.core.frame.DataFrame'>\n",
      "RangeIndex: 1056320 entries, 0 to 1056319\n",
      "Data columns (total 10 columns):\n",
      " #   Column      Non-Null Count    Dtype         \n",
      "---  ------      --------------    -----         \n",
      " 0   trans_id    1056320 non-null  int64         \n",
      " 1   account_id  1056320 non-null  int64         \n",
      " 2   date        1056320 non-null  datetime64[ns]\n",
      " 3   type        1056320 non-null  object        \n",
      " 4   operation   1056320 non-null  object        \n",
      " 5   amount      1056320 non-null  float64       \n",
      " 6   balance     1056320 non-null  float64       \n",
      " 7   k_symbol    1056320 non-null  object        \n",
      " 8   bank        1056320 non-null  object        \n",
      " 9   account     1056320 non-null  object        \n",
      "dtypes: datetime64[ns](1), float64(2), int64(2), object(5)\n",
      "memory usage: 80.6+ MB\n"
     ]
    }
   ],
   "source": [
    "trans.info()"
   ]
  },
  {
   "cell_type": "code",
   "execution_count": 169,
   "metadata": {
    "ExecuteTime": {
     "end_time": "2021-02-07T18:13:24.421343Z",
     "start_time": "2021-02-07T18:13:24.403884Z"
    }
   },
   "outputs": [
    {
     "data": {
      "text/html": [
       "<div>\n",
       "<style scoped>\n",
       "    .dataframe tbody tr th:only-of-type {\n",
       "        vertical-align: middle;\n",
       "    }\n",
       "\n",
       "    .dataframe tbody tr th {\n",
       "        vertical-align: top;\n",
       "    }\n",
       "\n",
       "    .dataframe thead th {\n",
       "        text-align: right;\n",
       "    }\n",
       "</style>\n",
       "<table border=\"1\" class=\"dataframe\">\n",
       "  <thead>\n",
       "    <tr style=\"text-align: right;\">\n",
       "      <th></th>\n",
       "      <th>trans_id</th>\n",
       "      <th>account_id</th>\n",
       "      <th>date</th>\n",
       "      <th>type</th>\n",
       "      <th>operation</th>\n",
       "      <th>amount</th>\n",
       "      <th>balance</th>\n",
       "      <th>k_symbol</th>\n",
       "      <th>bank</th>\n",
       "      <th>account</th>\n",
       "    </tr>\n",
       "  </thead>\n",
       "  <tbody>\n",
       "    <tr>\n",
       "      <th>0</th>\n",
       "      <td>695247</td>\n",
       "      <td>2378</td>\n",
       "      <td>930101</td>\n",
       "      <td>credito</td>\n",
       "      <td>credito_en_efectivo</td>\n",
       "      <td>700.0000</td>\n",
       "      <td>700.0000</td>\n",
       "      <td>no_aplica</td>\n",
       "      <td>no_aplica</td>\n",
       "      <td>no_aplica</td>\n",
       "    </tr>\n",
       "    <tr>\n",
       "      <th>1</th>\n",
       "      <td>171812</td>\n",
       "      <td>576</td>\n",
       "      <td>930101</td>\n",
       "      <td>credito</td>\n",
       "      <td>credito_en_efectivo</td>\n",
       "      <td>900.0000</td>\n",
       "      <td>900.0000</td>\n",
       "      <td>no_aplica</td>\n",
       "      <td>no_aplica</td>\n",
       "      <td>no_aplica</td>\n",
       "    </tr>\n",
       "    <tr>\n",
       "      <th>2</th>\n",
       "      <td>207264</td>\n",
       "      <td>704</td>\n",
       "      <td>930101</td>\n",
       "      <td>credito</td>\n",
       "      <td>credito_en_efectivo</td>\n",
       "      <td>1,000.0000</td>\n",
       "      <td>1,000.0000</td>\n",
       "      <td>no_aplica</td>\n",
       "      <td>no_aplica</td>\n",
       "      <td>no_aplica</td>\n",
       "    </tr>\n",
       "    <tr>\n",
       "      <th>3</th>\n",
       "      <td>1117247</td>\n",
       "      <td>3818</td>\n",
       "      <td>930101</td>\n",
       "      <td>credito</td>\n",
       "      <td>credito_en_efectivo</td>\n",
       "      <td>600.0000</td>\n",
       "      <td>600.0000</td>\n",
       "      <td>no_aplica</td>\n",
       "      <td>no_aplica</td>\n",
       "      <td>no_aplica</td>\n",
       "    </tr>\n",
       "    <tr>\n",
       "      <th>4</th>\n",
       "      <td>579373</td>\n",
       "      <td>1972</td>\n",
       "      <td>930102</td>\n",
       "      <td>credito</td>\n",
       "      <td>credito_en_efectivo</td>\n",
       "      <td>400.0000</td>\n",
       "      <td>400.0000</td>\n",
       "      <td>no_aplica</td>\n",
       "      <td>no_aplica</td>\n",
       "      <td>no_aplica</td>\n",
       "    </tr>\n",
       "  </tbody>\n",
       "</table>\n",
       "</div>"
      ],
      "text/plain": [
       "   trans_id  account_id    date     type            operation     amount  \\\n",
       "0    695247        2378  930101  credito  credito_en_efectivo   700.0000   \n",
       "1    171812         576  930101  credito  credito_en_efectivo   900.0000   \n",
       "2    207264         704  930101  credito  credito_en_efectivo 1,000.0000   \n",
       "3   1117247        3818  930101  credito  credito_en_efectivo   600.0000   \n",
       "4    579373        1972  930102  credito  credito_en_efectivo   400.0000   \n",
       "\n",
       "     balance   k_symbol       bank    account  \n",
       "0   700.0000  no_aplica  no_aplica  no_aplica  \n",
       "1   900.0000  no_aplica  no_aplica  no_aplica  \n",
       "2 1,000.0000  no_aplica  no_aplica  no_aplica  \n",
       "3   600.0000  no_aplica  no_aplica  no_aplica  \n",
       "4   400.0000  no_aplica  no_aplica  no_aplica  "
      ]
     },
     "execution_count": 169,
     "metadata": {},
     "output_type": "execute_result"
    }
   ],
   "source": [
    "trans.head(5)"
   ]
  },
  {
   "cell_type": "code",
   "execution_count": 165,
   "metadata": {
    "ExecuteTime": {
     "end_time": "2021-02-07T18:12:13.523985Z",
     "start_time": "2021-02-07T18:12:13.291904Z"
    }
   },
   "outputs": [],
   "source": [
    "trans.type = trans.type.replace({\"PRIJEM\": 'credito', \"VYDAJ\": 'debito', \"VYBER\":'retiro_en_efectivo'})"
   ]
  },
  {
   "cell_type": "code",
   "execution_count": 166,
   "metadata": {
    "ExecuteTime": {
     "end_time": "2021-02-07T18:12:14.361284Z",
     "start_time": "2021-02-07T18:12:14.090916Z"
    }
   },
   "outputs": [],
   "source": [
    "trans.operation = trans.operation.replace({\"VYBER KARTOU\": 'retiro_tarjeta_cred', \"VKLAD\": 'credito_en_efectivo',\n",
    "                                           \"PREVOD Z UCTU\":'cobro_otro_banco',\"VYBER\":'retiro_en_efectivo',\n",
    "                                           \"PREVOD NA UCET\":'remesa_otro_banco',\n",
    "                                           np.nan: \"no_aplica\"})"
   ]
  },
  {
   "cell_type": "code",
   "execution_count": 167,
   "metadata": {
    "ExecuteTime": {
     "end_time": "2021-02-07T18:12:16.006378Z",
     "start_time": "2021-02-07T18:12:15.733176Z"
    }
   },
   "outputs": [],
   "source": [
    "trans.k_symbol = trans.k_symbol.replace({\"POJISTNE\": 'pago_seguro', \"SLUZBY'\": 'pago_de_declaracion',\n",
    "                                         \"UROK'\":'interes_acreditado',\n",
    "                                         \"SANKC.UROK\": 'interes_de_sancion_si_saldo_negativo',\n",
    "                                         \"SIPO\": 'pago_domestico',\"DUCHOD\": 'pago_de_pension',\n",
    "                                         \"UVER\": 'pago_de_prestamo',\n",
    "                                         np.nan: \"no_aplica\"})"
   ]
  },
  {
   "cell_type": "code",
   "execution_count": 168,
   "metadata": {
    "ExecuteTime": {
     "end_time": "2021-02-07T18:13:19.419590Z",
     "start_time": "2021-02-07T18:13:19.174167Z"
    }
   },
   "outputs": [],
   "source": [
    "trans['bank'] = trans['bank'].replace(np.nan, \"no_aplica\") \n",
    "trans['account'] = trans['account'].replace(np.nan, \"no_aplica\")"
   ]
  },
  {
   "cell_type": "code",
   "execution_count": 170,
   "metadata": {
    "ExecuteTime": {
     "end_time": "2021-02-07T18:14:18.393499Z",
     "start_time": "2021-02-07T18:14:17.148908Z"
    }
   },
   "outputs": [],
   "source": [
    "trans['date'] = trans['date'].astype(str)\n",
    "trans['date'] = \"19\"+trans['date']\n",
    "trans['date']=pd.to_datetime(trans['date'], format= '%Y%m%d')"
   ]
  },
  {
   "cell_type": "code",
   "execution_count": 155,
   "metadata": {
    "ExecuteTime": {
     "end_time": "2021-02-07T18:06:03.904454Z",
     "start_time": "2021-02-07T18:06:03.857379Z"
    }
   },
   "outputs": [
    {
     "data": {
      "text/plain": [
       "array(['VKLAD', 'PREVOD Z UCTU', 'VYBER', nan, 'PREVOD NA UCET',\n",
       "       'VYBER KARTOU'], dtype=object)"
      ]
     },
     "execution_count": 155,
     "metadata": {},
     "output_type": "execute_result"
    }
   ],
   "source": [
    "trans.operation.unique()"
   ]
  },
  {
   "cell_type": "markdown",
   "metadata": {},
   "source": [
    "## Account"
   ]
  },
  {
   "cell_type": "code",
   "execution_count": 148,
   "metadata": {
    "ExecuteTime": {
     "end_time": "2021-02-07T17:51:01.042495Z",
     "start_time": "2021-02-07T17:51:01.029591Z"
    }
   },
   "outputs": [
    {
     "data": {
      "text/html": [
       "<div>\n",
       "<style scoped>\n",
       "    .dataframe tbody tr th:only-of-type {\n",
       "        vertical-align: middle;\n",
       "    }\n",
       "\n",
       "    .dataframe tbody tr th {\n",
       "        vertical-align: top;\n",
       "    }\n",
       "\n",
       "    .dataframe thead th {\n",
       "        text-align: right;\n",
       "    }\n",
       "</style>\n",
       "<table border=\"1\" class=\"dataframe\">\n",
       "  <thead>\n",
       "    <tr style=\"text-align: right;\">\n",
       "      <th></th>\n",
       "      <th>account_id</th>\n",
       "      <th>district_id</th>\n",
       "      <th>frequency</th>\n",
       "      <th>date</th>\n",
       "    </tr>\n",
       "  </thead>\n",
       "  <tbody>\n",
       "    <tr>\n",
       "      <th>0</th>\n",
       "      <td>576</td>\n",
       "      <td>55</td>\n",
       "      <td>emision_mensual</td>\n",
       "      <td>1993-01-01</td>\n",
       "    </tr>\n",
       "    <tr>\n",
       "      <th>1</th>\n",
       "      <td>3818</td>\n",
       "      <td>74</td>\n",
       "      <td>emision_mensual</td>\n",
       "      <td>1993-01-01</td>\n",
       "    </tr>\n",
       "    <tr>\n",
       "      <th>2</th>\n",
       "      <td>704</td>\n",
       "      <td>55</td>\n",
       "      <td>emision_mensual</td>\n",
       "      <td>1993-01-01</td>\n",
       "    </tr>\n",
       "    <tr>\n",
       "      <th>3</th>\n",
       "      <td>2378</td>\n",
       "      <td>16</td>\n",
       "      <td>emision_mensual</td>\n",
       "      <td>1993-01-01</td>\n",
       "    </tr>\n",
       "    <tr>\n",
       "      <th>4</th>\n",
       "      <td>2632</td>\n",
       "      <td>24</td>\n",
       "      <td>emision_mensual</td>\n",
       "      <td>1993-01-02</td>\n",
       "    </tr>\n",
       "    <tr>\n",
       "      <th>...</th>\n",
       "      <td>...</td>\n",
       "      <td>...</td>\n",
       "      <td>...</td>\n",
       "      <td>...</td>\n",
       "    </tr>\n",
       "    <tr>\n",
       "      <th>4495</th>\n",
       "      <td>124</td>\n",
       "      <td>55</td>\n",
       "      <td>emision_mensual</td>\n",
       "      <td>1997-12-28</td>\n",
       "    </tr>\n",
       "    <tr>\n",
       "      <th>4496</th>\n",
       "      <td>3958</td>\n",
       "      <td>59</td>\n",
       "      <td>emision_mensual</td>\n",
       "      <td>1997-12-28</td>\n",
       "    </tr>\n",
       "    <tr>\n",
       "      <th>4497</th>\n",
       "      <td>777</td>\n",
       "      <td>30</td>\n",
       "      <td>emision_mensual</td>\n",
       "      <td>1997-12-28</td>\n",
       "    </tr>\n",
       "    <tr>\n",
       "      <th>4498</th>\n",
       "      <td>1573</td>\n",
       "      <td>63</td>\n",
       "      <td>emision_mensual</td>\n",
       "      <td>1997-12-29</td>\n",
       "    </tr>\n",
       "    <tr>\n",
       "      <th>4499</th>\n",
       "      <td>3276</td>\n",
       "      <td>1</td>\n",
       "      <td>emision_mensual</td>\n",
       "      <td>1997-12-29</td>\n",
       "    </tr>\n",
       "  </tbody>\n",
       "</table>\n",
       "<p>4500 rows × 4 columns</p>\n",
       "</div>"
      ],
      "text/plain": [
       "      account_id  district_id        frequency       date\n",
       "0            576           55  emision_mensual 1993-01-01\n",
       "1           3818           74  emision_mensual 1993-01-01\n",
       "2            704           55  emision_mensual 1993-01-01\n",
       "3           2378           16  emision_mensual 1993-01-01\n",
       "4           2632           24  emision_mensual 1993-01-02\n",
       "...          ...          ...              ...        ...\n",
       "4495         124           55  emision_mensual 1997-12-28\n",
       "4496        3958           59  emision_mensual 1997-12-28\n",
       "4497         777           30  emision_mensual 1997-12-28\n",
       "4498        1573           63  emision_mensual 1997-12-29\n",
       "4499        3276            1  emision_mensual 1997-12-29\n",
       "\n",
       "[4500 rows x 4 columns]"
      ]
     },
     "execution_count": 148,
     "metadata": {},
     "output_type": "execute_result"
    }
   ],
   "source": [
    "account"
   ]
  },
  {
   "cell_type": "code",
   "execution_count": 145,
   "metadata": {
    "ExecuteTime": {
     "end_time": "2021-02-07T17:49:22.425676Z",
     "start_time": "2021-02-07T17:49:22.417759Z"
    }
   },
   "outputs": [],
   "source": [
    "account.frequency = account.frequency.replace({\"POPLATEK MESICNE\": 'emision_mensual',\n",
    "                                               \"POPLATEK TYDNE\": 'emision_semanal',\n",
    "                                               \"POPLATEK PO OBRATU\": 'emision_desp_tans'})"
   ]
  },
  {
   "cell_type": "code",
   "execution_count": 147,
   "metadata": {
    "ExecuteTime": {
     "end_time": "2021-02-07T17:50:56.544931Z",
     "start_time": "2021-02-07T17:50:56.529164Z"
    }
   },
   "outputs": [],
   "source": [
    "account['date'] = account['date'].astype(str)\n",
    "account['date'] = '19'+account['date']\n",
    "account['date']=pd.to_datetime(account['date'], format=\"%Y%m%d\")"
   ]
  },
  {
   "cell_type": "code",
   "execution_count": null,
   "metadata": {},
   "outputs": [],
   "source": []
  }
 ],
 "metadata": {
  "kernelspec": {
   "display_name": "Python 3",
   "language": "python",
   "name": "python3"
  },
  "language_info": {
   "codemirror_mode": {
    "name": "ipython",
    "version": 3
   },
   "file_extension": ".py",
   "mimetype": "text/x-python",
   "name": "python",
   "nbconvert_exporter": "python",
   "pygments_lexer": "ipython3",
   "version": "3.7.3rc1"
  },
  "varInspector": {
   "cols": {
    "lenName": 16,
    "lenType": 16,
    "lenVar": 40
   },
   "kernels_config": {
    "python": {
     "delete_cmd_postfix": "",
     "delete_cmd_prefix": "del ",
     "library": "var_list.py",
     "varRefreshCmd": "print(var_dic_list())"
    },
    "r": {
     "delete_cmd_postfix": ") ",
     "delete_cmd_prefix": "rm(",
     "library": "var_list.r",
     "varRefreshCmd": "cat(var_dic_list()) "
    }
   },
   "types_to_exclude": [
    "module",
    "function",
    "builtin_function_or_method",
    "instance",
    "_Feature"
   ],
   "window_display": false
  }
 },
 "nbformat": 4,
 "nbformat_minor": 2
}
